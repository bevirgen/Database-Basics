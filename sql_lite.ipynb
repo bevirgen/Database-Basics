{
 "cells": [
  {
   "cell_type": "markdown",
   "metadata": {},
   "source": [
    "# JupyterLab Connection Settings"
   ]
  },
  {
   "cell_type": "code",
   "execution_count": 107,
   "metadata": {},
   "outputs": [],
   "source": [
    "# %! pip install --trusted-host pypi.org ipython-sql"
   ]
  },
  {
   "cell_type": "code",
   "execution_count": 108,
   "metadata": {},
   "outputs": [
    {
     "name": "stdout",
     "output_type": "stream",
     "text": [
      "The sql extension is already loaded. To reload it, use:\n",
      "  %reload_ext sql\n"
     ]
    }
   ],
   "source": [
    "%load_ext sql"
   ]
  },
  {
   "cell_type": "code",
   "execution_count": 109,
   "metadata": {},
   "outputs": [
    {
     "data": {
      "text/plain": [
       "'Connected: @DB_practice.db'"
      ]
     },
     "execution_count": 109,
     "metadata": {},
     "output_type": "execute_result"
    }
   ],
   "source": [
    "%sql sqlite:///DB_practice.db"
   ]
  },
  {
   "cell_type": "code",
   "execution_count": 110,
   "metadata": {},
   "outputs": [
    {
     "name": "stdout",
     "output_type": "stream",
     "text": [
      " * sqlite:///DB_practice.db\n",
      "Done.\n"
     ]
    },
    {
     "data": {
      "text/html": [
       "<table>\n",
       "    <tr>\n",
       "        <th>CustomerID</th>\n",
       "        <th>CustomerName</th>\n",
       "        <th>ContactName</th>\n",
       "        <th>Address</th>\n",
       "        <th>City</th>\n",
       "        <th>PostalCode</th>\n",
       "        <th>Country</th>\n",
       "    </tr>\n",
       "    <tr>\n",
       "        <td>1</td>\n",
       "        <td>Alfreds Futterkiste</td>\n",
       "        <td>Maria Anders</td>\n",
       "        <td>Obere Str. 57</td>\n",
       "        <td>Berlin</td>\n",
       "        <td>12209</td>\n",
       "        <td>Germany</td>\n",
       "    </tr>\n",
       "    <tr>\n",
       "        <td>2</td>\n",
       "        <td>Ana Trujillo Emparedados y helados</td>\n",
       "        <td>Ana Trujillo</td>\n",
       "        <td>Avda. de la Constitución 2222</td>\n",
       "        <td>México D.F.</td>\n",
       "        <td>5021</td>\n",
       "        <td>Mexico</td>\n",
       "    </tr>\n",
       "    <tr>\n",
       "        <td>3</td>\n",
       "        <td>Antonio Moreno Taquería</td>\n",
       "        <td>Antonio Moreno</td>\n",
       "        <td>Mataderos 2312</td>\n",
       "        <td>México D.F.</td>\n",
       "        <td>5023</td>\n",
       "        <td>Mexico</td>\n",
       "    </tr>\n",
       "</table>"
      ],
      "text/plain": [
       "[(1, 'Alfreds Futterkiste', 'Maria Anders', 'Obere Str. 57', 'Berlin', '12209', 'Germany'),\n",
       " (2, 'Ana Trujillo Emparedados y helados', 'Ana Trujillo', 'Avda. de la Constitución 2222', 'México D.F.', '5021', 'Mexico'),\n",
       " (3, 'Antonio Moreno Taquería', 'Antonio Moreno', 'Mataderos 2312', 'México D.F.', '5023', 'Mexico')]"
      ]
     },
     "execution_count": 110,
     "metadata": {},
     "output_type": "execute_result"
    }
   ],
   "source": [
    "%%sql\n",
    "SELECT * FROM Customers LIMIT 3;"
   ]
  },
  {
   "cell_type": "markdown",
   "metadata": {},
   "source": [
    "# Manuel Table Creation Transactions"
   ]
  },
  {
   "cell_type": "code",
   "execution_count": 58,
   "metadata": {},
   "outputs": [
    {
     "data": {
      "text/plain": [
       "'%%sql\\nCREATE TABLE new_table(firstname varchar(20),\\n                       lastname varchar(20))'"
      ]
     },
     "execution_count": 58,
     "metadata": {},
     "output_type": "execute_result"
    }
   ],
   "source": [
    "\"\"\"%%sql\n",
    "CREATE TABLE new_table(firstname varchar(20),\n",
    "                       lastname varchar(20))\"\"\""
   ]
  },
  {
   "cell_type": "code",
   "execution_count": 59,
   "metadata": {},
   "outputs": [
    {
     "data": {
      "text/plain": [
       "\"%%sql\\nINSERT INTO new_table values('Ali', 'Go_to_the_Space')\""
      ]
     },
     "execution_count": 59,
     "metadata": {},
     "output_type": "execute_result"
    }
   ],
   "source": [
    "\"\"\"%%sql\n",
    "INSERT INTO new_table values('Ali', 'Go_to_the_Space')\"\"\""
   ]
  },
  {
   "cell_type": "code",
   "execution_count": 60,
   "metadata": {},
   "outputs": [
    {
     "name": "stdout",
     "output_type": "stream",
     "text": [
      " * sqlite:///DB_practice.db\n",
      "Done.\n"
     ]
    },
    {
     "data": {
      "text/html": [
       "<table>\n",
       "    <tr>\n",
       "        <th>firstname</th>\n",
       "        <th>lastname</th>\n",
       "    </tr>\n",
       "    <tr>\n",
       "        <td>Berkay</td>\n",
       "        <td>Surname</td>\n",
       "    </tr>\n",
       "    <tr>\n",
       "        <td>Ali</td>\n",
       "        <td>Go_to_the_Space</td>\n",
       "    </tr>\n",
       "</table>"
      ],
      "text/plain": [
       "[('Berkay', 'Surname'), ('Ali', 'Go_to_the_Space')]"
      ]
     },
     "execution_count": 60,
     "metadata": {},
     "output_type": "execute_result"
    }
   ],
   "source": [
    "%%sql\n",
    "SELECT * FROM new_table;"
   ]
  },
  {
   "cell_type": "code",
   "execution_count": 61,
   "metadata": {},
   "outputs": [
    {
     "data": {
      "text/plain": [
       "\"%%sql\\nINSERT INTO new_table values('Jale', 'Drink_Milk')\""
      ]
     },
     "execution_count": 61,
     "metadata": {},
     "output_type": "execute_result"
    }
   ],
   "source": [
    "\"\"\"%%sql\n",
    "INSERT INTO new_table values('Jale', 'Drink_Milk')\"\"\""
   ]
  },
  {
   "cell_type": "code",
   "execution_count": 62,
   "metadata": {},
   "outputs": [
    {
     "name": "stdout",
     "output_type": "stream",
     "text": [
      " * sqlite:///DB_practice.db\n",
      "Done.\n"
     ]
    },
    {
     "data": {
      "text/html": [
       "<table>\n",
       "    <tr>\n",
       "        <th>firstname</th>\n",
       "        <th>lastname</th>\n",
       "    </tr>\n",
       "    <tr>\n",
       "        <td>Berkay</td>\n",
       "        <td>Surname</td>\n",
       "    </tr>\n",
       "    <tr>\n",
       "        <td>Ali</td>\n",
       "        <td>Go_to_the_Space</td>\n",
       "    </tr>\n",
       "</table>"
      ],
      "text/plain": [
       "[('Berkay', 'Surname'), ('Ali', 'Go_to_the_Space')]"
      ]
     },
     "execution_count": 62,
     "metadata": {},
     "output_type": "execute_result"
    }
   ],
   "source": [
    "%%sql\n",
    "SELECT * FROM new_table;"
   ]
  },
  {
   "cell_type": "markdown",
   "metadata": {},
   "source": [
    "# SELECT Transactions"
   ]
  },
  {
   "cell_type": "code",
   "execution_count": 63,
   "metadata": {},
   "outputs": [
    {
     "name": "stdout",
     "output_type": "stream",
     "text": [
      " * sqlite:///DB_practice.db\n",
      "Done.\n"
     ]
    },
    {
     "data": {
      "text/html": [
       "<table>\n",
       "    <tr>\n",
       "        <th>ProductID</th>\n",
       "        <th>ProductName</th>\n",
       "        <th>SupplierID</th>\n",
       "        <th>CategoryID</th>\n",
       "        <th>Unit</th>\n",
       "        <th>Price</th>\n",
       "    </tr>\n",
       "    <tr>\n",
       "        <td>1</td>\n",
       "        <td>Chais</td>\n",
       "        <td>1</td>\n",
       "        <td>1</td>\n",
       "        <td>10 boxes x 20 bags</td>\n",
       "        <td>18</td>\n",
       "    </tr>\n",
       "    <tr>\n",
       "        <td>2</td>\n",
       "        <td>Chang</td>\n",
       "        <td>1</td>\n",
       "        <td>1</td>\n",
       "        <td>24 - 12 oz bottles</td>\n",
       "        <td>19</td>\n",
       "    </tr>\n",
       "    <tr>\n",
       "        <td>3</td>\n",
       "        <td>Aniseed Syrup</td>\n",
       "        <td>1</td>\n",
       "        <td>2</td>\n",
       "        <td>12 - 550 ml bottles</td>\n",
       "        <td>10</td>\n",
       "    </tr>\n",
       "    <tr>\n",
       "        <td>4</td>\n",
       "        <td>Chef Anton&#x27;s Cajun Seasoning</td>\n",
       "        <td>2</td>\n",
       "        <td>2</td>\n",
       "        <td>48 - 6 oz jars</td>\n",
       "        <td>22</td>\n",
       "    </tr>\n",
       "    <tr>\n",
       "        <td>5</td>\n",
       "        <td>Chef Anton&#x27;s Gumbo Mix</td>\n",
       "        <td>2</td>\n",
       "        <td>2</td>\n",
       "        <td>36 boxes</td>\n",
       "        <td>21</td>\n",
       "    </tr>\n",
       "</table>"
      ],
      "text/plain": [
       "[(1, 'Chais', 1, 1, '10 boxes x 20 bags', 18),\n",
       " (2, 'Chang', 1, 1, '24 - 12 oz bottles', 19),\n",
       " (3, 'Aniseed Syrup', 1, 2, '12 - 550 ml bottles', 10),\n",
       " (4, \"Chef Anton's Cajun Seasoning\", 2, 2, '48 - 6 oz jars', 22),\n",
       " (5, \"Chef Anton's Gumbo Mix\", 2, 2, '36 boxes', 21)]"
      ]
     },
     "execution_count": 63,
     "metadata": {},
     "output_type": "execute_result"
    }
   ],
   "source": [
    "%%sql\n",
    "SELECT * FROM Products LIMIT 5;"
   ]
  },
  {
   "cell_type": "code",
   "execution_count": 64,
   "metadata": {},
   "outputs": [
    {
     "name": "stdout",
     "output_type": "stream",
     "text": [
      " * sqlite:///DB_practice.db\n",
      "Done.\n"
     ]
    },
    {
     "data": {
      "text/html": [
       "<table>\n",
       "    <tr>\n",
       "        <th>name</th>\n",
       "    </tr>\n",
       "    <tr>\n",
       "        <td>Products</td>\n",
       "    </tr>\n",
       "    <tr>\n",
       "        <td>Categories</td>\n",
       "    </tr>\n",
       "    <tr>\n",
       "        <td>Customers</td>\n",
       "    </tr>\n",
       "    <tr>\n",
       "        <td>Employees</td>\n",
       "    </tr>\n",
       "    <tr>\n",
       "        <td>OrderDetails</td>\n",
       "    </tr>\n",
       "    <tr>\n",
       "        <td>Orders</td>\n",
       "    </tr>\n",
       "    <tr>\n",
       "        <td>Shippers</td>\n",
       "    </tr>\n",
       "    <tr>\n",
       "        <td>Suppliers</td>\n",
       "    </tr>\n",
       "    <tr>\n",
       "        <td>new_table</td>\n",
       "    </tr>\n",
       "</table>"
      ],
      "text/plain": [
       "[('Products',),\n",
       " ('Categories',),\n",
       " ('Customers',),\n",
       " ('Employees',),\n",
       " ('OrderDetails',),\n",
       " ('Orders',),\n",
       " ('Shippers',),\n",
       " ('Suppliers',),\n",
       " ('new_table',)]"
      ]
     },
     "execution_count": 64,
     "metadata": {},
     "output_type": "execute_result"
    }
   ],
   "source": [
    "%%sql\n",
    "SELECT name FROM sqlite_master WHERE type = 'table';"
   ]
  },
  {
   "cell_type": "code",
   "execution_count": 65,
   "metadata": {},
   "outputs": [
    {
     "name": "stdout",
     "output_type": "stream",
     "text": [
      " * sqlite:///DB_practice.db\n",
      "Done.\n"
     ]
    },
    {
     "data": {
      "text/html": [
       "<table>\n",
       "    <tr>\n",
       "        <th>CustomerID</th>\n",
       "        <th>CustomerName</th>\n",
       "        <th>ContactName</th>\n",
       "        <th>Address</th>\n",
       "        <th>City</th>\n",
       "        <th>PostalCode</th>\n",
       "        <th>Country</th>\n",
       "    </tr>\n",
       "</table>"
      ],
      "text/plain": [
       "[]"
      ]
     },
     "execution_count": 65,
     "metadata": {},
     "output_type": "execute_result"
    }
   ],
   "source": [
    "%%sql\n",
    "SELECT * FROM Customers where 1=0;"
   ]
  },
  {
   "cell_type": "code",
   "execution_count": 66,
   "metadata": {},
   "outputs": [
    {
     "name": "stdout",
     "output_type": "stream",
     "text": [
      " * sqlite:///DB_practice.db\n",
      "Done.\n"
     ]
    },
    {
     "data": {
      "text/html": [
       "<table>\n",
       "    <tr>\n",
       "        <th>CustomerName</th>\n",
       "        <th>Address</th>\n",
       "        <th>Country</th>\n",
       "    </tr>\n",
       "    <tr>\n",
       "        <td>Alfreds Futterkiste</td>\n",
       "        <td>Obere Str. 57</td>\n",
       "        <td>Germany</td>\n",
       "    </tr>\n",
       "    <tr>\n",
       "        <td>Ana Trujillo Emparedados y helados</td>\n",
       "        <td>Avda. de la Constitución 2222</td>\n",
       "        <td>Mexico</td>\n",
       "    </tr>\n",
       "    <tr>\n",
       "        <td>Antonio Moreno Taquería</td>\n",
       "        <td>Mataderos 2312</td>\n",
       "        <td>Mexico</td>\n",
       "    </tr>\n",
       "    <tr>\n",
       "        <td>Around the Horn</td>\n",
       "        <td>120 Hanover Sq.</td>\n",
       "        <td>UK</td>\n",
       "    </tr>\n",
       "    <tr>\n",
       "        <td>Berglunds snabbköp</td>\n",
       "        <td>Berguvsvägen 8</td>\n",
       "        <td>Sweden</td>\n",
       "    </tr>\n",
       "</table>"
      ],
      "text/plain": [
       "[('Alfreds Futterkiste', 'Obere Str. 57', 'Germany'),\n",
       " ('Ana Trujillo Emparedados y helados', 'Avda. de la Constitución 2222', 'Mexico'),\n",
       " ('Antonio Moreno Taquería', 'Mataderos 2312', 'Mexico'),\n",
       " ('Around the Horn', '120 Hanover Sq.', 'UK'),\n",
       " ('Berglunds snabbköp', 'Berguvsvägen 8', 'Sweden')]"
      ]
     },
     "execution_count": 66,
     "metadata": {},
     "output_type": "execute_result"
    }
   ],
   "source": [
    "%%sql\n",
    "SELECT CustomerName,Address,Country FROM Customers LIMIT 5;"
   ]
  },
  {
   "cell_type": "code",
   "execution_count": 67,
   "metadata": {},
   "outputs": [],
   "source": [
    "#mathematical transactions"
   ]
  },
  {
   "cell_type": "code",
   "execution_count": 68,
   "metadata": {},
   "outputs": [
    {
     "name": "stdout",
     "output_type": "stream",
     "text": [
      " * sqlite:///DB_practice.db\n",
      "Done.\n"
     ]
    },
    {
     "data": {
      "text/html": [
       "<table>\n",
       "    <tr>\n",
       "        <th>Price</th>\n",
       "        <th>Price*3</th>\n",
       "    </tr>\n",
       "    <tr>\n",
       "        <td>18</td>\n",
       "        <td>54</td>\n",
       "    </tr>\n",
       "    <tr>\n",
       "        <td>19</td>\n",
       "        <td>57</td>\n",
       "    </tr>\n",
       "    <tr>\n",
       "        <td>10</td>\n",
       "        <td>30</td>\n",
       "    </tr>\n",
       "    <tr>\n",
       "        <td>22</td>\n",
       "        <td>66</td>\n",
       "    </tr>\n",
       "    <tr>\n",
       "        <td>21</td>\n",
       "        <td>63</td>\n",
       "    </tr>\n",
       "</table>"
      ],
      "text/plain": [
       "[(18, 54), (19, 57), (10, 30), (22, 66), (21, 63)]"
      ]
     },
     "execution_count": 68,
     "metadata": {},
     "output_type": "execute_result"
    }
   ],
   "source": [
    "%%sql\n",
    "SELECT Price, Price*3 from Products LIMIT 5;"
   ]
  },
  {
   "cell_type": "code",
   "execution_count": 69,
   "metadata": {},
   "outputs": [
    {
     "name": "stdout",
     "output_type": "stream",
     "text": [
      " * sqlite:///DB_practice.db\n",
      "Done.\n"
     ]
    },
    {
     "data": {
      "text/html": [
       "<table>\n",
       "    <tr>\n",
       "        <th>Main_Price</th>\n",
       "        <th>Multiplied_3</th>\n",
       "    </tr>\n",
       "    <tr>\n",
       "        <td>18</td>\n",
       "        <td>54</td>\n",
       "    </tr>\n",
       "    <tr>\n",
       "        <td>19</td>\n",
       "        <td>57</td>\n",
       "    </tr>\n",
       "    <tr>\n",
       "        <td>10</td>\n",
       "        <td>30</td>\n",
       "    </tr>\n",
       "    <tr>\n",
       "        <td>22</td>\n",
       "        <td>66</td>\n",
       "    </tr>\n",
       "    <tr>\n",
       "        <td>21</td>\n",
       "        <td>63</td>\n",
       "    </tr>\n",
       "</table>"
      ],
      "text/plain": [
       "[(18, 54), (19, 57), (10, 30), (22, 66), (21, 63)]"
      ]
     },
     "execution_count": 69,
     "metadata": {},
     "output_type": "execute_result"
    }
   ],
   "source": [
    "%%sql\n",
    "SELECT Price AS Main_Price, Price *3 AS Multiplied_3 from Products LIMIT 5;"
   ]
  },
  {
   "cell_type": "code",
   "execution_count": 70,
   "metadata": {},
   "outputs": [],
   "source": [
    "#counting"
   ]
  },
  {
   "cell_type": "code",
   "execution_count": 71,
   "metadata": {},
   "outputs": [
    {
     "name": "stdout",
     "output_type": "stream",
     "text": [
      " * sqlite:///DB_practice.db\n",
      "Done.\n"
     ]
    },
    {
     "data": {
      "text/html": [
       "<table>\n",
       "    <tr>\n",
       "        <th>Row_Count</th>\n",
       "    </tr>\n",
       "    <tr>\n",
       "        <td>91</td>\n",
       "    </tr>\n",
       "</table>"
      ],
      "text/plain": [
       "[(91,)]"
      ]
     },
     "execution_count": 71,
     "metadata": {},
     "output_type": "execute_result"
    }
   ],
   "source": [
    "%%sql\n",
    "SELECT COUNT(*) AS Row_Count FROM Customers;"
   ]
  },
  {
   "cell_type": "code",
   "execution_count": 72,
   "metadata": {},
   "outputs": [
    {
     "name": "stdout",
     "output_type": "stream",
     "text": [
      " * sqlite:///DB_practice.db\n",
      "Done.\n"
     ]
    },
    {
     "data": {
      "text/html": [
       "<table>\n",
       "    <tr>\n",
       "        <th>ProductID</th>\n",
       "        <th>ProductName</th>\n",
       "        <th>SupplierID</th>\n",
       "        <th>CategoryID</th>\n",
       "        <th>Unit</th>\n",
       "        <th>Price</th>\n",
       "    </tr>\n",
       "    <tr>\n",
       "        <td>1</td>\n",
       "        <td>Chais</td>\n",
       "        <td>1</td>\n",
       "        <td>1</td>\n",
       "        <td>10 boxes x 20 bags</td>\n",
       "        <td>18</td>\n",
       "    </tr>\n",
       "    <tr>\n",
       "        <td>2</td>\n",
       "        <td>Chang</td>\n",
       "        <td>1</td>\n",
       "        <td>1</td>\n",
       "        <td>24 - 12 oz bottles</td>\n",
       "        <td>19</td>\n",
       "    </tr>\n",
       "    <tr>\n",
       "        <td>3</td>\n",
       "        <td>Aniseed Syrup</td>\n",
       "        <td>1</td>\n",
       "        <td>2</td>\n",
       "        <td>12 - 550 ml bottles</td>\n",
       "        <td>10</td>\n",
       "    </tr>\n",
       "</table>"
      ],
      "text/plain": [
       "[(1, 'Chais', 1, 1, '10 boxes x 20 bags', 18),\n",
       " (2, 'Chang', 1, 1, '24 - 12 oz bottles', 19),\n",
       " (3, 'Aniseed Syrup', 1, 2, '12 - 550 ml bottles', 10)]"
      ]
     },
     "execution_count": 72,
     "metadata": {},
     "output_type": "execute_result"
    }
   ],
   "source": [
    "%%sql\n",
    "SELECT * FROM Products LIMIT 3;"
   ]
  },
  {
   "cell_type": "code",
   "execution_count": 73,
   "metadata": {},
   "outputs": [
    {
     "name": "stdout",
     "output_type": "stream",
     "text": [
      " * sqlite:///DB_practice.db\n",
      "Done.\n"
     ]
    },
    {
     "data": {
      "text/html": [
       "<table>\n",
       "    <tr>\n",
       "        <th>ProductID</th>\n",
       "        <th>ProductName</th>\n",
       "        <th>SupplierID</th>\n",
       "        <th>CategoryID</th>\n",
       "        <th>Unit</th>\n",
       "        <th>Price</th>\n",
       "    </tr>\n",
       "    <tr>\n",
       "        <td>13</td>\n",
       "        <td>Konbu</td>\n",
       "        <td>6</td>\n",
       "        <td>8</td>\n",
       "        <td>2 kg box</td>\n",
       "        <td>6</td>\n",
       "    </tr>\n",
       "    <tr>\n",
       "        <td>52</td>\n",
       "        <td>Filo Mix</td>\n",
       "        <td>24</td>\n",
       "        <td>5</td>\n",
       "        <td>16 - 2 kg boxes</td>\n",
       "        <td>7</td>\n",
       "    </tr>\n",
       "    <tr>\n",
       "        <td>23</td>\n",
       "        <td>Tunnbröd</td>\n",
       "        <td>9</td>\n",
       "        <td>5</td>\n",
       "        <td>12 - 250 g pkgs.</td>\n",
       "        <td>9</td>\n",
       "    </tr>\n",
       "    <tr>\n",
       "        <td>3</td>\n",
       "        <td>Aniseed Syrup</td>\n",
       "        <td>1</td>\n",
       "        <td>2</td>\n",
       "        <td>12 - 550 ml bottles</td>\n",
       "        <td>10</td>\n",
       "    </tr>\n",
       "    <tr>\n",
       "        <td>21</td>\n",
       "        <td>Sir Rodney&#x27;s Scones</td>\n",
       "        <td>8</td>\n",
       "        <td>3</td>\n",
       "        <td>24 pkgs. x 4 pieces</td>\n",
       "        <td>10</td>\n",
       "    </tr>\n",
       "    <tr>\n",
       "        <td>74</td>\n",
       "        <td>Longlife Tofu</td>\n",
       "        <td>4</td>\n",
       "        <td>7</td>\n",
       "        <td>5 kg pkg.</td>\n",
       "        <td>10</td>\n",
       "    </tr>\n",
       "    <tr>\n",
       "        <td>46</td>\n",
       "        <td>Spegesild</td>\n",
       "        <td>21</td>\n",
       "        <td>8</td>\n",
       "        <td>4 - 450 g glasses</td>\n",
       "        <td>12</td>\n",
       "    </tr>\n",
       "    <tr>\n",
       "        <td>58</td>\n",
       "        <td>Escargots de Bourgogne</td>\n",
       "        <td>27</td>\n",
       "        <td>8</td>\n",
       "        <td>24 pieces</td>\n",
       "        <td>13</td>\n",
       "    </tr>\n",
       "    <tr>\n",
       "        <td>77</td>\n",
       "        <td>Original Frankfurter grüne Soße</td>\n",
       "        <td>12</td>\n",
       "        <td>2</td>\n",
       "        <td>12 boxes</td>\n",
       "        <td>13</td>\n",
       "    </tr>\n",
       "    <tr>\n",
       "        <td>25</td>\n",
       "        <td>NuNuCa Nuß-Nougat-Creme</td>\n",
       "        <td>11</td>\n",
       "        <td>3</td>\n",
       "        <td>20 - 450 g glasses</td>\n",
       "        <td>14</td>\n",
       "    </tr>\n",
       "    <tr>\n",
       "        <td>34</td>\n",
       "        <td>Sasquatch Ale</td>\n",
       "        <td>16</td>\n",
       "        <td>1</td>\n",
       "        <td>24 - 12 oz bottles</td>\n",
       "        <td>14</td>\n",
       "    </tr>\n",
       "    <tr>\n",
       "        <td>42</td>\n",
       "        <td>Singaporean Hokkien Fried Mee</td>\n",
       "        <td>20</td>\n",
       "        <td>5</td>\n",
       "        <td>32 - 1 kg pkgs.</td>\n",
       "        <td>14</td>\n",
       "    </tr>\n",
       "    <tr>\n",
       "        <td>67</td>\n",
       "        <td>Laughing Lumberjack Lager</td>\n",
       "        <td>16</td>\n",
       "        <td>1</td>\n",
       "        <td>24 - 12 oz bottles</td>\n",
       "        <td>14</td>\n",
       "    </tr>\n",
       "    <tr>\n",
       "        <td>70</td>\n",
       "        <td>Outback Lager</td>\n",
       "        <td>7</td>\n",
       "        <td>1</td>\n",
       "        <td>24 - 355 ml bottles</td>\n",
       "        <td>15</td>\n",
       "    </tr>\n",
       "    <tr>\n",
       "        <td>73</td>\n",
       "        <td>Röd Kaviar</td>\n",
       "        <td>17</td>\n",
       "        <td>8</td>\n",
       "        <td>24 - 150 g jars</td>\n",
       "        <td>15</td>\n",
       "    </tr>\n",
       "</table>"
      ],
      "text/plain": [
       "[(13, 'Konbu', 6, 8, '2 kg box', 6),\n",
       " (52, 'Filo Mix', 24, 5, '16 - 2 kg boxes', 7),\n",
       " (23, 'Tunnbröd', 9, 5, '12 - 250 g pkgs.', 9),\n",
       " (3, 'Aniseed Syrup', 1, 2, '12 - 550 ml bottles', 10),\n",
       " (21, \"Sir Rodney's Scones\", 8, 3, '24 pkgs. x 4 pieces', 10),\n",
       " (74, 'Longlife Tofu', 4, 7, '5 kg pkg.', 10),\n",
       " (46, 'Spegesild', 21, 8, '4 - 450 g glasses', 12),\n",
       " (58, 'Escargots de Bourgogne', 27, 8, '24 pieces', 13),\n",
       " (77, 'Original Frankfurter grüne Soße', 12, 2, '12 boxes', 13),\n",
       " (25, 'NuNuCa Nuß-Nougat-Creme', 11, 3, '20 - 450 g glasses', 14),\n",
       " (34, 'Sasquatch Ale', 16, 1, '24 - 12 oz bottles', 14),\n",
       " (42, 'Singaporean Hokkien Fried Mee', 20, 5, '32 - 1 kg pkgs.', 14),\n",
       " (67, 'Laughing Lumberjack Lager', 16, 1, '24 - 12 oz bottles', 14),\n",
       " (70, 'Outback Lager', 7, 1, '24 - 355 ml bottles', 15),\n",
       " (73, 'Röd Kaviar', 17, 8, '24 - 150 g jars', 15)]"
      ]
     },
     "execution_count": 73,
     "metadata": {},
     "output_type": "execute_result"
    }
   ],
   "source": [
    "%%sql\n",
    "SELECT * FROM Products ORDER BY Price LIMIT 15;"
   ]
  },
  {
   "cell_type": "code",
   "execution_count": 74,
   "metadata": {},
   "outputs": [
    {
     "name": "stdout",
     "output_type": "stream",
     "text": [
      " * sqlite:///DB_practice.db\n",
      "Done.\n"
     ]
    },
    {
     "data": {
      "text/html": [
       "<table>\n",
       "    <tr>\n",
       "        <th>ProductID</th>\n",
       "        <th>ProductName</th>\n",
       "        <th>SupplierID</th>\n",
       "        <th>CategoryID</th>\n",
       "        <th>Unit</th>\n",
       "        <th>Price</th>\n",
       "    </tr>\n",
       "    <tr>\n",
       "        <td>31</td>\n",
       "        <td>Gorgonzola Telino</td>\n",
       "        <td>14</td>\n",
       "        <td>4</td>\n",
       "        <td>12 - 100 g pkgs</td>\n",
       "        <td>435</td>\n",
       "    </tr>\n",
       "    <tr>\n",
       "        <td>38</td>\n",
       "        <td>Côte de Blaye</td>\n",
       "        <td>18</td>\n",
       "        <td>1</td>\n",
       "        <td>12 - 75 cl bottles</td>\n",
       "        <td>263</td>\n",
       "    </tr>\n",
       "    <tr>\n",
       "        <td>29</td>\n",
       "        <td>Thüringer Rostbratwurst</td>\n",
       "        <td>12</td>\n",
       "        <td>6</td>\n",
       "        <td>50 bags x 30 sausgs.</td>\n",
       "        <td>123</td>\n",
       "    </tr>\n",
       "    <tr>\n",
       "        <td>9</td>\n",
       "        <td>Mishi Kobe Niku</td>\n",
       "        <td>4</td>\n",
       "        <td>6</td>\n",
       "        <td>18 - 500 g pkgs.</td>\n",
       "        <td>97</td>\n",
       "    </tr>\n",
       "    <tr>\n",
       "        <td>20</td>\n",
       "        <td>Sir Rodney&#x27;s Marmalade</td>\n",
       "        <td>8</td>\n",
       "        <td>3</td>\n",
       "        <td>30 gift boxes</td>\n",
       "        <td>81</td>\n",
       "    </tr>\n",
       "    <tr>\n",
       "        <td>18</td>\n",
       "        <td>Carnarvon Tigers</td>\n",
       "        <td>7</td>\n",
       "        <td>8</td>\n",
       "        <td>16 kg pkg.</td>\n",
       "        <td>62</td>\n",
       "    </tr>\n",
       "    <tr>\n",
       "        <td>59</td>\n",
       "        <td>Raclette Courdavault</td>\n",
       "        <td>28</td>\n",
       "        <td>4</td>\n",
       "        <td>5 kg pkg.</td>\n",
       "        <td>55</td>\n",
       "    </tr>\n",
       "    <tr>\n",
       "        <td>51</td>\n",
       "        <td>Manjimup Dried Apples</td>\n",
       "        <td>24</td>\n",
       "        <td>7</td>\n",
       "        <td>50 - 300 g pkgs.</td>\n",
       "        <td>53</td>\n",
       "    </tr>\n",
       "    <tr>\n",
       "        <td>62</td>\n",
       "        <td>Tarte au sucre</td>\n",
       "        <td>29</td>\n",
       "        <td>3</td>\n",
       "        <td>48 pies</td>\n",
       "        <td>49</td>\n",
       "    </tr>\n",
       "    <tr>\n",
       "        <td>43</td>\n",
       "        <td>Ipoh Coffee</td>\n",
       "        <td>20</td>\n",
       "        <td>1</td>\n",
       "        <td>16 - 500 g tins</td>\n",
       "        <td>46</td>\n",
       "    </tr>\n",
       "    <tr>\n",
       "        <td>28</td>\n",
       "        <td>Rössle Sauerkraut</td>\n",
       "        <td>12</td>\n",
       "        <td>7</td>\n",
       "        <td>25 - 825 g cans</td>\n",
       "        <td>45</td>\n",
       "    </tr>\n",
       "    <tr>\n",
       "        <td>68</td>\n",
       "        <td>Scottish Longbreads</td>\n",
       "        <td>8</td>\n",
       "        <td>3</td>\n",
       "        <td>10 boxes x 8 pieces</td>\n",
       "        <td>45</td>\n",
       "    </tr>\n",
       "    <tr>\n",
       "        <td>15</td>\n",
       "        <td>Genen Shouyu</td>\n",
       "        <td>6</td>\n",
       "        <td>2</td>\n",
       "        <td>24 - 250 ml bottles</td>\n",
       "        <td>43</td>\n",
       "    </tr>\n",
       "    <tr>\n",
       "        <td>19</td>\n",
       "        <td>Teatime Chocolate Biscuits</td>\n",
       "        <td>8</td>\n",
       "        <td>3</td>\n",
       "        <td>10 boxes x 12 pieces</td>\n",
       "        <td>43</td>\n",
       "    </tr>\n",
       "    <tr>\n",
       "        <td>24</td>\n",
       "        <td>Guaraná Fantástica</td>\n",
       "        <td>10</td>\n",
       "        <td>1</td>\n",
       "        <td>12 - 355 ml cans</td>\n",
       "        <td>43</td>\n",
       "    </tr>\n",
       "</table>"
      ],
      "text/plain": [
       "[(31, 'Gorgonzola Telino', 14, 4, '12 - 100 g pkgs', 435),\n",
       " (38, 'Côte de Blaye', 18, 1, '12 - 75 cl bottles', 263),\n",
       " (29, 'Thüringer Rostbratwurst', 12, 6, '50 bags x 30 sausgs.', 123),\n",
       " (9, 'Mishi Kobe Niku', 4, 6, '18 - 500 g pkgs.', 97),\n",
       " (20, \"Sir Rodney's Marmalade\", 8, 3, '30 gift boxes', 81),\n",
       " (18, 'Carnarvon Tigers', 7, 8, '16 kg pkg.', 62),\n",
       " (59, 'Raclette Courdavault', 28, 4, '5 kg pkg.', 55),\n",
       " (51, 'Manjimup Dried Apples', 24, 7, '50 - 300 g pkgs.', 53),\n",
       " (62, 'Tarte au sucre', 29, 3, '48 pies', 49),\n",
       " (43, 'Ipoh Coffee', 20, 1, '16 - 500 g tins', 46),\n",
       " (28, 'Rössle Sauerkraut', 12, 7, '25 - 825 g cans', 45),\n",
       " (68, 'Scottish Longbreads', 8, 3, '10 boxes x 8 pieces', 45),\n",
       " (15, 'Genen Shouyu', 6, 2, '24 - 250 ml bottles', 43),\n",
       " (19, 'Teatime Chocolate Biscuits', 8, 3, '10 boxes x 12 pieces', 43),\n",
       " (24, 'Guaraná Fantástica', 10, 1, '12 - 355 ml cans', 43)]"
      ]
     },
     "execution_count": 74,
     "metadata": {},
     "output_type": "execute_result"
    }
   ],
   "source": [
    "%%sql\n",
    "SELECT * FROM Products ORDER BY Price DESC LIMIT 15;"
   ]
  },
  {
   "cell_type": "markdown",
   "metadata": {},
   "source": [
    "# WHERE"
   ]
  },
  {
   "cell_type": "code",
   "execution_count": 75,
   "metadata": {},
   "outputs": [
    {
     "name": "stdout",
     "output_type": "stream",
     "text": [
      " * sqlite:///DB_practice.db\n",
      "Done.\n"
     ]
    },
    {
     "data": {
      "text/html": [
       "<table>\n",
       "    <tr>\n",
       "        <th>CustomerID</th>\n",
       "        <th>CustomerName</th>\n",
       "        <th>ContactName</th>\n",
       "        <th>Address</th>\n",
       "        <th>City</th>\n",
       "        <th>PostalCode</th>\n",
       "        <th>Country</th>\n",
       "    </tr>\n",
       "    <tr>\n",
       "        <td>1</td>\n",
       "        <td>Alfreds Futterkiste</td>\n",
       "        <td>Maria Anders</td>\n",
       "        <td>Obere Str. 57</td>\n",
       "        <td>Berlin</td>\n",
       "        <td>12209</td>\n",
       "        <td>Germany</td>\n",
       "    </tr>\n",
       "    <tr>\n",
       "        <td>2</td>\n",
       "        <td>Ana Trujillo Emparedados y helados</td>\n",
       "        <td>Ana Trujillo</td>\n",
       "        <td>Avda. de la Constitución 2222</td>\n",
       "        <td>México D.F.</td>\n",
       "        <td>5021</td>\n",
       "        <td>Mexico</td>\n",
       "    </tr>\n",
       "    <tr>\n",
       "        <td>3</td>\n",
       "        <td>Antonio Moreno Taquería</td>\n",
       "        <td>Antonio Moreno</td>\n",
       "        <td>Mataderos 2312</td>\n",
       "        <td>México D.F.</td>\n",
       "        <td>5023</td>\n",
       "        <td>Mexico</td>\n",
       "    </tr>\n",
       "    <tr>\n",
       "        <td>4</td>\n",
       "        <td>Around the Horn</td>\n",
       "        <td>Thomas Hardy</td>\n",
       "        <td>120 Hanover Sq.</td>\n",
       "        <td>London</td>\n",
       "        <td>WA1 1DP</td>\n",
       "        <td>UK</td>\n",
       "    </tr>\n",
       "    <tr>\n",
       "        <td>5</td>\n",
       "        <td>Berglunds snabbköp</td>\n",
       "        <td>Christina Berglund</td>\n",
       "        <td>Berguvsvägen 8</td>\n",
       "        <td>Luleå</td>\n",
       "        <td>S-958 22</td>\n",
       "        <td>Sweden</td>\n",
       "    </tr>\n",
       "    <tr>\n",
       "        <td>6</td>\n",
       "        <td>Blauer See Delikatessen</td>\n",
       "        <td>Hanna Moos</td>\n",
       "        <td>Forsterstr. 57</td>\n",
       "        <td>Mannheim</td>\n",
       "        <td>68306</td>\n",
       "        <td>Germany</td>\n",
       "    </tr>\n",
       "    <tr>\n",
       "        <td>7</td>\n",
       "        <td>Blondel père et fils</td>\n",
       "        <td>Frédérique Citeaux</td>\n",
       "        <td>24, place Kléber</td>\n",
       "        <td>Strasbourg</td>\n",
       "        <td>67000</td>\n",
       "        <td>France</td>\n",
       "    </tr>\n",
       "    <tr>\n",
       "        <td>8</td>\n",
       "        <td>Bólido Comidas preparadas</td>\n",
       "        <td>Martín Sommer</td>\n",
       "        <td>C/ Araquil, 67</td>\n",
       "        <td>Madrid</td>\n",
       "        <td>28023</td>\n",
       "        <td>Spain</td>\n",
       "    </tr>\n",
       "    <tr>\n",
       "        <td>9</td>\n",
       "        <td>Bon app&#x27;</td>\n",
       "        <td>Laurence Lebihans</td>\n",
       "        <td>12, rue des Bouchers</td>\n",
       "        <td>Marseille</td>\n",
       "        <td>13008</td>\n",
       "        <td>France</td>\n",
       "    </tr>\n",
       "    <tr>\n",
       "        <td>10</td>\n",
       "        <td>Bottom-Dollar Marketse</td>\n",
       "        <td>Elizabeth Lincoln</td>\n",
       "        <td>23 Tsawassen Blvd.</td>\n",
       "        <td>Tsawassen</td>\n",
       "        <td>T2F 8M4</td>\n",
       "        <td>Canada</td>\n",
       "    </tr>\n",
       "</table>"
      ],
      "text/plain": [
       "[(1, 'Alfreds Futterkiste', 'Maria Anders', 'Obere Str. 57', 'Berlin', '12209', 'Germany'),\n",
       " (2, 'Ana Trujillo Emparedados y helados', 'Ana Trujillo', 'Avda. de la Constitución 2222', 'México D.F.', '5021', 'Mexico'),\n",
       " (3, 'Antonio Moreno Taquería', 'Antonio Moreno', 'Mataderos 2312', 'México D.F.', '5023', 'Mexico'),\n",
       " (4, 'Around the Horn', 'Thomas Hardy', '120 Hanover Sq.', 'London', 'WA1 1DP', 'UK'),\n",
       " (5, 'Berglunds snabbköp', 'Christina Berglund', 'Berguvsvägen 8', 'Luleå', 'S-958 22', 'Sweden'),\n",
       " (6, 'Blauer See Delikatessen', 'Hanna Moos', 'Forsterstr. 57', 'Mannheim', '68306', 'Germany'),\n",
       " (7, 'Blondel père et fils', 'Frédérique Citeaux', '24, place Kléber', 'Strasbourg', '67000', 'France'),\n",
       " (8, 'Bólido Comidas preparadas', 'Martín Sommer', 'C/ Araquil, 67', 'Madrid', '28023', 'Spain'),\n",
       " (9, \"Bon app'\", 'Laurence Lebihans', '12, rue des Bouchers', 'Marseille', '13008', 'France'),\n",
       " (10, 'Bottom-Dollar Marketse', 'Elizabeth Lincoln', '23 Tsawassen Blvd.', 'Tsawassen', 'T2F 8M4', 'Canada')]"
      ]
     },
     "execution_count": 75,
     "metadata": {},
     "output_type": "execute_result"
    }
   ],
   "source": [
    "%%sql\n",
    "SELECT * FROM Customers LIMIT 10;"
   ]
  },
  {
   "cell_type": "code",
   "execution_count": 76,
   "metadata": {},
   "outputs": [
    {
     "name": "stdout",
     "output_type": "stream",
     "text": [
      " * sqlite:///DB_practice.db\n",
      "Done.\n"
     ]
    },
    {
     "data": {
      "text/html": [
       "<table>\n",
       "    <tr>\n",
       "        <th>CustomerID</th>\n",
       "        <th>CustomerName</th>\n",
       "        <th>ContactName</th>\n",
       "        <th>Address</th>\n",
       "        <th>City</th>\n",
       "        <th>PostalCode</th>\n",
       "        <th>Country</th>\n",
       "    </tr>\n",
       "    <tr>\n",
       "        <td>5</td>\n",
       "        <td>Berglunds snabbköp</td>\n",
       "        <td>Christina Berglund</td>\n",
       "        <td>Berguvsvägen 8</td>\n",
       "        <td>Luleå</td>\n",
       "        <td>S-958 22</td>\n",
       "        <td>Sweden</td>\n",
       "    </tr>\n",
       "    <tr>\n",
       "        <td>24</td>\n",
       "        <td>Folk och fä HB</td>\n",
       "        <td>Maria Larsson</td>\n",
       "        <td>Åkergatan 24</td>\n",
       "        <td>Bräcke</td>\n",
       "        <td>S-844 67</td>\n",
       "        <td>Sweden</td>\n",
       "    </tr>\n",
       "</table>"
      ],
      "text/plain": [
       "[(5, 'Berglunds snabbköp', 'Christina Berglund', 'Berguvsvägen 8', 'Luleå', 'S-958 22', 'Sweden'),\n",
       " (24, 'Folk och fä HB', 'Maria Larsson', 'Åkergatan 24', 'Bräcke', 'S-844 67', 'Sweden')]"
      ]
     },
     "execution_count": 76,
     "metadata": {},
     "output_type": "execute_result"
    }
   ],
   "source": [
    "%%sql\n",
    "SELECT * FROM Customers WHERE Country = 'Sweden';"
   ]
  },
  {
   "cell_type": "code",
   "execution_count": 77,
   "metadata": {},
   "outputs": [
    {
     "name": "stdout",
     "output_type": "stream",
     "text": [
      " * sqlite:///DB_practice.db\n",
      "Done.\n"
     ]
    },
    {
     "data": {
      "text/html": [
       "<table>\n",
       "    <tr>\n",
       "        <th>CustomerID</th>\n",
       "        <th>CustomerName</th>\n",
       "        <th>ContactName</th>\n",
       "        <th>Address</th>\n",
       "        <th>City</th>\n",
       "        <th>PostalCode</th>\n",
       "        <th>Country</th>\n",
       "    </tr>\n",
       "    <tr>\n",
       "        <td>2</td>\n",
       "        <td>Ana Trujillo Emparedados y helados</td>\n",
       "        <td>Ana Trujillo</td>\n",
       "        <td>Avda. de la Constitución 2222</td>\n",
       "        <td>México D.F.</td>\n",
       "        <td>5021</td>\n",
       "        <td>Mexico</td>\n",
       "    </tr>\n",
       "    <tr>\n",
       "        <td>3</td>\n",
       "        <td>Antonio Moreno Taquería</td>\n",
       "        <td>Antonio Moreno</td>\n",
       "        <td>Mataderos 2312</td>\n",
       "        <td>México D.F.</td>\n",
       "        <td>5023</td>\n",
       "        <td>Mexico</td>\n",
       "    </tr>\n",
       "    <tr>\n",
       "        <td>4</td>\n",
       "        <td>Around the Horn</td>\n",
       "        <td>Thomas Hardy</td>\n",
       "        <td>120 Hanover Sq.</td>\n",
       "        <td>London</td>\n",
       "        <td>WA1 1DP</td>\n",
       "        <td>UK</td>\n",
       "    </tr>\n",
       "    <tr>\n",
       "        <td>5</td>\n",
       "        <td>Berglunds snabbköp</td>\n",
       "        <td>Christina Berglund</td>\n",
       "        <td>Berguvsvägen 8</td>\n",
       "        <td>Luleå</td>\n",
       "        <td>S-958 22</td>\n",
       "        <td>Sweden</td>\n",
       "    </tr>\n",
       "    <tr>\n",
       "        <td>6</td>\n",
       "        <td>Blauer See Delikatessen</td>\n",
       "        <td>Hanna Moos</td>\n",
       "        <td>Forsterstr. 57</td>\n",
       "        <td>Mannheim</td>\n",
       "        <td>68306</td>\n",
       "        <td>Germany</td>\n",
       "    </tr>\n",
       "    <tr>\n",
       "        <td>7</td>\n",
       "        <td>Blondel père et fils</td>\n",
       "        <td>Frédérique Citeaux</td>\n",
       "        <td>24, place Kléber</td>\n",
       "        <td>Strasbourg</td>\n",
       "        <td>67000</td>\n",
       "        <td>France</td>\n",
       "    </tr>\n",
       "    <tr>\n",
       "        <td>8</td>\n",
       "        <td>Bólido Comidas preparadas</td>\n",
       "        <td>Martín Sommer</td>\n",
       "        <td>C/ Araquil, 67</td>\n",
       "        <td>Madrid</td>\n",
       "        <td>28023</td>\n",
       "        <td>Spain</td>\n",
       "    </tr>\n",
       "    <tr>\n",
       "        <td>9</td>\n",
       "        <td>Bon app&#x27;</td>\n",
       "        <td>Laurence Lebihans</td>\n",
       "        <td>12, rue des Bouchers</td>\n",
       "        <td>Marseille</td>\n",
       "        <td>13008</td>\n",
       "        <td>France</td>\n",
       "    </tr>\n",
       "    <tr>\n",
       "        <td>10</td>\n",
       "        <td>Bottom-Dollar Marketse</td>\n",
       "        <td>Elizabeth Lincoln</td>\n",
       "        <td>23 Tsawassen Blvd.</td>\n",
       "        <td>Tsawassen</td>\n",
       "        <td>T2F 8M4</td>\n",
       "        <td>Canada</td>\n",
       "    </tr>\n",
       "    <tr>\n",
       "        <td>11</td>\n",
       "        <td>B&#x27;s Beverages</td>\n",
       "        <td>Victoria Ashworth</td>\n",
       "        <td>Fauntleroy Circus</td>\n",
       "        <td>London</td>\n",
       "        <td>EC2 5NT</td>\n",
       "        <td>UK</td>\n",
       "    </tr>\n",
       "</table>"
      ],
      "text/plain": [
       "[(2, 'Ana Trujillo Emparedados y helados', 'Ana Trujillo', 'Avda. de la Constitución 2222', 'México D.F.', '5021', 'Mexico'),\n",
       " (3, 'Antonio Moreno Taquería', 'Antonio Moreno', 'Mataderos 2312', 'México D.F.', '5023', 'Mexico'),\n",
       " (4, 'Around the Horn', 'Thomas Hardy', '120 Hanover Sq.', 'London', 'WA1 1DP', 'UK'),\n",
       " (5, 'Berglunds snabbköp', 'Christina Berglund', 'Berguvsvägen 8', 'Luleå', 'S-958 22', 'Sweden'),\n",
       " (6, 'Blauer See Delikatessen', 'Hanna Moos', 'Forsterstr. 57', 'Mannheim', '68306', 'Germany'),\n",
       " (7, 'Blondel père et fils', 'Frédérique Citeaux', '24, place Kléber', 'Strasbourg', '67000', 'France'),\n",
       " (8, 'Bólido Comidas preparadas', 'Martín Sommer', 'C/ Araquil, 67', 'Madrid', '28023', 'Spain'),\n",
       " (9, \"Bon app'\", 'Laurence Lebihans', '12, rue des Bouchers', 'Marseille', '13008', 'France'),\n",
       " (10, 'Bottom-Dollar Marketse', 'Elizabeth Lincoln', '23 Tsawassen Blvd.', 'Tsawassen', 'T2F 8M4', 'Canada'),\n",
       " (11, \"B's Beverages\", 'Victoria Ashworth', 'Fauntleroy Circus', 'London', 'EC2 5NT', 'UK')]"
      ]
     },
     "execution_count": 77,
     "metadata": {},
     "output_type": "execute_result"
    }
   ],
   "source": [
    "%%sql\n",
    "SELECT * FROM Customers WHERE NOT City = 'Berlin' LIMIT 10;"
   ]
  },
  {
   "cell_type": "code",
   "execution_count": 78,
   "metadata": {},
   "outputs": [],
   "source": [
    "# numeric choosing"
   ]
  },
  {
   "cell_type": "code",
   "execution_count": 79,
   "metadata": {},
   "outputs": [
    {
     "name": "stdout",
     "output_type": "stream",
     "text": [
      " * sqlite:///DB_practice.db\n",
      "Done.\n"
     ]
    },
    {
     "data": {
      "text/html": [
       "<table>\n",
       "    <tr>\n",
       "        <th>CustomerID</th>\n",
       "        <th>CustomerName</th>\n",
       "        <th>ContactName</th>\n",
       "        <th>Address</th>\n",
       "        <th>City</th>\n",
       "        <th>PostalCode</th>\n",
       "        <th>Country</th>\n",
       "    </tr>\n",
       "    <tr>\n",
       "        <td>2</td>\n",
       "        <td>Ana Trujillo Emparedados y helados</td>\n",
       "        <td>Ana Trujillo</td>\n",
       "        <td>Avda. de la Constitución 2222</td>\n",
       "        <td>México D.F.</td>\n",
       "        <td>5021</td>\n",
       "        <td>Mexico</td>\n",
       "    </tr>\n",
       "</table>"
      ],
      "text/plain": [
       "[(2, 'Ana Trujillo Emparedados y helados', 'Ana Trujillo', 'Avda. de la Constitución 2222', 'México D.F.', '5021', 'Mexico')]"
      ]
     },
     "execution_count": 79,
     "metadata": {},
     "output_type": "execute_result"
    }
   ],
   "source": [
    "%%sql\n",
    "SELECT * FROM Customers WHERE PostalCode = 5021;"
   ]
  },
  {
   "cell_type": "code",
   "execution_count": 80,
   "metadata": {},
   "outputs": [],
   "source": [
    "# and , or"
   ]
  },
  {
   "cell_type": "code",
   "execution_count": 81,
   "metadata": {},
   "outputs": [
    {
     "name": "stdout",
     "output_type": "stream",
     "text": [
      " * sqlite:///DB_practice.db\n",
      "Done.\n"
     ]
    },
    {
     "data": {
      "text/html": [
       "<table>\n",
       "    <tr>\n",
       "        <th>CustomerID</th>\n",
       "        <th>CustomerName</th>\n",
       "        <th>ContactName</th>\n",
       "        <th>Address</th>\n",
       "        <th>City</th>\n",
       "        <th>PostalCode</th>\n",
       "        <th>Country</th>\n",
       "    </tr>\n",
       "    <tr>\n",
       "        <td>4</td>\n",
       "        <td>Around the Horn</td>\n",
       "        <td>Thomas Hardy</td>\n",
       "        <td>120 Hanover Sq.</td>\n",
       "        <td>London</td>\n",
       "        <td>WA1 1DP</td>\n",
       "        <td>UK</td>\n",
       "    </tr>\n",
       "    <tr>\n",
       "        <td>11</td>\n",
       "        <td>B&#x27;s Beverages</td>\n",
       "        <td>Victoria Ashworth</td>\n",
       "        <td>Fauntleroy Circus</td>\n",
       "        <td>London</td>\n",
       "        <td>EC2 5NT</td>\n",
       "        <td>UK</td>\n",
       "    </tr>\n",
       "    <tr>\n",
       "        <td>16</td>\n",
       "        <td>Consolidated Holdings</td>\n",
       "        <td>Elizabeth Brown</td>\n",
       "        <td>Berkeley Gardens 12 Brewery</td>\n",
       "        <td>London</td>\n",
       "        <td>WX1 6LT</td>\n",
       "        <td>UK</td>\n",
       "    </tr>\n",
       "    <tr>\n",
       "        <td>19</td>\n",
       "        <td>Eastern Connection</td>\n",
       "        <td>Ann Devon</td>\n",
       "        <td>35 King George</td>\n",
       "        <td>London</td>\n",
       "        <td>WX3 6FW</td>\n",
       "        <td>UK</td>\n",
       "    </tr>\n",
       "    <tr>\n",
       "        <td>53</td>\n",
       "        <td>North/South</td>\n",
       "        <td>Simon Crowther</td>\n",
       "        <td>South House 300 Queensbridge</td>\n",
       "        <td>London</td>\n",
       "        <td>SW7 1RZ</td>\n",
       "        <td>UK</td>\n",
       "    </tr>\n",
       "    <tr>\n",
       "        <td>72</td>\n",
       "        <td>Seven Seas Imports</td>\n",
       "        <td>Hari Kumar</td>\n",
       "        <td>90 Wadhurst Rd.</td>\n",
       "        <td>London</td>\n",
       "        <td>OX15 4NB</td>\n",
       "        <td>UK</td>\n",
       "    </tr>\n",
       "</table>"
      ],
      "text/plain": [
       "[(4, 'Around the Horn', 'Thomas Hardy', '120 Hanover Sq.', 'London', 'WA1 1DP', 'UK'),\n",
       " (11, \"B's Beverages\", 'Victoria Ashworth', 'Fauntleroy Circus', 'London', 'EC2 5NT', 'UK'),\n",
       " (16, 'Consolidated Holdings', 'Elizabeth Brown', 'Berkeley Gardens 12 Brewery', 'London', 'WX1 6LT', 'UK'),\n",
       " (19, 'Eastern Connection', 'Ann Devon', '35 King George', 'London', 'WX3 6FW', 'UK'),\n",
       " (53, 'North/South', 'Simon Crowther', 'South House 300 Queensbridge', 'London', 'SW7 1RZ', 'UK'),\n",
       " (72, 'Seven Seas Imports', 'Hari Kumar', '90 Wadhurst Rd.', 'London', 'OX15 4NB', 'UK')]"
      ]
     },
     "execution_count": 81,
     "metadata": {},
     "output_type": "execute_result"
    }
   ],
   "source": [
    "%%sql\n",
    "SELECT * FROM Customers WHERE Country = 'UK' AND City = 'London';"
   ]
  },
  {
   "cell_type": "code",
   "execution_count": 82,
   "metadata": {},
   "outputs": [
    {
     "name": "stdout",
     "output_type": "stream",
     "text": [
      " * sqlite:///DB_practice.db\n",
      "Done.\n"
     ]
    },
    {
     "data": {
      "text/html": [
       "<table>\n",
       "    <tr>\n",
       "        <th>CustomerID</th>\n",
       "        <th>CustomerName</th>\n",
       "        <th>ContactName</th>\n",
       "        <th>Address</th>\n",
       "        <th>City</th>\n",
       "        <th>PostalCode</th>\n",
       "        <th>Country</th>\n",
       "    </tr>\n",
       "    <tr>\n",
       "        <td>4</td>\n",
       "        <td>Around the Horn</td>\n",
       "        <td>Thomas Hardy</td>\n",
       "        <td>120 Hanover Sq.</td>\n",
       "        <td>London</td>\n",
       "        <td>WA1 1DP</td>\n",
       "        <td>UK</td>\n",
       "    </tr>\n",
       "    <tr>\n",
       "        <td>11</td>\n",
       "        <td>B&#x27;s Beverages</td>\n",
       "        <td>Victoria Ashworth</td>\n",
       "        <td>Fauntleroy Circus</td>\n",
       "        <td>London</td>\n",
       "        <td>EC2 5NT</td>\n",
       "        <td>UK</td>\n",
       "    </tr>\n",
       "    <tr>\n",
       "        <td>16</td>\n",
       "        <td>Consolidated Holdings</td>\n",
       "        <td>Elizabeth Brown</td>\n",
       "        <td>Berkeley Gardens 12 Brewery</td>\n",
       "        <td>London</td>\n",
       "        <td>WX1 6LT</td>\n",
       "        <td>UK</td>\n",
       "    </tr>\n",
       "    <tr>\n",
       "        <td>19</td>\n",
       "        <td>Eastern Connection</td>\n",
       "        <td>Ann Devon</td>\n",
       "        <td>35 King George</td>\n",
       "        <td>London</td>\n",
       "        <td>WX3 6FW</td>\n",
       "        <td>UK</td>\n",
       "    </tr>\n",
       "    <tr>\n",
       "        <td>32</td>\n",
       "        <td>Great Lakes Food Market</td>\n",
       "        <td>Howard Snyder</td>\n",
       "        <td>2732 Baker Blvd.</td>\n",
       "        <td>Eugene</td>\n",
       "        <td>97403</td>\n",
       "        <td>USA</td>\n",
       "    </tr>\n",
       "    <tr>\n",
       "        <td>36</td>\n",
       "        <td>Hungry Coyote Import Store</td>\n",
       "        <td>Yoshi Latimer</td>\n",
       "        <td>City Center Plaza 516 Main St.</td>\n",
       "        <td>Elgin</td>\n",
       "        <td>97827</td>\n",
       "        <td>USA</td>\n",
       "    </tr>\n",
       "    <tr>\n",
       "        <td>38</td>\n",
       "        <td>Island Trading</td>\n",
       "        <td>Helen Bennett</td>\n",
       "        <td>Garden House Crowther Way</td>\n",
       "        <td>Cowes</td>\n",
       "        <td>PO31 7PJ</td>\n",
       "        <td>UK</td>\n",
       "    </tr>\n",
       "    <tr>\n",
       "        <td>43</td>\n",
       "        <td>Lazy K Kountry Store</td>\n",
       "        <td>John Steel</td>\n",
       "        <td>12 Orchestra Terrace</td>\n",
       "        <td>Walla Walla</td>\n",
       "        <td>99362</td>\n",
       "        <td>USA</td>\n",
       "    </tr>\n",
       "    <tr>\n",
       "        <td>45</td>\n",
       "        <td>Let&#x27;s Stop N Shop</td>\n",
       "        <td>Jaime Yorres</td>\n",
       "        <td>87 Polk St. Suite 5</td>\n",
       "        <td>San Francisco</td>\n",
       "        <td>94117</td>\n",
       "        <td>USA</td>\n",
       "    </tr>\n",
       "    <tr>\n",
       "        <td>48</td>\n",
       "        <td>Lonesome Pine Restaurant</td>\n",
       "        <td>Fran Wilson</td>\n",
       "        <td>89 Chiaroscuro Rd.</td>\n",
       "        <td>Portland</td>\n",
       "        <td>97219</td>\n",
       "        <td>USA</td>\n",
       "    </tr>\n",
       "    <tr>\n",
       "        <td>53</td>\n",
       "        <td>North/South</td>\n",
       "        <td>Simon Crowther</td>\n",
       "        <td>South House 300 Queensbridge</td>\n",
       "        <td>London</td>\n",
       "        <td>SW7 1RZ</td>\n",
       "        <td>UK</td>\n",
       "    </tr>\n",
       "    <tr>\n",
       "        <td>55</td>\n",
       "        <td>Old World Delicatessen</td>\n",
       "        <td>Rene Phillips</td>\n",
       "        <td>2743 Bering St.</td>\n",
       "        <td>Anchorage</td>\n",
       "        <td>99508</td>\n",
       "        <td>USA</td>\n",
       "    </tr>\n",
       "    <tr>\n",
       "        <td>65</td>\n",
       "        <td>Rattlesnake Canyon Grocery</td>\n",
       "        <td>Paula Wilson</td>\n",
       "        <td>2817 Milton Dr.</td>\n",
       "        <td>Albuquerque</td>\n",
       "        <td>87110</td>\n",
       "        <td>USA</td>\n",
       "    </tr>\n",
       "    <tr>\n",
       "        <td>71</td>\n",
       "        <td>Save-a-lot Markets</td>\n",
       "        <td>Jose Pavarotti</td>\n",
       "        <td>187 Suffolk Ln.</td>\n",
       "        <td>Boise</td>\n",
       "        <td>83720</td>\n",
       "        <td>USA</td>\n",
       "    </tr>\n",
       "    <tr>\n",
       "        <td>72</td>\n",
       "        <td>Seven Seas Imports</td>\n",
       "        <td>Hari Kumar</td>\n",
       "        <td>90 Wadhurst Rd.</td>\n",
       "        <td>London</td>\n",
       "        <td>OX15 4NB</td>\n",
       "        <td>UK</td>\n",
       "    </tr>\n",
       "    <tr>\n",
       "        <td>75</td>\n",
       "        <td>Split Rail Beer &amp; Ale</td>\n",
       "        <td>Art Braunschweiger</td>\n",
       "        <td>P.O. Box 555</td>\n",
       "        <td>Lander</td>\n",
       "        <td>82520</td>\n",
       "        <td>USA</td>\n",
       "    </tr>\n",
       "    <tr>\n",
       "        <td>77</td>\n",
       "        <td>The Big Cheese</td>\n",
       "        <td>Liz Nixon</td>\n",
       "        <td>89 Jefferson Way Suite 2</td>\n",
       "        <td>Portland</td>\n",
       "        <td>97201</td>\n",
       "        <td>USA</td>\n",
       "    </tr>\n",
       "    <tr>\n",
       "        <td>78</td>\n",
       "        <td>The Cracker Box</td>\n",
       "        <td>Liu Wong</td>\n",
       "        <td>55 Grizzly Peak Rd.</td>\n",
       "        <td>Butte</td>\n",
       "        <td>59801</td>\n",
       "        <td>USA</td>\n",
       "    </tr>\n",
       "    <tr>\n",
       "        <td>82</td>\n",
       "        <td>Trail&#x27;s Head Gourmet Provisioners</td>\n",
       "        <td>Helvetius Nagy</td>\n",
       "        <td>722 DaVinci Blvd.</td>\n",
       "        <td>Kirkland</td>\n",
       "        <td>98034</td>\n",
       "        <td>USA</td>\n",
       "    </tr>\n",
       "    <tr>\n",
       "        <td>89</td>\n",
       "        <td>White Clover Markets</td>\n",
       "        <td>Karl Jablonski</td>\n",
       "        <td>305 - 14th Ave. S. Suite 3B</td>\n",
       "        <td>Seattle</td>\n",
       "        <td>98128</td>\n",
       "        <td>USA</td>\n",
       "    </tr>\n",
       "</table>"
      ],
      "text/plain": [
       "[(4, 'Around the Horn', 'Thomas Hardy', '120 Hanover Sq.', 'London', 'WA1 1DP', 'UK'),\n",
       " (11, \"B's Beverages\", 'Victoria Ashworth', 'Fauntleroy Circus', 'London', 'EC2 5NT', 'UK'),\n",
       " (16, 'Consolidated Holdings', 'Elizabeth Brown', 'Berkeley Gardens 12 Brewery', 'London', 'WX1 6LT', 'UK'),\n",
       " (19, 'Eastern Connection', 'Ann Devon', '35 King George', 'London', 'WX3 6FW', 'UK'),\n",
       " (32, 'Great Lakes Food Market', 'Howard Snyder', '2732 Baker Blvd.', 'Eugene', '97403', 'USA'),\n",
       " (36, 'Hungry Coyote Import Store', 'Yoshi Latimer', 'City Center Plaza 516 Main St.', 'Elgin', '97827', 'USA'),\n",
       " (38, 'Island Trading', 'Helen Bennett', 'Garden House Crowther Way', 'Cowes', 'PO31 7PJ', 'UK'),\n",
       " (43, 'Lazy K Kountry Store', 'John Steel', '12 Orchestra Terrace', 'Walla Walla', '99362', 'USA'),\n",
       " (45, \"Let's Stop N Shop\", 'Jaime Yorres', '87 Polk St. Suite 5', 'San Francisco', '94117', 'USA'),\n",
       " (48, 'Lonesome Pine Restaurant', 'Fran Wilson', '89 Chiaroscuro Rd.', 'Portland', '97219', 'USA'),\n",
       " (53, 'North/South', 'Simon Crowther', 'South House 300 Queensbridge', 'London', 'SW7 1RZ', 'UK'),\n",
       " (55, 'Old World Delicatessen', 'Rene Phillips', '2743 Bering St.', 'Anchorage', '99508', 'USA'),\n",
       " (65, 'Rattlesnake Canyon Grocery', 'Paula Wilson', '2817 Milton Dr.', 'Albuquerque', '87110', 'USA'),\n",
       " (71, 'Save-a-lot Markets', 'Jose Pavarotti', '187 Suffolk Ln.', 'Boise', '83720', 'USA'),\n",
       " (72, 'Seven Seas Imports', 'Hari Kumar', '90 Wadhurst Rd.', 'London', 'OX15 4NB', 'UK'),\n",
       " (75, 'Split Rail Beer & Ale', 'Art Braunschweiger', 'P.O. Box 555', 'Lander', '82520', 'USA'),\n",
       " (77, 'The Big Cheese', 'Liz Nixon', '89 Jefferson Way Suite 2', 'Portland', '97201', 'USA'),\n",
       " (78, 'The Cracker Box', 'Liu Wong', '55 Grizzly Peak Rd.', 'Butte', '59801', 'USA'),\n",
       " (82, \"Trail's Head Gourmet Provisioners\", 'Helvetius Nagy', '722 DaVinci Blvd.', 'Kirkland', '98034', 'USA'),\n",
       " (89, 'White Clover Markets', 'Karl Jablonski', '305 - 14th Ave. S. Suite 3B', 'Seattle', '98128', 'USA')]"
      ]
     },
     "execution_count": 82,
     "metadata": {},
     "output_type": "execute_result"
    }
   ],
   "source": [
    "%%sql\n",
    "SELECT * FROM Customers WHERE Country = 'UK' OR Country='USA';"
   ]
  },
  {
   "cell_type": "code",
   "execution_count": 83,
   "metadata": {},
   "outputs": [
    {
     "name": "stdout",
     "output_type": "stream",
     "text": [
      " * sqlite:///DB_practice.db\n",
      "Done.\n"
     ]
    },
    {
     "data": {
      "text/html": [
       "<table>\n",
       "    <tr>\n",
       "        <th>CustomerID</th>\n",
       "        <th>CustomerName</th>\n",
       "        <th>ContactName</th>\n",
       "        <th>Address</th>\n",
       "        <th>City</th>\n",
       "        <th>PostalCode</th>\n",
       "        <th>Country</th>\n",
       "    </tr>\n",
       "    <tr>\n",
       "        <td>32</td>\n",
       "        <td>Great Lakes Food Market</td>\n",
       "        <td>Howard Snyder</td>\n",
       "        <td>2732 Baker Blvd.</td>\n",
       "        <td>Eugene</td>\n",
       "        <td>97403</td>\n",
       "        <td>USA</td>\n",
       "    </tr>\n",
       "    <tr>\n",
       "        <td>36</td>\n",
       "        <td>Hungry Coyote Import Store</td>\n",
       "        <td>Yoshi Latimer</td>\n",
       "        <td>City Center Plaza 516 Main St.</td>\n",
       "        <td>Elgin</td>\n",
       "        <td>97827</td>\n",
       "        <td>USA</td>\n",
       "    </tr>\n",
       "</table>"
      ],
      "text/plain": [
       "[(32, 'Great Lakes Food Market', 'Howard Snyder', '2732 Baker Blvd.', 'Eugene', '97403', 'USA'),\n",
       " (36, 'Hungry Coyote Import Store', 'Yoshi Latimer', 'City Center Plaza 516 Main St.', 'Elgin', '97827', 'USA')]"
      ]
     },
     "execution_count": 83,
     "metadata": {},
     "output_type": "execute_result"
    }
   ],
   "source": [
    "%%sql\n",
    "SELECT * FROM Customers WHERE Country = 'USA' AND (City = 'Eugene' OR City = 'Elgin');"
   ]
  },
  {
   "cell_type": "code",
   "execution_count": 84,
   "metadata": {},
   "outputs": [
    {
     "name": "stdout",
     "output_type": "stream",
     "text": [
      " * sqlite:///DB_practice.db\n",
      "Done.\n"
     ]
    },
    {
     "data": {
      "text/html": [
       "<table>\n",
       "    <tr>\n",
       "        <th>CustomerID</th>\n",
       "        <th>CustomerName</th>\n",
       "        <th>ContactName</th>\n",
       "        <th>Address</th>\n",
       "        <th>City</th>\n",
       "        <th>PostalCode</th>\n",
       "        <th>Country</th>\n",
       "    </tr>\n",
       "    <tr>\n",
       "        <td>32</td>\n",
       "        <td>Great Lakes Food Market</td>\n",
       "        <td>Howard Snyder</td>\n",
       "        <td>2732 Baker Blvd.</td>\n",
       "        <td>Eugene</td>\n",
       "        <td>97403</td>\n",
       "        <td>USA</td>\n",
       "    </tr>\n",
       "</table>"
      ],
      "text/plain": [
       "[(32, 'Great Lakes Food Market', 'Howard Snyder', '2732 Baker Blvd.', 'Eugene', '97403', 'USA')]"
      ]
     },
     "execution_count": 84,
     "metadata": {},
     "output_type": "execute_result"
    }
   ],
   "source": [
    "%%sql\n",
    "SELECT * FROM Customers WHERE Country = 'USA' AND PostalCode = 97403 AND (City = 'Eugene' OR City = 'Elgin');"
   ]
  },
  {
   "cell_type": "code",
   "execution_count": 85,
   "metadata": {},
   "outputs": [],
   "source": [
    "# in / not in use of"
   ]
  },
  {
   "cell_type": "code",
   "execution_count": 86,
   "metadata": {},
   "outputs": [
    {
     "name": "stdout",
     "output_type": "stream",
     "text": [
      " * sqlite:///DB_practice.db\n",
      "Done.\n"
     ]
    },
    {
     "data": {
      "text/html": [
       "<table>\n",
       "    <tr>\n",
       "        <th>CustomerID</th>\n",
       "        <th>CustomerName</th>\n",
       "        <th>ContactName</th>\n",
       "        <th>Address</th>\n",
       "        <th>City</th>\n",
       "        <th>PostalCode</th>\n",
       "        <th>Country</th>\n",
       "    </tr>\n",
       "    <tr>\n",
       "        <td>1</td>\n",
       "        <td>Alfreds Futterkiste</td>\n",
       "        <td>Maria Anders</td>\n",
       "        <td>Obere Str. 57</td>\n",
       "        <td>Berlin</td>\n",
       "        <td>12209</td>\n",
       "        <td>Germany</td>\n",
       "    </tr>\n",
       "    <tr>\n",
       "        <td>3</td>\n",
       "        <td>Antonio Moreno Taquería</td>\n",
       "        <td>Antonio Moreno</td>\n",
       "        <td>Mataderos 2312</td>\n",
       "        <td>México D.F.</td>\n",
       "        <td>5023</td>\n",
       "        <td>Mexico</td>\n",
       "    </tr>\n",
       "    <tr>\n",
       "        <td>5</td>\n",
       "        <td>Berglunds snabbköp</td>\n",
       "        <td>Christina Berglund</td>\n",
       "        <td>Berguvsvägen 8</td>\n",
       "        <td>Luleå</td>\n",
       "        <td>S-958 22</td>\n",
       "        <td>Sweden</td>\n",
       "    </tr>\n",
       "    <tr>\n",
       "        <td>7</td>\n",
       "        <td>Blondel père et fils</td>\n",
       "        <td>Frédérique Citeaux</td>\n",
       "        <td>24, place Kléber</td>\n",
       "        <td>Strasbourg</td>\n",
       "        <td>67000</td>\n",
       "        <td>France</td>\n",
       "    </tr>\n",
       "</table>"
      ],
      "text/plain": [
       "[(1, 'Alfreds Futterkiste', 'Maria Anders', 'Obere Str. 57', 'Berlin', '12209', 'Germany'),\n",
       " (3, 'Antonio Moreno Taquería', 'Antonio Moreno', 'Mataderos 2312', 'México D.F.', '5023', 'Mexico'),\n",
       " (5, 'Berglunds snabbköp', 'Christina Berglund', 'Berguvsvägen 8', 'Luleå', 'S-958 22', 'Sweden'),\n",
       " (7, 'Blondel père et fils', 'Frédérique Citeaux', '24, place Kléber', 'Strasbourg', '67000', 'France')]"
      ]
     },
     "execution_count": 86,
     "metadata": {},
     "output_type": "execute_result"
    }
   ],
   "source": [
    "%%sql\n",
    "SELECT * FROM Customers WHERE CustomerID in (1,3,5,7);"
   ]
  },
  {
   "cell_type": "code",
   "execution_count": 87,
   "metadata": {},
   "outputs": [
    {
     "name": "stdout",
     "output_type": "stream",
     "text": [
      " * sqlite:///DB_practice.db\n",
      "Done.\n"
     ]
    },
    {
     "data": {
      "text/html": [
       "<table>\n",
       "    <tr>\n",
       "        <th>CustomerID</th>\n",
       "        <th>CustomerName</th>\n",
       "        <th>ContactName</th>\n",
       "        <th>Address</th>\n",
       "        <th>City</th>\n",
       "        <th>PostalCode</th>\n",
       "        <th>Country</th>\n",
       "    </tr>\n",
       "    <tr>\n",
       "        <td>32</td>\n",
       "        <td>Great Lakes Food Market</td>\n",
       "        <td>Howard Snyder</td>\n",
       "        <td>2732 Baker Blvd.</td>\n",
       "        <td>Eugene</td>\n",
       "        <td>97403</td>\n",
       "        <td>USA</td>\n",
       "    </tr>\n",
       "    <tr>\n",
       "        <td>36</td>\n",
       "        <td>Hungry Coyote Import Store</td>\n",
       "        <td>Yoshi Latimer</td>\n",
       "        <td>City Center Plaza 516 Main St.</td>\n",
       "        <td>Elgin</td>\n",
       "        <td>97827</td>\n",
       "        <td>USA</td>\n",
       "    </tr>\n",
       "</table>"
      ],
      "text/plain": [
       "[(32, 'Great Lakes Food Market', 'Howard Snyder', '2732 Baker Blvd.', 'Eugene', '97403', 'USA'),\n",
       " (36, 'Hungry Coyote Import Store', 'Yoshi Latimer', 'City Center Plaza 516 Main St.', 'Elgin', '97827', 'USA')]"
      ]
     },
     "execution_count": 87,
     "metadata": {},
     "output_type": "execute_result"
    }
   ],
   "source": [
    "%%sql\n",
    "SELECT * FROM Customers WHERE Country = 'USA' AND City in('Eugene','Elgin');"
   ]
  },
  {
   "cell_type": "code",
   "execution_count": 88,
   "metadata": {},
   "outputs": [
    {
     "name": "stdout",
     "output_type": "stream",
     "text": [
      " * sqlite:///DB_practice.db\n",
      "Done.\n"
     ]
    },
    {
     "data": {
      "text/html": [
       "<table>\n",
       "    <tr>\n",
       "        <th>CustomerID</th>\n",
       "        <th>CustomerName</th>\n",
       "        <th>ContactName</th>\n",
       "        <th>Address</th>\n",
       "        <th>City</th>\n",
       "        <th>PostalCode</th>\n",
       "        <th>Country</th>\n",
       "    </tr>\n",
       "    <tr>\n",
       "        <td>43</td>\n",
       "        <td>Lazy K Kountry Store</td>\n",
       "        <td>John Steel</td>\n",
       "        <td>12 Orchestra Terrace</td>\n",
       "        <td>Walla Walla</td>\n",
       "        <td>99362</td>\n",
       "        <td>USA</td>\n",
       "    </tr>\n",
       "    <tr>\n",
       "        <td>45</td>\n",
       "        <td>Let&#x27;s Stop N Shop</td>\n",
       "        <td>Jaime Yorres</td>\n",
       "        <td>87 Polk St. Suite 5</td>\n",
       "        <td>San Francisco</td>\n",
       "        <td>94117</td>\n",
       "        <td>USA</td>\n",
       "    </tr>\n",
       "    <tr>\n",
       "        <td>48</td>\n",
       "        <td>Lonesome Pine Restaurant</td>\n",
       "        <td>Fran Wilson</td>\n",
       "        <td>89 Chiaroscuro Rd.</td>\n",
       "        <td>Portland</td>\n",
       "        <td>97219</td>\n",
       "        <td>USA</td>\n",
       "    </tr>\n",
       "    <tr>\n",
       "        <td>55</td>\n",
       "        <td>Old World Delicatessen</td>\n",
       "        <td>Rene Phillips</td>\n",
       "        <td>2743 Bering St.</td>\n",
       "        <td>Anchorage</td>\n",
       "        <td>99508</td>\n",
       "        <td>USA</td>\n",
       "    </tr>\n",
       "    <tr>\n",
       "        <td>65</td>\n",
       "        <td>Rattlesnake Canyon Grocery</td>\n",
       "        <td>Paula Wilson</td>\n",
       "        <td>2817 Milton Dr.</td>\n",
       "        <td>Albuquerque</td>\n",
       "        <td>87110</td>\n",
       "        <td>USA</td>\n",
       "    </tr>\n",
       "</table>"
      ],
      "text/plain": [
       "[(43, 'Lazy K Kountry Store', 'John Steel', '12 Orchestra Terrace', 'Walla Walla', '99362', 'USA'),\n",
       " (45, \"Let's Stop N Shop\", 'Jaime Yorres', '87 Polk St. Suite 5', 'San Francisco', '94117', 'USA'),\n",
       " (48, 'Lonesome Pine Restaurant', 'Fran Wilson', '89 Chiaroscuro Rd.', 'Portland', '97219', 'USA'),\n",
       " (55, 'Old World Delicatessen', 'Rene Phillips', '2743 Bering St.', 'Anchorage', '99508', 'USA'),\n",
       " (65, 'Rattlesnake Canyon Grocery', 'Paula Wilson', '2817 Milton Dr.', 'Albuquerque', '87110', 'USA')]"
      ]
     },
     "execution_count": 88,
     "metadata": {},
     "output_type": "execute_result"
    }
   ],
   "source": [
    "%%sql\n",
    "SELECT * FROM Customers WHERE Country = 'USA' AND City NOT IN ('Eugene','Elgin') LIMIT 5;"
   ]
  },
  {
   "cell_type": "markdown",
   "metadata": {},
   "source": [
    "# Choosing Transaction with LIKE"
   ]
  },
  {
   "cell_type": "markdown",
   "metadata": {},
   "source": [
    "* 'a%' : values are startswith 'a'\n",
    "* '%a' : values are endswith 'a'\n",
    "* %or%' : values are have “or” anywhere in phrase \n",
    "* '_r%' : values are have 'r' in second line\n",
    "* 'a%%' : values are startswith 'a' and at least 3 characters\n",
    "* 'a%o' : values are startswith 'a' and endswith'o'"
   ]
  },
  {
   "cell_type": "code",
   "execution_count": 89,
   "metadata": {},
   "outputs": [
    {
     "name": "stdout",
     "output_type": "stream",
     "text": [
      " * sqlite:///DB_practice.db\n",
      "Done.\n"
     ]
    },
    {
     "data": {
      "text/html": [
       "<table>\n",
       "    <tr>\n",
       "        <th>CustomerID</th>\n",
       "        <th>CustomerName</th>\n",
       "        <th>ContactName</th>\n",
       "        <th>Address</th>\n",
       "        <th>City</th>\n",
       "        <th>PostalCode</th>\n",
       "        <th>Country</th>\n",
       "    </tr>\n",
       "    <tr>\n",
       "        <td>1</td>\n",
       "        <td>Alfreds Futterkiste</td>\n",
       "        <td>Maria Anders</td>\n",
       "        <td>Obere Str. 57</td>\n",
       "        <td>Berlin</td>\n",
       "        <td>12209</td>\n",
       "        <td>Germany</td>\n",
       "    </tr>\n",
       "    <tr>\n",
       "        <td>2</td>\n",
       "        <td>Ana Trujillo Emparedados y helados</td>\n",
       "        <td>Ana Trujillo</td>\n",
       "        <td>Avda. de la Constitución 2222</td>\n",
       "        <td>México D.F.</td>\n",
       "        <td>5021</td>\n",
       "        <td>Mexico</td>\n",
       "    </tr>\n",
       "    <tr>\n",
       "        <td>3</td>\n",
       "        <td>Antonio Moreno Taquería</td>\n",
       "        <td>Antonio Moreno</td>\n",
       "        <td>Mataderos 2312</td>\n",
       "        <td>México D.F.</td>\n",
       "        <td>5023</td>\n",
       "        <td>Mexico</td>\n",
       "    </tr>\n",
       "    <tr>\n",
       "        <td>4</td>\n",
       "        <td>Around the Horn</td>\n",
       "        <td>Thomas Hardy</td>\n",
       "        <td>120 Hanover Sq.</td>\n",
       "        <td>London</td>\n",
       "        <td>WA1 1DP</td>\n",
       "        <td>UK</td>\n",
       "    </tr>\n",
       "    <tr>\n",
       "        <td>5</td>\n",
       "        <td>Berglunds snabbköp</td>\n",
       "        <td>Christina Berglund</td>\n",
       "        <td>Berguvsvägen 8</td>\n",
       "        <td>Luleå</td>\n",
       "        <td>S-958 22</td>\n",
       "        <td>Sweden</td>\n",
       "    </tr>\n",
       "    <tr>\n",
       "        <td>6</td>\n",
       "        <td>Blauer See Delikatessen</td>\n",
       "        <td>Hanna Moos</td>\n",
       "        <td>Forsterstr. 57</td>\n",
       "        <td>Mannheim</td>\n",
       "        <td>68306</td>\n",
       "        <td>Germany</td>\n",
       "    </tr>\n",
       "    <tr>\n",
       "        <td>7</td>\n",
       "        <td>Blondel père et fils</td>\n",
       "        <td>Frédérique Citeaux</td>\n",
       "        <td>24, place Kléber</td>\n",
       "        <td>Strasbourg</td>\n",
       "        <td>67000</td>\n",
       "        <td>France</td>\n",
       "    </tr>\n",
       "    <tr>\n",
       "        <td>8</td>\n",
       "        <td>Bólido Comidas preparadas</td>\n",
       "        <td>Martín Sommer</td>\n",
       "        <td>C/ Araquil, 67</td>\n",
       "        <td>Madrid</td>\n",
       "        <td>28023</td>\n",
       "        <td>Spain</td>\n",
       "    </tr>\n",
       "    <tr>\n",
       "        <td>9</td>\n",
       "        <td>Bon app&#x27;</td>\n",
       "        <td>Laurence Lebihans</td>\n",
       "        <td>12, rue des Bouchers</td>\n",
       "        <td>Marseille</td>\n",
       "        <td>13008</td>\n",
       "        <td>France</td>\n",
       "    </tr>\n",
       "    <tr>\n",
       "        <td>10</td>\n",
       "        <td>Bottom-Dollar Marketse</td>\n",
       "        <td>Elizabeth Lincoln</td>\n",
       "        <td>23 Tsawassen Blvd.</td>\n",
       "        <td>Tsawassen</td>\n",
       "        <td>T2F 8M4</td>\n",
       "        <td>Canada</td>\n",
       "    </tr>\n",
       "</table>"
      ],
      "text/plain": [
       "[(1, 'Alfreds Futterkiste', 'Maria Anders', 'Obere Str. 57', 'Berlin', '12209', 'Germany'),\n",
       " (2, 'Ana Trujillo Emparedados y helados', 'Ana Trujillo', 'Avda. de la Constitución 2222', 'México D.F.', '5021', 'Mexico'),\n",
       " (3, 'Antonio Moreno Taquería', 'Antonio Moreno', 'Mataderos 2312', 'México D.F.', '5023', 'Mexico'),\n",
       " (4, 'Around the Horn', 'Thomas Hardy', '120 Hanover Sq.', 'London', 'WA1 1DP', 'UK'),\n",
       " (5, 'Berglunds snabbköp', 'Christina Berglund', 'Berguvsvägen 8', 'Luleå', 'S-958 22', 'Sweden'),\n",
       " (6, 'Blauer See Delikatessen', 'Hanna Moos', 'Forsterstr. 57', 'Mannheim', '68306', 'Germany'),\n",
       " (7, 'Blondel père et fils', 'Frédérique Citeaux', '24, place Kléber', 'Strasbourg', '67000', 'France'),\n",
       " (8, 'Bólido Comidas preparadas', 'Martín Sommer', 'C/ Araquil, 67', 'Madrid', '28023', 'Spain'),\n",
       " (9, \"Bon app'\", 'Laurence Lebihans', '12, rue des Bouchers', 'Marseille', '13008', 'France'),\n",
       " (10, 'Bottom-Dollar Marketse', 'Elizabeth Lincoln', '23 Tsawassen Blvd.', 'Tsawassen', 'T2F 8M4', 'Canada')]"
      ]
     },
     "execution_count": 89,
     "metadata": {},
     "output_type": "execute_result"
    }
   ],
   "source": [
    "%%sql\n",
    "SELECT * FROM Customers LIMIT 10;"
   ]
  },
  {
   "cell_type": "code",
   "execution_count": 90,
   "metadata": {},
   "outputs": [
    {
     "name": "stdout",
     "output_type": "stream",
     "text": [
      " * sqlite:///DB_practice.db\n",
      "Done.\n"
     ]
    },
    {
     "data": {
      "text/html": [
       "<table>\n",
       "    <tr>\n",
       "        <th>CustomerID</th>\n",
       "        <th>CustomerName</th>\n",
       "        <th>ContactName</th>\n",
       "        <th>Address</th>\n",
       "        <th>City</th>\n",
       "        <th>PostalCode</th>\n",
       "        <th>Country</th>\n",
       "    </tr>\n",
       "    <tr>\n",
       "        <td>3</td>\n",
       "        <td>Antonio Moreno Taquería</td>\n",
       "        <td>Antonio Moreno</td>\n",
       "        <td>Mataderos 2312</td>\n",
       "        <td>México D.F.</td>\n",
       "        <td>5023</td>\n",
       "        <td>Mexico</td>\n",
       "    </tr>\n",
       "    <tr>\n",
       "        <td>4</td>\n",
       "        <td>Around the Horn</td>\n",
       "        <td>Thomas Hardy</td>\n",
       "        <td>120 Hanover Sq.</td>\n",
       "        <td>London</td>\n",
       "        <td>WA1 1DP</td>\n",
       "        <td>UK</td>\n",
       "    </tr>\n",
       "    <tr>\n",
       "        <td>36</td>\n",
       "        <td>Hungry Coyote Import Store</td>\n",
       "        <td>Yoshi Latimer</td>\n",
       "        <td>City Center Plaza 516 Main St.</td>\n",
       "        <td>Elgin</td>\n",
       "        <td>97827</td>\n",
       "        <td>USA</td>\n",
       "    </tr>\n",
       "    <tr>\n",
       "        <td>40</td>\n",
       "        <td>La corne d&#x27;abondance</td>\n",
       "        <td>Daniel Tonini</td>\n",
       "        <td>67, avenue de l&#x27;Europe</td>\n",
       "        <td>Versailles</td>\n",
       "        <td>78000</td>\n",
       "        <td>France</td>\n",
       "    </tr>\n",
       "    <tr>\n",
       "        <td>43</td>\n",
       "        <td>Lazy K Kountry Store</td>\n",
       "        <td>John Steel</td>\n",
       "        <td>12 Orchestra Terrace</td>\n",
       "        <td>Walla Walla</td>\n",
       "        <td>99362</td>\n",
       "        <td>USA</td>\n",
       "    </tr>\n",
       "    <tr>\n",
       "        <td>52</td>\n",
       "        <td>Morgenstern Gesundkost</td>\n",
       "        <td>Alexander Feuer</td>\n",
       "        <td>Heerstr. 22</td>\n",
       "        <td>Leipzig</td>\n",
       "        <td>4179</td>\n",
       "        <td>Germany</td>\n",
       "    </tr>\n",
       "    <tr>\n",
       "        <td>53</td>\n",
       "        <td>North/South</td>\n",
       "        <td>Simon Crowther</td>\n",
       "        <td>South House 300 Queensbridge</td>\n",
       "        <td>London</td>\n",
       "        <td>SW7 1RZ</td>\n",
       "        <td>UK</td>\n",
       "    </tr>\n",
       "    <tr>\n",
       "        <td>55</td>\n",
       "        <td>Old World Delicatessen</td>\n",
       "        <td>Rene Phillips</td>\n",
       "        <td>2743 Bering St.</td>\n",
       "        <td>Anchorage</td>\n",
       "        <td>99508</td>\n",
       "        <td>USA</td>\n",
       "    </tr>\n",
       "    <tr>\n",
       "        <td>72</td>\n",
       "        <td>Seven Seas Imports</td>\n",
       "        <td>Hari Kumar</td>\n",
       "        <td>90 Wadhurst Rd.</td>\n",
       "        <td>London</td>\n",
       "        <td>OX15 4NB</td>\n",
       "        <td>UK</td>\n",
       "    </tr>\n",
       "    <tr>\n",
       "        <td>80</td>\n",
       "        <td>Tortuga Restaurante</td>\n",
       "        <td>Miguel Angel Paolino</td>\n",
       "        <td>Avda. Azteca 123</td>\n",
       "        <td>México D.F.</td>\n",
       "        <td>5033</td>\n",
       "        <td>Mexico</td>\n",
       "    </tr>\n",
       "    <tr>\n",
       "        <td>88</td>\n",
       "        <td>Wellington Importadora</td>\n",
       "        <td>Paula Parente</td>\n",
       "        <td>Rua do Mercado, 12</td>\n",
       "        <td>Resende</td>\n",
       "        <td>08737-363</td>\n",
       "        <td>Brazil</td>\n",
       "    </tr>\n",
       "</table>"
      ],
      "text/plain": [
       "[(3, 'Antonio Moreno Taquería', 'Antonio Moreno', 'Mataderos 2312', 'México D.F.', '5023', 'Mexico'),\n",
       " (4, 'Around the Horn', 'Thomas Hardy', '120 Hanover Sq.', 'London', 'WA1 1DP', 'UK'),\n",
       " (36, 'Hungry Coyote Import Store', 'Yoshi Latimer', 'City Center Plaza 516 Main St.', 'Elgin', '97827', 'USA'),\n",
       " (40, \"La corne d'abondance\", 'Daniel Tonini', \"67, avenue de l'Europe\", 'Versailles', '78000', 'France'),\n",
       " (43, 'Lazy K Kountry Store', 'John Steel', '12 Orchestra Terrace', 'Walla Walla', '99362', 'USA'),\n",
       " (52, 'Morgenstern Gesundkost', 'Alexander Feuer', 'Heerstr. 22', 'Leipzig', '4179', 'Germany'),\n",
       " (53, 'North/South', 'Simon Crowther', 'South House 300 Queensbridge', 'London', 'SW7 1RZ', 'UK'),\n",
       " (55, 'Old World Delicatessen', 'Rene Phillips', '2743 Bering St.', 'Anchorage', '99508', 'USA'),\n",
       " (72, 'Seven Seas Imports', 'Hari Kumar', '90 Wadhurst Rd.', 'London', 'OX15 4NB', 'UK'),\n",
       " (80, 'Tortuga Restaurante', 'Miguel Angel Paolino', 'Avda. Azteca 123', 'México D.F.', '5033', 'Mexico'),\n",
       " (88, 'Wellington Importadora', 'Paula Parente', 'Rua do Mercado, 12', 'Resende', '08737-363', 'Brazil')]"
      ]
     },
     "execution_count": 90,
     "metadata": {},
     "output_type": "execute_result"
    }
   ],
   "source": [
    "%%sql\n",
    "SELECT * FROM Customers WHERE CustomerName LIKE '%or%';"
   ]
  },
  {
   "cell_type": "code",
   "execution_count": 91,
   "metadata": {},
   "outputs": [
    {
     "name": "stdout",
     "output_type": "stream",
     "text": [
      " * sqlite:///DB_practice.db\n",
      "Done.\n"
     ]
    },
    {
     "data": {
      "text/html": [
       "<table>\n",
       "    <tr>\n",
       "        <th>CustomerID</th>\n",
       "        <th>CustomerName</th>\n",
       "        <th>ContactName</th>\n",
       "        <th>Address</th>\n",
       "        <th>City</th>\n",
       "        <th>PostalCode</th>\n",
       "        <th>Country</th>\n",
       "    </tr>\n",
       "    <tr>\n",
       "        <td>3</td>\n",
       "        <td>Antonio Moreno Taquería</td>\n",
       "        <td>Antonio Moreno</td>\n",
       "        <td>Mataderos 2312</td>\n",
       "        <td>México D.F.</td>\n",
       "        <td>5023</td>\n",
       "        <td>Mexico</td>\n",
       "    </tr>\n",
       "    <tr>\n",
       "        <td>13</td>\n",
       "        <td>Centro comercial Moctezuma</td>\n",
       "        <td>Francisco Chang</td>\n",
       "        <td>Sierras de Granada 9993</td>\n",
       "        <td>México D.F.</td>\n",
       "        <td>5022</td>\n",
       "        <td>Mexico</td>\n",
       "    </tr>\n",
       "    <tr>\n",
       "        <td>30</td>\n",
       "        <td>Godos Cocina Típica</td>\n",
       "        <td>José Pedro Freyre</td>\n",
       "        <td>C/ Romero, 33</td>\n",
       "        <td>Sevilla</td>\n",
       "        <td>41101</td>\n",
       "        <td>Spain</td>\n",
       "    </tr>\n",
       "    <tr>\n",
       "        <td>61</td>\n",
       "        <td>Que Delícia</td>\n",
       "        <td>Bernardo Batista</td>\n",
       "        <td>Rua da Panificadora, 12</td>\n",
       "        <td>Rio de Janeiro</td>\n",
       "        <td>02389-673</td>\n",
       "        <td>Brazil</td>\n",
       "    </tr>\n",
       "    <tr>\n",
       "        <td>62</td>\n",
       "        <td>Queen Cozinha</td>\n",
       "        <td>Lúcia Carvalho</td>\n",
       "        <td>Alameda dos Canàrios, 891</td>\n",
       "        <td>São Paulo</td>\n",
       "        <td>05487-020</td>\n",
       "        <td>Brazil</td>\n",
       "    </tr>\n",
       "    <tr>\n",
       "        <td>88</td>\n",
       "        <td>Wellington Importadora</td>\n",
       "        <td>Paula Parente</td>\n",
       "        <td>Rua do Mercado, 12</td>\n",
       "        <td>Resende</td>\n",
       "        <td>08737-363</td>\n",
       "        <td>Brazil</td>\n",
       "    </tr>\n",
       "    <tr>\n",
       "        <td>90</td>\n",
       "        <td>Wilman Kala</td>\n",
       "        <td>Matti Karttunen</td>\n",
       "        <td>Keskuskatu 45</td>\n",
       "        <td>Helsinki</td>\n",
       "        <td>21240</td>\n",
       "        <td>Finland</td>\n",
       "    </tr>\n",
       "</table>"
      ],
      "text/plain": [
       "[(3, 'Antonio Moreno Taquería', 'Antonio Moreno', 'Mataderos 2312', 'México D.F.', '5023', 'Mexico'),\n",
       " (13, 'Centro comercial Moctezuma', 'Francisco Chang', 'Sierras de Granada 9993', 'México D.F.', '5022', 'Mexico'),\n",
       " (30, 'Godos Cocina Típica', 'José Pedro Freyre', 'C/ Romero, 33', 'Sevilla', '41101', 'Spain'),\n",
       " (61, 'Que Delícia', 'Bernardo Batista', 'Rua da Panificadora, 12', 'Rio de Janeiro', '02389-673', 'Brazil'),\n",
       " (62, 'Queen Cozinha', 'Lúcia Carvalho', 'Alameda dos Canàrios, 891', 'São Paulo', '05487-020', 'Brazil'),\n",
       " (88, 'Wellington Importadora', 'Paula Parente', 'Rua do Mercado, 12', 'Resende', '08737-363', 'Brazil'),\n",
       " (90, 'Wilman Kala', 'Matti Karttunen', 'Keskuskatu 45', 'Helsinki', '21240', 'Finland')]"
      ]
     },
     "execution_count": 91,
     "metadata": {},
     "output_type": "execute_result"
    }
   ],
   "source": [
    "%%sql\n",
    "SELECT * FROM Customers WHERE CustomerName LIKE '%a';"
   ]
  },
  {
   "cell_type": "code",
   "execution_count": 92,
   "metadata": {},
   "outputs": [
    {
     "name": "stdout",
     "output_type": "stream",
     "text": [
      " * sqlite:///DB_practice.db\n",
      "Done.\n"
     ]
    },
    {
     "data": {
      "text/html": [
       "<table>\n",
       "    <tr>\n",
       "        <th>CustomerID</th>\n",
       "        <th>CustomerName</th>\n",
       "        <th>ContactName</th>\n",
       "        <th>Address</th>\n",
       "        <th>City</th>\n",
       "        <th>PostalCode</th>\n",
       "        <th>Country</th>\n",
       "    </tr>\n",
       "    <tr>\n",
       "        <td>2</td>\n",
       "        <td>Ana Trujillo Emparedados y helados</td>\n",
       "        <td>Ana Trujillo</td>\n",
       "        <td>Avda. de la Constitución 2222</td>\n",
       "        <td>México D.F.</td>\n",
       "        <td>5021</td>\n",
       "        <td>Mexico</td>\n",
       "    </tr>\n",
       "    <tr>\n",
       "        <td>3</td>\n",
       "        <td>Antonio Moreno Taquería</td>\n",
       "        <td>Antonio Moreno</td>\n",
       "        <td>Mataderos 2312</td>\n",
       "        <td>México D.F.</td>\n",
       "        <td>5023</td>\n",
       "        <td>Mexico</td>\n",
       "    </tr>\n",
       "</table>"
      ],
      "text/plain": [
       "[(2, 'Ana Trujillo Emparedados y helados', 'Ana Trujillo', 'Avda. de la Constitución 2222', 'México D.F.', '5021', 'Mexico'),\n",
       " (3, 'Antonio Moreno Taquería', 'Antonio Moreno', 'Mataderos 2312', 'México D.F.', '5023', 'Mexico')]"
      ]
     },
     "execution_count": 92,
     "metadata": {},
     "output_type": "execute_result"
    }
   ],
   "source": [
    "%%sql\n",
    "SELECT * FROM Customers WHERE CustomerName LIKE 'A%' AND Country LIKE '%o';"
   ]
  },
  {
   "cell_type": "markdown",
   "metadata": {},
   "source": [
    "# BETWEEN"
   ]
  },
  {
   "cell_type": "code",
   "execution_count": 93,
   "metadata": {},
   "outputs": [
    {
     "name": "stdout",
     "output_type": "stream",
     "text": [
      " * sqlite:///DB_practice.db\n",
      "Done.\n"
     ]
    },
    {
     "data": {
      "text/html": [
       "<table>\n",
       "    <tr>\n",
       "        <th>ProductID</th>\n",
       "        <th>ProductName</th>\n",
       "        <th>SupplierID</th>\n",
       "        <th>CategoryID</th>\n",
       "        <th>Unit</th>\n",
       "        <th>Price</th>\n",
       "    </tr>\n",
       "    <tr>\n",
       "        <td>1</td>\n",
       "        <td>Chais</td>\n",
       "        <td>1</td>\n",
       "        <td>1</td>\n",
       "        <td>10 boxes x 20 bags</td>\n",
       "        <td>18</td>\n",
       "    </tr>\n",
       "    <tr>\n",
       "        <td>2</td>\n",
       "        <td>Chang</td>\n",
       "        <td>1</td>\n",
       "        <td>1</td>\n",
       "        <td>24 - 12 oz bottles</td>\n",
       "        <td>19</td>\n",
       "    </tr>\n",
       "    <tr>\n",
       "        <td>3</td>\n",
       "        <td>Aniseed Syrup</td>\n",
       "        <td>1</td>\n",
       "        <td>2</td>\n",
       "        <td>12 - 550 ml bottles</td>\n",
       "        <td>10</td>\n",
       "    </tr>\n",
       "    <tr>\n",
       "        <td>4</td>\n",
       "        <td>Chef Anton&#x27;s Cajun Seasoning</td>\n",
       "        <td>2</td>\n",
       "        <td>2</td>\n",
       "        <td>48 - 6 oz jars</td>\n",
       "        <td>22</td>\n",
       "    </tr>\n",
       "    <tr>\n",
       "        <td>5</td>\n",
       "        <td>Chef Anton&#x27;s Gumbo Mix</td>\n",
       "        <td>2</td>\n",
       "        <td>2</td>\n",
       "        <td>36 boxes</td>\n",
       "        <td>21</td>\n",
       "    </tr>\n",
       "    <tr>\n",
       "        <td>6</td>\n",
       "        <td>Grandma&#x27;s Boysenberry Spread</td>\n",
       "        <td>3</td>\n",
       "        <td>2</td>\n",
       "        <td>12 - 8 oz jars</td>\n",
       "        <td>25</td>\n",
       "    </tr>\n",
       "    <tr>\n",
       "        <td>7</td>\n",
       "        <td>Uncle Bob&#x27;s Organic Dried Pears</td>\n",
       "        <td>3</td>\n",
       "        <td>7</td>\n",
       "        <td>12 - 1 lb pkgs.</td>\n",
       "        <td>30</td>\n",
       "    </tr>\n",
       "    <tr>\n",
       "        <td>8</td>\n",
       "        <td>Northwoods Cranberry Sauce</td>\n",
       "        <td>3</td>\n",
       "        <td>2</td>\n",
       "        <td>12 - 12 oz jars</td>\n",
       "        <td>40</td>\n",
       "    </tr>\n",
       "    <tr>\n",
       "        <td>9</td>\n",
       "        <td>Mishi Kobe Niku</td>\n",
       "        <td>4</td>\n",
       "        <td>6</td>\n",
       "        <td>18 - 500 g pkgs.</td>\n",
       "        <td>97</td>\n",
       "    </tr>\n",
       "    <tr>\n",
       "        <td>10</td>\n",
       "        <td>Ikura</td>\n",
       "        <td>4</td>\n",
       "        <td>8</td>\n",
       "        <td>12 - 200 ml jars</td>\n",
       "        <td>31</td>\n",
       "    </tr>\n",
       "</table>"
      ],
      "text/plain": [
       "[(1, 'Chais', 1, 1, '10 boxes x 20 bags', 18),\n",
       " (2, 'Chang', 1, 1, '24 - 12 oz bottles', 19),\n",
       " (3, 'Aniseed Syrup', 1, 2, '12 - 550 ml bottles', 10),\n",
       " (4, \"Chef Anton's Cajun Seasoning\", 2, 2, '48 - 6 oz jars', 22),\n",
       " (5, \"Chef Anton's Gumbo Mix\", 2, 2, '36 boxes', 21),\n",
       " (6, \"Grandma's Boysenberry Spread\", 3, 2, '12 - 8 oz jars', 25),\n",
       " (7, \"Uncle Bob's Organic Dried Pears\", 3, 7, '12 - 1 lb pkgs.', 30),\n",
       " (8, 'Northwoods Cranberry Sauce', 3, 2, '12 - 12 oz jars', 40),\n",
       " (9, 'Mishi Kobe Niku', 4, 6, '18 - 500 g pkgs.', 97),\n",
       " (10, 'Ikura', 4, 8, '12 - 200 ml jars', 31)]"
      ]
     },
     "execution_count": 93,
     "metadata": {},
     "output_type": "execute_result"
    }
   ],
   "source": [
    "%%sql\n",
    "SELECT * FROM Products LIMIT 10;"
   ]
  },
  {
   "cell_type": "code",
   "execution_count": 94,
   "metadata": {},
   "outputs": [
    {
     "name": "stdout",
     "output_type": "stream",
     "text": [
      " * sqlite:///DB_practice.db\n",
      "Done.\n"
     ]
    },
    {
     "data": {
      "text/html": [
       "<table>\n",
       "    <tr>\n",
       "        <th>ProductID</th>\n",
       "        <th>ProductName</th>\n",
       "        <th>SupplierID</th>\n",
       "        <th>CategoryID</th>\n",
       "        <th>Unit</th>\n",
       "        <th>Price</th>\n",
       "    </tr>\n",
       "    <tr>\n",
       "        <td>4</td>\n",
       "        <td>Chef Anton&#x27;s Cajun Seasoning</td>\n",
       "        <td>2</td>\n",
       "        <td>2</td>\n",
       "        <td>48 - 6 oz jars</td>\n",
       "        <td>22</td>\n",
       "    </tr>\n",
       "    <tr>\n",
       "        <td>5</td>\n",
       "        <td>Chef Anton&#x27;s Gumbo Mix</td>\n",
       "        <td>2</td>\n",
       "        <td>2</td>\n",
       "        <td>36 boxes</td>\n",
       "        <td>21</td>\n",
       "    </tr>\n",
       "    <tr>\n",
       "        <td>6</td>\n",
       "        <td>Grandma&#x27;s Boysenberry Spread</td>\n",
       "        <td>3</td>\n",
       "        <td>2</td>\n",
       "        <td>12 - 8 oz jars</td>\n",
       "        <td>25</td>\n",
       "    </tr>\n",
       "    <tr>\n",
       "        <td>7</td>\n",
       "        <td>Uncle Bob&#x27;s Organic Dried Pears</td>\n",
       "        <td>3</td>\n",
       "        <td>7</td>\n",
       "        <td>12 - 1 lb pkgs.</td>\n",
       "        <td>30</td>\n",
       "    </tr>\n",
       "    <tr>\n",
       "        <td>8</td>\n",
       "        <td>Northwoods Cranberry Sauce</td>\n",
       "        <td>3</td>\n",
       "        <td>2</td>\n",
       "        <td>12 - 12 oz jars</td>\n",
       "        <td>40</td>\n",
       "    </tr>\n",
       "</table>"
      ],
      "text/plain": [
       "[(4, \"Chef Anton's Cajun Seasoning\", 2, 2, '48 - 6 oz jars', 22),\n",
       " (5, \"Chef Anton's Gumbo Mix\", 2, 2, '36 boxes', 21),\n",
       " (6, \"Grandma's Boysenberry Spread\", 3, 2, '12 - 8 oz jars', 25),\n",
       " (7, \"Uncle Bob's Organic Dried Pears\", 3, 7, '12 - 1 lb pkgs.', 30),\n",
       " (8, 'Northwoods Cranberry Sauce', 3, 2, '12 - 12 oz jars', 40)]"
      ]
     },
     "execution_count": 94,
     "metadata": {},
     "output_type": "execute_result"
    }
   ],
   "source": [
    "%%sql\n",
    "SELECT * FROM Products WHERE Price NOT BETWEEN 10 AND 20 LIMIT 5 ;"
   ]
  },
  {
   "cell_type": "code",
   "execution_count": 95,
   "metadata": {},
   "outputs": [
    {
     "name": "stdout",
     "output_type": "stream",
     "text": [
      " * sqlite:///DB_practice.db\n",
      "Done.\n"
     ]
    },
    {
     "data": {
      "text/html": [
       "<table>\n",
       "    <tr>\n",
       "        <th>ProductID</th>\n",
       "        <th>ProductName</th>\n",
       "        <th>SupplierID</th>\n",
       "        <th>CategoryID</th>\n",
       "        <th>Unit</th>\n",
       "        <th>Price</th>\n",
       "    </tr>\n",
       "    <tr>\n",
       "        <td>1</td>\n",
       "        <td>Chais</td>\n",
       "        <td>1</td>\n",
       "        <td>1</td>\n",
       "        <td>10 boxes x 20 bags</td>\n",
       "        <td>18</td>\n",
       "    </tr>\n",
       "    <tr>\n",
       "        <td>2</td>\n",
       "        <td>Chang</td>\n",
       "        <td>1</td>\n",
       "        <td>1</td>\n",
       "        <td>24 - 12 oz bottles</td>\n",
       "        <td>19</td>\n",
       "    </tr>\n",
       "    <tr>\n",
       "        <td>4</td>\n",
       "        <td>Chef Anton&#x27;s Cajun Seasoning</td>\n",
       "        <td>2</td>\n",
       "        <td>2</td>\n",
       "        <td>48 - 6 oz jars</td>\n",
       "        <td>22</td>\n",
       "    </tr>\n",
       "    <tr>\n",
       "        <td>5</td>\n",
       "        <td>Chef Anton&#x27;s Gumbo Mix</td>\n",
       "        <td>2</td>\n",
       "        <td>2</td>\n",
       "        <td>36 boxes</td>\n",
       "        <td>21</td>\n",
       "    </tr>\n",
       "    <tr>\n",
       "        <td>6</td>\n",
       "        <td>Grandma&#x27;s Boysenberry Spread</td>\n",
       "        <td>3</td>\n",
       "        <td>2</td>\n",
       "        <td>12 - 8 oz jars</td>\n",
       "        <td>25</td>\n",
       "    </tr>\n",
       "    <tr>\n",
       "        <td>7</td>\n",
       "        <td>Uncle Bob&#x27;s Organic Dried Pears</td>\n",
       "        <td>3</td>\n",
       "        <td>7</td>\n",
       "        <td>12 - 1 lb pkgs.</td>\n",
       "        <td>30</td>\n",
       "    </tr>\n",
       "    <tr>\n",
       "        <td>8</td>\n",
       "        <td>Northwoods Cranberry Sauce</td>\n",
       "        <td>3</td>\n",
       "        <td>2</td>\n",
       "        <td>12 - 12 oz jars</td>\n",
       "        <td>40</td>\n",
       "    </tr>\n",
       "    <tr>\n",
       "        <td>10</td>\n",
       "        <td>Ikura</td>\n",
       "        <td>4</td>\n",
       "        <td>8</td>\n",
       "        <td>12 - 200 ml jars</td>\n",
       "        <td>31</td>\n",
       "    </tr>\n",
       "    <tr>\n",
       "        <td>11</td>\n",
       "        <td>Queso Cabrales</td>\n",
       "        <td>5</td>\n",
       "        <td>4</td>\n",
       "        <td>1 kg pkg.</td>\n",
       "        <td>21</td>\n",
       "    </tr>\n",
       "    <tr>\n",
       "        <td>12</td>\n",
       "        <td>Queso Manchego La Pastora</td>\n",
       "        <td>5</td>\n",
       "        <td>4</td>\n",
       "        <td>10 - 500 g pkgs.</td>\n",
       "        <td>38</td>\n",
       "    </tr>\n",
       "</table>"
      ],
      "text/plain": [
       "[(1, 'Chais', 1, 1, '10 boxes x 20 bags', 18),\n",
       " (2, 'Chang', 1, 1, '24 - 12 oz bottles', 19),\n",
       " (4, \"Chef Anton's Cajun Seasoning\", 2, 2, '48 - 6 oz jars', 22),\n",
       " (5, \"Chef Anton's Gumbo Mix\", 2, 2, '36 boxes', 21),\n",
       " (6, \"Grandma's Boysenberry Spread\", 3, 2, '12 - 8 oz jars', 25),\n",
       " (7, \"Uncle Bob's Organic Dried Pears\", 3, 7, '12 - 1 lb pkgs.', 30),\n",
       " (8, 'Northwoods Cranberry Sauce', 3, 2, '12 - 12 oz jars', 40),\n",
       " (10, 'Ikura', 4, 8, '12 - 200 ml jars', 31),\n",
       " (11, 'Queso Cabrales', 5, 4, '1 kg pkg.', 21),\n",
       " (12, 'Queso Manchego La Pastora', 5, 4, '10 - 500 g pkgs.', 38)]"
      ]
     },
     "execution_count": 95,
     "metadata": {},
     "output_type": "execute_result"
    }
   ],
   "source": [
    "%%sql\n",
    "SELECT * FROM Products WHERE Price > 10 AND Price < 50 LIMIT 10;"
   ]
  },
  {
   "cell_type": "code",
   "execution_count": 96,
   "metadata": {},
   "outputs": [
    {
     "name": "stdout",
     "output_type": "stream",
     "text": [
      " * sqlite:///DB_practice.db\n",
      "Done.\n"
     ]
    },
    {
     "data": {
      "text/html": [
       "<table>\n",
       "    <tr>\n",
       "        <th>ProductID</th>\n",
       "        <th>ProductName</th>\n",
       "        <th>SupplierID</th>\n",
       "        <th>CategoryID</th>\n",
       "        <th>Unit</th>\n",
       "        <th>Price</th>\n",
       "    </tr>\n",
       "    <tr>\n",
       "        <td>36</td>\n",
       "        <td>Inlagd Sill</td>\n",
       "        <td>17</td>\n",
       "        <td>8</td>\n",
       "        <td>24 - 250 g jars</td>\n",
       "        <td>19</td>\n",
       "    </tr>\n",
       "    <tr>\n",
       "        <td>42</td>\n",
       "        <td>Singaporean Hokkien Fried Mee</td>\n",
       "        <td>20</td>\n",
       "        <td>5</td>\n",
       "        <td>32 - 1 kg pkgs.</td>\n",
       "        <td>14</td>\n",
       "    </tr>\n",
       "    <tr>\n",
       "        <td>46</td>\n",
       "        <td>Spegesild</td>\n",
       "        <td>21</td>\n",
       "        <td>8</td>\n",
       "        <td>4 - 450 g glasses</td>\n",
       "        <td>12</td>\n",
       "    </tr>\n",
       "    <tr>\n",
       "        <td>54</td>\n",
       "        <td>Tourtière</td>\n",
       "        <td>25</td>\n",
       "        <td>6</td>\n",
       "        <td>16 pies</td>\n",
       "        <td>16</td>\n",
       "    </tr>\n",
       "    <tr>\n",
       "        <td>58</td>\n",
       "        <td>Escargots de Bourgogne</td>\n",
       "        <td>27</td>\n",
       "        <td>8</td>\n",
       "        <td>24 pieces</td>\n",
       "        <td>13</td>\n",
       "    </tr>\n",
       "    <tr>\n",
       "        <td>73</td>\n",
       "        <td>Röd Kaviar</td>\n",
       "        <td>17</td>\n",
       "        <td>8</td>\n",
       "        <td>24 - 150 g jars</td>\n",
       "        <td>15</td>\n",
       "    </tr>\n",
       "    <tr>\n",
       "        <td>74</td>\n",
       "        <td>Longlife Tofu</td>\n",
       "        <td>4</td>\n",
       "        <td>7</td>\n",
       "        <td>5 kg pkg.</td>\n",
       "        <td>10</td>\n",
       "    </tr>\n",
       "</table>"
      ],
      "text/plain": [
       "[(36, 'Inlagd Sill', 17, 8, '24 - 250 g jars', 19),\n",
       " (42, 'Singaporean Hokkien Fried Mee', 20, 5, '32 - 1 kg pkgs.', 14),\n",
       " (46, 'Spegesild', 21, 8, '4 - 450 g glasses', 12),\n",
       " (54, 'Tourtière', 25, 6, '16 pies', 16),\n",
       " (58, 'Escargots de Bourgogne', 27, 8, '24 pieces', 13),\n",
       " (73, 'Röd Kaviar', 17, 8, '24 - 150 g jars', 15),\n",
       " (74, 'Longlife Tofu', 4, 7, '5 kg pkg.', 10)]"
      ]
     },
     "execution_count": 96,
     "metadata": {},
     "output_type": "execute_result"
    }
   ],
   "source": [
    "%%sql\n",
    "SELECT * FROM Products WHERE (Price BETWEEN 10 AND 20) AND NOT CategoryID IN(1,2,3);"
   ]
  },
  {
   "cell_type": "code",
   "execution_count": 97,
   "metadata": {},
   "outputs": [
    {
     "name": "stdout",
     "output_type": "stream",
     "text": [
      " * sqlite:///DB_practice.db\n",
      "Done.\n"
     ]
    },
    {
     "data": {
      "text/html": [
       "<table>\n",
       "    <tr>\n",
       "        <th>ProductName</th>\n",
       "        <th>CategoryID</th>\n",
       "    </tr>\n",
       "    <tr>\n",
       "        <td>Inlagd Sill</td>\n",
       "        <td>8</td>\n",
       "    </tr>\n",
       "    <tr>\n",
       "        <td>Singaporean Hokkien Fried Mee</td>\n",
       "        <td>5</td>\n",
       "    </tr>\n",
       "    <tr>\n",
       "        <td>Spegesild</td>\n",
       "        <td>8</td>\n",
       "    </tr>\n",
       "    <tr>\n",
       "        <td>Tourtière</td>\n",
       "        <td>6</td>\n",
       "    </tr>\n",
       "    <tr>\n",
       "        <td>Escargots de Bourgogne</td>\n",
       "        <td>8</td>\n",
       "    </tr>\n",
       "    <tr>\n",
       "        <td>Röd Kaviar</td>\n",
       "        <td>8</td>\n",
       "    </tr>\n",
       "    <tr>\n",
       "        <td>Longlife Tofu</td>\n",
       "        <td>7</td>\n",
       "    </tr>\n",
       "</table>"
      ],
      "text/plain": [
       "[('Inlagd Sill', 8),\n",
       " ('Singaporean Hokkien Fried Mee', 5),\n",
       " ('Spegesild', 8),\n",
       " ('Tourtière', 6),\n",
       " ('Escargots de Bourgogne', 8),\n",
       " ('Röd Kaviar', 8),\n",
       " ('Longlife Tofu', 7)]"
      ]
     },
     "execution_count": 97,
     "metadata": {},
     "output_type": "execute_result"
    }
   ],
   "source": [
    "%%sql\n",
    "SELECT ProductName, CategoryID FROM Products WHERE (Price BETWEEN 10 AND 20) AND NOT CategoryID IN(1,2,3);"
   ]
  },
  {
   "cell_type": "code",
   "execution_count": 98,
   "metadata": {},
   "outputs": [
    {
     "name": "stdout",
     "output_type": "stream",
     "text": [
      " * sqlite:///DB_practice.db\n",
      "Done.\n"
     ]
    },
    {
     "data": {
      "text/html": [
       "<table>\n",
       "    <tr>\n",
       "        <th>ProductID</th>\n",
       "        <th>ProductName</th>\n",
       "        <th>SupplierID</th>\n",
       "        <th>CategoryID</th>\n",
       "        <th>Unit</th>\n",
       "        <th>Price</th>\n",
       "    </tr>\n",
       "    <tr>\n",
       "        <td>31</td>\n",
       "        <td>Gorgonzola Telino</td>\n",
       "        <td>14</td>\n",
       "        <td>4</td>\n",
       "        <td>12 - 100 g pkgs</td>\n",
       "        <td>435</td>\n",
       "    </tr>\n",
       "    <tr>\n",
       "        <td>38</td>\n",
       "        <td>Côte de Blaye</td>\n",
       "        <td>18</td>\n",
       "        <td>1</td>\n",
       "        <td>12 - 75 cl bottles</td>\n",
       "        <td>263</td>\n",
       "    </tr>\n",
       "    <tr>\n",
       "        <td>9</td>\n",
       "        <td>Mishi Kobe Niku</td>\n",
       "        <td>4</td>\n",
       "        <td>6</td>\n",
       "        <td>18 - 500 g pkgs.</td>\n",
       "        <td>97</td>\n",
       "    </tr>\n",
       "    <tr>\n",
       "        <td>18</td>\n",
       "        <td>Carnarvon Tigers</td>\n",
       "        <td>7</td>\n",
       "        <td>8</td>\n",
       "        <td>16 kg pkg.</td>\n",
       "        <td>62</td>\n",
       "    </tr>\n",
       "    <tr>\n",
       "        <td>51</td>\n",
       "        <td>Manjimup Dried Apples</td>\n",
       "        <td>24</td>\n",
       "        <td>7</td>\n",
       "        <td>50 - 300 g pkgs.</td>\n",
       "        <td>53</td>\n",
       "    </tr>\n",
       "    <tr>\n",
       "        <td>43</td>\n",
       "        <td>Ipoh Coffee</td>\n",
       "        <td>20</td>\n",
       "        <td>1</td>\n",
       "        <td>16 - 500 g tins</td>\n",
       "        <td>46</td>\n",
       "    </tr>\n",
       "    <tr>\n",
       "        <td>15</td>\n",
       "        <td>Genen Shouyu</td>\n",
       "        <td>6</td>\n",
       "        <td>2</td>\n",
       "        <td>24 - 250 ml bottles</td>\n",
       "        <td>43</td>\n",
       "    </tr>\n",
       "    <tr>\n",
       "        <td>24</td>\n",
       "        <td>Guaraná Fantástica</td>\n",
       "        <td>10</td>\n",
       "        <td>1</td>\n",
       "        <td>12 - 355 ml cans</td>\n",
       "        <td>43</td>\n",
       "    </tr>\n",
       "    <tr>\n",
       "        <td>33</td>\n",
       "        <td>Geitost</td>\n",
       "        <td>15</td>\n",
       "        <td>4</td>\n",
       "        <td>500 g</td>\n",
       "        <td>43</td>\n",
       "    </tr>\n",
       "    <tr>\n",
       "        <td>65</td>\n",
       "        <td>Louisiana Fiery Hot Pepper Sauce</td>\n",
       "        <td>2</td>\n",
       "        <td>2</td>\n",
       "        <td>32 - 8 oz bottles</td>\n",
       "        <td>43</td>\n",
       "    </tr>\n",
       "    <tr>\n",
       "        <td>56</td>\n",
       "        <td>Gnocchi di nonna Alice</td>\n",
       "        <td>26</td>\n",
       "        <td>5</td>\n",
       "        <td>24 - 250 g pkgs.</td>\n",
       "        <td>38</td>\n",
       "    </tr>\n",
       "    <tr>\n",
       "        <td>69</td>\n",
       "        <td>Gudbrandsdalsost</td>\n",
       "        <td>15</td>\n",
       "        <td>4</td>\n",
       "        <td>10 kg pkg.</td>\n",
       "        <td>36</td>\n",
       "    </tr>\n",
       "    <tr>\n",
       "        <td>72</td>\n",
       "        <td>Mozzarella di Giovanni</td>\n",
       "        <td>14</td>\n",
       "        <td>4</td>\n",
       "        <td>24 - 200 g pkgs.</td>\n",
       "        <td>34</td>\n",
       "    </tr>\n",
       "    <tr>\n",
       "        <td>32</td>\n",
       "        <td>Mascarpone Fabioli</td>\n",
       "        <td>14</td>\n",
       "        <td>4</td>\n",
       "        <td>24 - 200 g pkgs.</td>\n",
       "        <td>32</td>\n",
       "    </tr>\n",
       "    <tr>\n",
       "        <td>10</td>\n",
       "        <td>Ikura</td>\n",
       "        <td>4</td>\n",
       "        <td>8</td>\n",
       "        <td>12 - 200 ml jars</td>\n",
       "        <td>31</td>\n",
       "    </tr>\n",
       "    <tr>\n",
       "        <td>26</td>\n",
       "        <td>Gumbär Gummibärchen</td>\n",
       "        <td>11</td>\n",
       "        <td>3</td>\n",
       "        <td>100 - 250 g bags</td>\n",
       "        <td>31</td>\n",
       "    </tr>\n",
       "    <tr>\n",
       "        <td>48</td>\n",
       "        <td>Chocolade</td>\n",
       "        <td>22</td>\n",
       "        <td>3</td>\n",
       "        <td>10 pkgs.</td>\n",
       "        <td>27</td>\n",
       "    </tr>\n",
       "    <tr>\n",
       "        <td>37</td>\n",
       "        <td>Gravad lax</td>\n",
       "        <td>17</td>\n",
       "        <td>8</td>\n",
       "        <td>12 - 500 g pkgs.</td>\n",
       "        <td>26</td>\n",
       "    </tr>\n",
       "    <tr>\n",
       "        <td>6</td>\n",
       "        <td>Grandma&#x27;s Boysenberry Spread</td>\n",
       "        <td>3</td>\n",
       "        <td>2</td>\n",
       "        <td>12 - 8 oz jars</td>\n",
       "        <td>25</td>\n",
       "    </tr>\n",
       "    <tr>\n",
       "        <td>41</td>\n",
       "        <td>Jack&#x27;s New England Clam Chowder</td>\n",
       "        <td>19</td>\n",
       "        <td>8</td>\n",
       "        <td>12 - 12 oz cans</td>\n",
       "        <td>23</td>\n",
       "    </tr>\n",
       "    <tr>\n",
       "        <td>4</td>\n",
       "        <td>Chef Anton&#x27;s Cajun Seasoning</td>\n",
       "        <td>2</td>\n",
       "        <td>2</td>\n",
       "        <td>48 - 6 oz jars</td>\n",
       "        <td>22</td>\n",
       "    </tr>\n",
       "    <tr>\n",
       "        <td>5</td>\n",
       "        <td>Chef Anton&#x27;s Gumbo Mix</td>\n",
       "        <td>2</td>\n",
       "        <td>2</td>\n",
       "        <td>36 boxes</td>\n",
       "        <td>21</td>\n",
       "    </tr>\n",
       "    <tr>\n",
       "        <td>22</td>\n",
       "        <td>Gustaf&#x27;s Knäckebröd</td>\n",
       "        <td>9</td>\n",
       "        <td>5</td>\n",
       "        <td>24 - 500 g pkgs.</td>\n",
       "        <td>21</td>\n",
       "    </tr>\n",
       "    <tr>\n",
       "        <td>71</td>\n",
       "        <td>Fløtemysost</td>\n",
       "        <td>15</td>\n",
       "        <td>4</td>\n",
       "        <td>10 - 500 g pkgs.</td>\n",
       "        <td>21</td>\n",
       "    </tr>\n",
       "    <tr>\n",
       "        <td>49</td>\n",
       "        <td>Maxilaku</td>\n",
       "        <td>23</td>\n",
       "        <td>3</td>\n",
       "        <td>24 - 50 g pkgs.</td>\n",
       "        <td>20</td>\n",
       "    </tr>\n",
       "    <tr>\n",
       "        <td>2</td>\n",
       "        <td>Chang</td>\n",
       "        <td>1</td>\n",
       "        <td>1</td>\n",
       "        <td>24 - 12 oz bottles</td>\n",
       "        <td>19</td>\n",
       "    </tr>\n",
       "    <tr>\n",
       "        <td>36</td>\n",
       "        <td>Inlagd Sill</td>\n",
       "        <td>17</td>\n",
       "        <td>8</td>\n",
       "        <td>24 - 250 g jars</td>\n",
       "        <td>19</td>\n",
       "    </tr>\n",
       "    <tr>\n",
       "        <td>44</td>\n",
       "        <td>Gula Malacca</td>\n",
       "        <td>20</td>\n",
       "        <td>2</td>\n",
       "        <td>20 - 2 kg bags</td>\n",
       "        <td>19</td>\n",
       "    </tr>\n",
       "    <tr>\n",
       "        <td>1</td>\n",
       "        <td>Chais</td>\n",
       "        <td>1</td>\n",
       "        <td>1</td>\n",
       "        <td>10 boxes x 20 bags</td>\n",
       "        <td>18</td>\n",
       "    </tr>\n",
       "    <tr>\n",
       "        <td>39</td>\n",
       "        <td>Chartreuse verte</td>\n",
       "        <td>18</td>\n",
       "        <td>1</td>\n",
       "        <td>750 cc per bottle</td>\n",
       "        <td>18</td>\n",
       "    </tr>\n",
       "    <tr>\n",
       "        <td>76</td>\n",
       "        <td>Lakkalikööri</td>\n",
       "        <td>23</td>\n",
       "        <td>1</td>\n",
       "        <td>500 ml</td>\n",
       "        <td>18</td>\n",
       "    </tr>\n",
       "    <tr>\n",
       "        <td>66</td>\n",
       "        <td>Louisiana Hot Spiced Okra</td>\n",
       "        <td>2</td>\n",
       "        <td>2</td>\n",
       "        <td>24 - 8 oz jars</td>\n",
       "        <td>17</td>\n",
       "    </tr>\n",
       "    <tr>\n",
       "        <td>67</td>\n",
       "        <td>Laughing Lumberjack Lager</td>\n",
       "        <td>16</td>\n",
       "        <td>1</td>\n",
       "        <td>24 - 12 oz bottles</td>\n",
       "        <td>14</td>\n",
       "    </tr>\n",
       "    <tr>\n",
       "        <td>58</td>\n",
       "        <td>Escargots de Bourgogne</td>\n",
       "        <td>27</td>\n",
       "        <td>8</td>\n",
       "        <td>24 pieces</td>\n",
       "        <td>13</td>\n",
       "    </tr>\n",
       "    <tr>\n",
       "        <td>74</td>\n",
       "        <td>Longlife Tofu</td>\n",
       "        <td>4</td>\n",
       "        <td>7</td>\n",
       "        <td>5 kg pkg.</td>\n",
       "        <td>10</td>\n",
       "    </tr>\n",
       "    <tr>\n",
       "        <td>52</td>\n",
       "        <td>Filo Mix</td>\n",
       "        <td>24</td>\n",
       "        <td>5</td>\n",
       "        <td>16 - 2 kg boxes</td>\n",
       "        <td>7</td>\n",
       "    </tr>\n",
       "    <tr>\n",
       "        <td>13</td>\n",
       "        <td>Konbu</td>\n",
       "        <td>6</td>\n",
       "        <td>8</td>\n",
       "        <td>2 kg box</td>\n",
       "        <td>6</td>\n",
       "    </tr>\n",
       "</table>"
      ],
      "text/plain": [
       "[(31, 'Gorgonzola Telino', 14, 4, '12 - 100 g pkgs', 435),\n",
       " (38, 'Côte de Blaye', 18, 1, '12 - 75 cl bottles', 263),\n",
       " (9, 'Mishi Kobe Niku', 4, 6, '18 - 500 g pkgs.', 97),\n",
       " (18, 'Carnarvon Tigers', 7, 8, '16 kg pkg.', 62),\n",
       " (51, 'Manjimup Dried Apples', 24, 7, '50 - 300 g pkgs.', 53),\n",
       " (43, 'Ipoh Coffee', 20, 1, '16 - 500 g tins', 46),\n",
       " (15, 'Genen Shouyu', 6, 2, '24 - 250 ml bottles', 43),\n",
       " (24, 'Guaraná Fantástica', 10, 1, '12 - 355 ml cans', 43),\n",
       " (33, 'Geitost', 15, 4, '500 g', 43),\n",
       " (65, 'Louisiana Fiery Hot Pepper Sauce', 2, 2, '32 - 8 oz bottles', 43),\n",
       " (56, 'Gnocchi di nonna Alice', 26, 5, '24 - 250 g pkgs.', 38),\n",
       " (69, 'Gudbrandsdalsost', 15, 4, '10 kg pkg.', 36),\n",
       " (72, 'Mozzarella di Giovanni', 14, 4, '24 - 200 g pkgs.', 34),\n",
       " (32, 'Mascarpone Fabioli', 14, 4, '24 - 200 g pkgs.', 32),\n",
       " (10, 'Ikura', 4, 8, '12 - 200 ml jars', 31),\n",
       " (26, 'Gumbär Gummibärchen', 11, 3, '100 - 250 g bags', 31),\n",
       " (48, 'Chocolade', 22, 3, '10 pkgs.', 27),\n",
       " (37, 'Gravad lax', 17, 8, '12 - 500 g pkgs.', 26),\n",
       " (6, \"Grandma's Boysenberry Spread\", 3, 2, '12 - 8 oz jars', 25),\n",
       " (41, \"Jack's New England Clam Chowder\", 19, 8, '12 - 12 oz cans', 23),\n",
       " (4, \"Chef Anton's Cajun Seasoning\", 2, 2, '48 - 6 oz jars', 22),\n",
       " (5, \"Chef Anton's Gumbo Mix\", 2, 2, '36 boxes', 21),\n",
       " (22, \"Gustaf's Knäckebröd\", 9, 5, '24 - 500 g pkgs.', 21),\n",
       " (71, 'Fløtemysost', 15, 4, '10 - 500 g pkgs.', 21),\n",
       " (49, 'Maxilaku', 23, 3, '24 - 50 g pkgs.', 20),\n",
       " (2, 'Chang', 1, 1, '24 - 12 oz bottles', 19),\n",
       " (36, 'Inlagd Sill', 17, 8, '24 - 250 g jars', 19),\n",
       " (44, 'Gula Malacca', 20, 2, '20 - 2 kg bags', 19),\n",
       " (1, 'Chais', 1, 1, '10 boxes x 20 bags', 18),\n",
       " (39, 'Chartreuse verte', 18, 1, '750 cc per bottle', 18),\n",
       " (76, 'Lakkalikööri', 23, 1, '500 ml', 18),\n",
       " (66, 'Louisiana Hot Spiced Okra', 2, 2, '24 - 8 oz jars', 17),\n",
       " (67, 'Laughing Lumberjack Lager', 16, 1, '24 - 12 oz bottles', 14),\n",
       " (58, 'Escargots de Bourgogne', 27, 8, '24 pieces', 13),\n",
       " (74, 'Longlife Tofu', 4, 7, '5 kg pkg.', 10),\n",
       " (52, 'Filo Mix', 24, 5, '16 - 2 kg boxes', 7),\n",
       " (13, 'Konbu', 6, 8, '2 kg box', 6)]"
      ]
     },
     "execution_count": 98,
     "metadata": {},
     "output_type": "execute_result"
    }
   ],
   "source": [
    "%%sql\n",
    "SELECT * FROM Products WHERE ProductName BETWEEN 'Carnarvon Tigers' AND 'Mozzarella di Govanni' ORDER BY Price DESC;"
   ]
  },
  {
   "cell_type": "markdown",
   "metadata": {},
   "source": [
    "# Aggregation Functions: Basic Statistical Transactions"
   ]
  },
  {
   "cell_type": "code",
   "execution_count": 99,
   "metadata": {},
   "outputs": [
    {
     "name": "stdout",
     "output_type": "stream",
     "text": [
      " * sqlite:///DB_practice.db\n",
      "Done.\n"
     ]
    },
    {
     "data": {
      "text/html": [
       "<table>\n",
       "    <tr>\n",
       "        <th>ProductID</th>\n",
       "        <th>ProductName</th>\n",
       "        <th>SupplierID</th>\n",
       "        <th>CategoryID</th>\n",
       "        <th>Unit</th>\n",
       "        <th>Price</th>\n",
       "    </tr>\n",
       "    <tr>\n",
       "        <td>1</td>\n",
       "        <td>Chais</td>\n",
       "        <td>1</td>\n",
       "        <td>1</td>\n",
       "        <td>10 boxes x 20 bags</td>\n",
       "        <td>18</td>\n",
       "    </tr>\n",
       "    <tr>\n",
       "        <td>2</td>\n",
       "        <td>Chang</td>\n",
       "        <td>1</td>\n",
       "        <td>1</td>\n",
       "        <td>24 - 12 oz bottles</td>\n",
       "        <td>19</td>\n",
       "    </tr>\n",
       "    <tr>\n",
       "        <td>3</td>\n",
       "        <td>Aniseed Syrup</td>\n",
       "        <td>1</td>\n",
       "        <td>2</td>\n",
       "        <td>12 - 550 ml bottles</td>\n",
       "        <td>10</td>\n",
       "    </tr>\n",
       "    <tr>\n",
       "        <td>4</td>\n",
       "        <td>Chef Anton&#x27;s Cajun Seasoning</td>\n",
       "        <td>2</td>\n",
       "        <td>2</td>\n",
       "        <td>48 - 6 oz jars</td>\n",
       "        <td>22</td>\n",
       "    </tr>\n",
       "    <tr>\n",
       "        <td>5</td>\n",
       "        <td>Chef Anton&#x27;s Gumbo Mix</td>\n",
       "        <td>2</td>\n",
       "        <td>2</td>\n",
       "        <td>36 boxes</td>\n",
       "        <td>21</td>\n",
       "    </tr>\n",
       "    <tr>\n",
       "        <td>6</td>\n",
       "        <td>Grandma&#x27;s Boysenberry Spread</td>\n",
       "        <td>3</td>\n",
       "        <td>2</td>\n",
       "        <td>12 - 8 oz jars</td>\n",
       "        <td>25</td>\n",
       "    </tr>\n",
       "    <tr>\n",
       "        <td>7</td>\n",
       "        <td>Uncle Bob&#x27;s Organic Dried Pears</td>\n",
       "        <td>3</td>\n",
       "        <td>7</td>\n",
       "        <td>12 - 1 lb pkgs.</td>\n",
       "        <td>30</td>\n",
       "    </tr>\n",
       "    <tr>\n",
       "        <td>8</td>\n",
       "        <td>Northwoods Cranberry Sauce</td>\n",
       "        <td>3</td>\n",
       "        <td>2</td>\n",
       "        <td>12 - 12 oz jars</td>\n",
       "        <td>40</td>\n",
       "    </tr>\n",
       "    <tr>\n",
       "        <td>9</td>\n",
       "        <td>Mishi Kobe Niku</td>\n",
       "        <td>4</td>\n",
       "        <td>6</td>\n",
       "        <td>18 - 500 g pkgs.</td>\n",
       "        <td>97</td>\n",
       "    </tr>\n",
       "    <tr>\n",
       "        <td>10</td>\n",
       "        <td>Ikura</td>\n",
       "        <td>4</td>\n",
       "        <td>8</td>\n",
       "        <td>12 - 200 ml jars</td>\n",
       "        <td>31</td>\n",
       "    </tr>\n",
       "</table>"
      ],
      "text/plain": [
       "[(1, 'Chais', 1, 1, '10 boxes x 20 bags', 18),\n",
       " (2, 'Chang', 1, 1, '24 - 12 oz bottles', 19),\n",
       " (3, 'Aniseed Syrup', 1, 2, '12 - 550 ml bottles', 10),\n",
       " (4, \"Chef Anton's Cajun Seasoning\", 2, 2, '48 - 6 oz jars', 22),\n",
       " (5, \"Chef Anton's Gumbo Mix\", 2, 2, '36 boxes', 21),\n",
       " (6, \"Grandma's Boysenberry Spread\", 3, 2, '12 - 8 oz jars', 25),\n",
       " (7, \"Uncle Bob's Organic Dried Pears\", 3, 7, '12 - 1 lb pkgs.', 30),\n",
       " (8, 'Northwoods Cranberry Sauce', 3, 2, '12 - 12 oz jars', 40),\n",
       " (9, 'Mishi Kobe Niku', 4, 6, '18 - 500 g pkgs.', 97),\n",
       " (10, 'Ikura', 4, 8, '12 - 200 ml jars', 31)]"
      ]
     },
     "execution_count": 99,
     "metadata": {},
     "output_type": "execute_result"
    }
   ],
   "source": [
    "%%sql\n",
    "SELECT * FROM Products LIMIT 10;"
   ]
  },
  {
   "cell_type": "code",
   "execution_count": 100,
   "metadata": {},
   "outputs": [
    {
     "name": "stdout",
     "output_type": "stream",
     "text": [
      " * sqlite:///DB_practice.db\n",
      "Done.\n"
     ]
    },
    {
     "data": {
      "text/html": [
       "<table>\n",
       "    <tr>\n",
       "        <th>ProductName</th>\n",
       "        <th>Minimum_Price</th>\n",
       "    </tr>\n",
       "    <tr>\n",
       "        <td>Konbu</td>\n",
       "        <td>6</td>\n",
       "    </tr>\n",
       "</table>"
      ],
      "text/plain": [
       "[('Konbu', 6)]"
      ]
     },
     "execution_count": 100,
     "metadata": {},
     "output_type": "execute_result"
    }
   ],
   "source": [
    "%%sql\n",
    "SELECT ProductName, MIN(Price) as Minimum_Price FROM Products"
   ]
  },
  {
   "cell_type": "code",
   "execution_count": 101,
   "metadata": {},
   "outputs": [
    {
     "name": "stdout",
     "output_type": "stream",
     "text": [
      " * sqlite:///DB_practice.db\n",
      "Done.\n"
     ]
    },
    {
     "data": {
      "text/html": [
       "<table>\n",
       "    <tr>\n",
       "        <th>ProductName</th>\n",
       "        <th>Maximum_Price</th>\n",
       "    </tr>\n",
       "    <tr>\n",
       "        <td>Gorgonzola Telino</td>\n",
       "        <td>435</td>\n",
       "    </tr>\n",
       "</table>"
      ],
      "text/plain": [
       "[('Gorgonzola Telino', 435)]"
      ]
     },
     "execution_count": 101,
     "metadata": {},
     "output_type": "execute_result"
    }
   ],
   "source": [
    "%%sql\n",
    "SELECT ProductName, Max(Price) as Maximum_Price FROM Products"
   ]
  },
  {
   "cell_type": "code",
   "execution_count": 102,
   "metadata": {},
   "outputs": [
    {
     "name": "stdout",
     "output_type": "stream",
     "text": [
      " * sqlite:///DB_practice.db\n",
      "Done.\n"
     ]
    },
    {
     "data": {
      "text/html": [
       "<table>\n",
       "    <tr>\n",
       "        <th>ProductName</th>\n",
       "        <th>Price</th>\n",
       "    </tr>\n",
       "    <tr>\n",
       "        <td>Konbu</td>\n",
       "        <td>6</td>\n",
       "    </tr>\n",
       "    <tr>\n",
       "        <td>Gorgonzola Telino</td>\n",
       "        <td>435</td>\n",
       "    </tr>\n",
       "</table>"
      ],
      "text/plain": [
       "[('Konbu', 6), ('Gorgonzola Telino', 435)]"
      ]
     },
     "execution_count": 102,
     "metadata": {},
     "output_type": "execute_result"
    }
   ],
   "source": [
    "%%sql\n",
    "SELECT ProductName,Price FROM Products WHERE Price IN(6,435);"
   ]
  },
  {
   "cell_type": "code",
   "execution_count": 103,
   "metadata": {},
   "outputs": [
    {
     "name": "stdout",
     "output_type": "stream",
     "text": [
      " * sqlite:///DB_practice.db\n",
      "Done.\n"
     ]
    },
    {
     "data": {
      "text/html": [
       "<table>\n",
       "    <tr>\n",
       "        <th>AVG(Price)</th>\n",
       "    </tr>\n",
       "    <tr>\n",
       "        <td>39.15584415584416</td>\n",
       "    </tr>\n",
       "</table>"
      ],
      "text/plain": [
       "[(39.15584415584416,)]"
      ]
     },
     "execution_count": 103,
     "metadata": {},
     "output_type": "execute_result"
    }
   ],
   "source": [
    "%%sql\n",
    "SELECT AVG(Price) FROM Products;"
   ]
  },
  {
   "cell_type": "code",
   "execution_count": 104,
   "metadata": {},
   "outputs": [
    {
     "name": "stdout",
     "output_type": "stream",
     "text": [
      " * sqlite:///DB_practice.db\n",
      "Done.\n"
     ]
    },
    {
     "data": {
      "text/html": [
       "<table>\n",
       "    <tr>\n",
       "        <th>SUM(Price)</th>\n",
       "    </tr>\n",
       "    <tr>\n",
       "        <td>3015</td>\n",
       "    </tr>\n",
       "</table>"
      ],
      "text/plain": [
       "[(3015,)]"
      ]
     },
     "execution_count": 104,
     "metadata": {},
     "output_type": "execute_result"
    }
   ],
   "source": [
    "%%sql\n",
    "SELECT SUM(Price) FROM Products;"
   ]
  },
  {
   "cell_type": "code",
   "execution_count": 105,
   "metadata": {},
   "outputs": [
    {
     "name": "stdout",
     "output_type": "stream",
     "text": [
      " * sqlite:///DB_practice.db\n",
      "Done.\n"
     ]
    },
    {
     "data": {
      "text/html": [
       "<table>\n",
       "    <tr>\n",
       "        <th>MIN(Price)</th>\n",
       "        <th>MAX(Price)</th>\n",
       "        <th>AVG(Price)</th>\n",
       "        <th>SUM(Price)</th>\n",
       "    </tr>\n",
       "    <tr>\n",
       "        <td>6</td>\n",
       "        <td>435</td>\n",
       "        <td>39.15584415584416</td>\n",
       "        <td>3015</td>\n",
       "    </tr>\n",
       "</table>"
      ],
      "text/plain": [
       "[(6, 435, 39.15584415584416, 3015)]"
      ]
     },
     "execution_count": 105,
     "metadata": {},
     "output_type": "execute_result"
    }
   ],
   "source": [
    "%%sql\n",
    "SELECT MIN(Price), MAX(Price), AVG(Price), SUM(Price) FROM Products;"
   ]
  },
  {
   "cell_type": "code",
   "execution_count": 106,
   "metadata": {},
   "outputs": [
    {
     "name": "stdout",
     "output_type": "stream",
     "text": [
      " * sqlite:///DB_practice.db\n",
      "Done.\n"
     ]
    },
    {
     "data": {
      "text/html": [
       "<table>\n",
       "    <tr>\n",
       "        <th>COUNT(*)</th>\n",
       "        <th>MIN(Price)</th>\n",
       "        <th>MAX(Price)</th>\n",
       "        <th>AVG(Price)</th>\n",
       "        <th>SUM(Price)</th>\n",
       "    </tr>\n",
       "    <tr>\n",
       "        <td>77</td>\n",
       "        <td>6</td>\n",
       "        <td>435</td>\n",
       "        <td>39.15584415584416</td>\n",
       "        <td>3015</td>\n",
       "    </tr>\n",
       "</table>"
      ],
      "text/plain": [
       "[(77, 6, 435, 39.15584415584416, 3015)]"
      ]
     },
     "execution_count": 106,
     "metadata": {},
     "output_type": "execute_result"
    }
   ],
   "source": [
    "%%sql\n",
    "SELECT COUNT(*), MIN(Price), MAX(Price), AVG(Price), SUM(Price) FROM Products;"
   ]
  },
  {
   "cell_type": "markdown",
   "metadata": {},
   "source": [
    "# GROUP BY and Aggregation Functions"
   ]
  },
  {
   "cell_type": "code",
   "execution_count": 112,
   "metadata": {},
   "outputs": [
    {
     "name": "stdout",
     "output_type": "stream",
     "text": [
      " * sqlite:///DB_practice.db\n",
      "Done.\n"
     ]
    },
    {
     "data": {
      "text/html": [
       "<table>\n",
       "    <tr>\n",
       "        <th>CustomerID</th>\n",
       "        <th>CustomerName</th>\n",
       "        <th>ContactName</th>\n",
       "        <th>Address</th>\n",
       "        <th>City</th>\n",
       "        <th>PostalCode</th>\n",
       "        <th>Country</th>\n",
       "    </tr>\n",
       "    <tr>\n",
       "        <td>1</td>\n",
       "        <td>Alfreds Futterkiste</td>\n",
       "        <td>Maria Anders</td>\n",
       "        <td>Obere Str. 57</td>\n",
       "        <td>Berlin</td>\n",
       "        <td>12209</td>\n",
       "        <td>Germany</td>\n",
       "    </tr>\n",
       "    <tr>\n",
       "        <td>2</td>\n",
       "        <td>Ana Trujillo Emparedados y helados</td>\n",
       "        <td>Ana Trujillo</td>\n",
       "        <td>Avda. de la Constitución 2222</td>\n",
       "        <td>México D.F.</td>\n",
       "        <td>5021</td>\n",
       "        <td>Mexico</td>\n",
       "    </tr>\n",
       "    <tr>\n",
       "        <td>3</td>\n",
       "        <td>Antonio Moreno Taquería</td>\n",
       "        <td>Antonio Moreno</td>\n",
       "        <td>Mataderos 2312</td>\n",
       "        <td>México D.F.</td>\n",
       "        <td>5023</td>\n",
       "        <td>Mexico</td>\n",
       "    </tr>\n",
       "    <tr>\n",
       "        <td>4</td>\n",
       "        <td>Around the Horn</td>\n",
       "        <td>Thomas Hardy</td>\n",
       "        <td>120 Hanover Sq.</td>\n",
       "        <td>London</td>\n",
       "        <td>WA1 1DP</td>\n",
       "        <td>UK</td>\n",
       "    </tr>\n",
       "    <tr>\n",
       "        <td>5</td>\n",
       "        <td>Berglunds snabbköp</td>\n",
       "        <td>Christina Berglund</td>\n",
       "        <td>Berguvsvägen 8</td>\n",
       "        <td>Luleå</td>\n",
       "        <td>S-958 22</td>\n",
       "        <td>Sweden</td>\n",
       "    </tr>\n",
       "</table>"
      ],
      "text/plain": [
       "[(1, 'Alfreds Futterkiste', 'Maria Anders', 'Obere Str. 57', 'Berlin', '12209', 'Germany'),\n",
       " (2, 'Ana Trujillo Emparedados y helados', 'Ana Trujillo', 'Avda. de la Constitución 2222', 'México D.F.', '5021', 'Mexico'),\n",
       " (3, 'Antonio Moreno Taquería', 'Antonio Moreno', 'Mataderos 2312', 'México D.F.', '5023', 'Mexico'),\n",
       " (4, 'Around the Horn', 'Thomas Hardy', '120 Hanover Sq.', 'London', 'WA1 1DP', 'UK'),\n",
       " (5, 'Berglunds snabbköp', 'Christina Berglund', 'Berguvsvägen 8', 'Luleå', 'S-958 22', 'Sweden')]"
      ]
     },
     "execution_count": 112,
     "metadata": {},
     "output_type": "execute_result"
    }
   ],
   "source": [
    "%%sql\n",
    "SELECT * FROM Customers LIMIT 5;"
   ]
  },
  {
   "cell_type": "code",
   "execution_count": 126,
   "metadata": {},
   "outputs": [
    {
     "name": "stdout",
     "output_type": "stream",
     "text": [
      " * sqlite:///DB_practice.db\n",
      "Done.\n"
     ]
    },
    {
     "data": {
      "text/html": [
       "<table>\n",
       "    <tr>\n",
       "        <th>CUSTOMER_COUNT</th>\n",
       "        <th>Country</th>\n",
       "    </tr>\n",
       "    <tr>\n",
       "        <td>13</td>\n",
       "        <td>USA</td>\n",
       "    </tr>\n",
       "    <tr>\n",
       "        <td>11</td>\n",
       "        <td>Germany</td>\n",
       "    </tr>\n",
       "    <tr>\n",
       "        <td>11</td>\n",
       "        <td>France</td>\n",
       "    </tr>\n",
       "    <tr>\n",
       "        <td>9</td>\n",
       "        <td>Brazil</td>\n",
       "    </tr>\n",
       "    <tr>\n",
       "        <td>7</td>\n",
       "        <td>UK</td>\n",
       "    </tr>\n",
       "    <tr>\n",
       "        <td>5</td>\n",
       "        <td>Spain</td>\n",
       "    </tr>\n",
       "    <tr>\n",
       "        <td>5</td>\n",
       "        <td>Mexico</td>\n",
       "    </tr>\n",
       "    <tr>\n",
       "        <td>4</td>\n",
       "        <td>Venezuela</td>\n",
       "    </tr>\n",
       "    <tr>\n",
       "        <td>3</td>\n",
       "        <td>Italy</td>\n",
       "    </tr>\n",
       "    <tr>\n",
       "        <td>3</td>\n",
       "        <td>Canada</td>\n",
       "    </tr>\n",
       "</table>"
      ],
      "text/plain": [
       "[(13, 'USA'),\n",
       " (11, 'Germany'),\n",
       " (11, 'France'),\n",
       " (9, 'Brazil'),\n",
       " (7, 'UK'),\n",
       " (5, 'Spain'),\n",
       " (5, 'Mexico'),\n",
       " (4, 'Venezuela'),\n",
       " (3, 'Italy'),\n",
       " (3, 'Canada')]"
      ]
     },
     "execution_count": 126,
     "metadata": {},
     "output_type": "execute_result"
    }
   ],
   "source": [
    "%%sql\n",
    "SELECT COUNT(CustomerID) as CUSTOMER_COUNT, Country FROM Customers GROUP BY Country ORDER BY CUSTOMER_COUNT DESC LIMIT 10;"
   ]
  },
  {
   "cell_type": "code",
   "execution_count": 134,
   "metadata": {},
   "outputs": [
    {
     "name": "stdout",
     "output_type": "stream",
     "text": [
      " * sqlite:///DB_practice.db\n",
      "Done.\n"
     ]
    },
    {
     "data": {
      "text/html": [
       "<table>\n",
       "    <tr>\n",
       "        <th>Mean</th>\n",
       "        <th>CategoryID</th>\n",
       "    </tr>\n",
       "    <tr>\n",
       "        <td>74.9</td>\n",
       "        <td>4</td>\n",
       "    </tr>\n",
       "    <tr>\n",
       "        <td>55.166666666666664</td>\n",
       "        <td>6</td>\n",
       "    </tr>\n",
       "    <tr>\n",
       "        <td>42.75</td>\n",
       "        <td>1</td>\n",
       "    </tr>\n",
       "    <tr>\n",
       "        <td>33.76923076923077</td>\n",
       "        <td>3</td>\n",
       "    </tr>\n",
       "    <tr>\n",
       "        <td>32.2</td>\n",
       "        <td>7</td>\n",
       "    </tr>\n",
       "    <tr>\n",
       "        <td>28.25</td>\n",
       "        <td>2</td>\n",
       "    </tr>\n",
       "    <tr>\n",
       "        <td>26.5</td>\n",
       "        <td>8</td>\n",
       "    </tr>\n",
       "    <tr>\n",
       "        <td>23.571428571428573</td>\n",
       "        <td>5</td>\n",
       "    </tr>\n",
       "</table>"
      ],
      "text/plain": [
       "[(74.9, 4),\n",
       " (55.166666666666664, 6),\n",
       " (42.75, 1),\n",
       " (33.76923076923077, 3),\n",
       " (32.2, 7),\n",
       " (28.25, 2),\n",
       " (26.5, 8),\n",
       " (23.571428571428573, 5)]"
      ]
     },
     "execution_count": 134,
     "metadata": {},
     "output_type": "execute_result"
    }
   ],
   "source": [
    "%%sql\n",
    "SELECT AVG(Price) AS Mean, CategoryID FROM Products GROUP BY CategoryID ORDER BY Mean DESC;"
   ]
  },
  {
   "cell_type": "markdown",
   "metadata": {},
   "source": [
    "# JOIN Transactions"
   ]
  },
  {
   "cell_type": "code",
   "execution_count": 135,
   "metadata": {},
   "outputs": [
    {
     "name": "stdout",
     "output_type": "stream",
     "text": [
      " * sqlite:///DB_practice.db\n",
      "Done.\n"
     ]
    },
    {
     "data": {
      "text/html": [
       "<table>\n",
       "    <tr>\n",
       "        <th>name</th>\n",
       "    </tr>\n",
       "    <tr>\n",
       "        <td>Products</td>\n",
       "    </tr>\n",
       "    <tr>\n",
       "        <td>Categories</td>\n",
       "    </tr>\n",
       "    <tr>\n",
       "        <td>Customers</td>\n",
       "    </tr>\n",
       "    <tr>\n",
       "        <td>Employees</td>\n",
       "    </tr>\n",
       "    <tr>\n",
       "        <td>OrderDetails</td>\n",
       "    </tr>\n",
       "    <tr>\n",
       "        <td>Orders</td>\n",
       "    </tr>\n",
       "    <tr>\n",
       "        <td>Shippers</td>\n",
       "    </tr>\n",
       "    <tr>\n",
       "        <td>Suppliers</td>\n",
       "    </tr>\n",
       "    <tr>\n",
       "        <td>new_table</td>\n",
       "    </tr>\n",
       "</table>"
      ],
      "text/plain": [
       "[('Products',),\n",
       " ('Categories',),\n",
       " ('Customers',),\n",
       " ('Employees',),\n",
       " ('OrderDetails',),\n",
       " ('Orders',),\n",
       " ('Shippers',),\n",
       " ('Suppliers',),\n",
       " ('new_table',)]"
      ]
     },
     "execution_count": 135,
     "metadata": {},
     "output_type": "execute_result"
    }
   ],
   "source": [
    "%%sql\n",
    "SELECT name FROM sqlite_master WHERE type = 'table';"
   ]
  },
  {
   "cell_type": "code",
   "execution_count": 147,
   "metadata": {},
   "outputs": [
    {
     "name": "stdout",
     "output_type": "stream",
     "text": [
      " * sqlite:///DB_practice.db\n",
      "Done.\n"
     ]
    },
    {
     "data": {
      "text/plain": [
       "[]"
      ]
     },
     "execution_count": 147,
     "metadata": {},
     "output_type": "execute_result"
    }
   ],
   "source": [
    "%%sql\n",
    "DROP TABLE new_table;"
   ]
  },
  {
   "cell_type": "code",
   "execution_count": 148,
   "metadata": {},
   "outputs": [
    {
     "name": "stdout",
     "output_type": "stream",
     "text": [
      " * sqlite:///DB_practice.db\n",
      "Done.\n"
     ]
    },
    {
     "data": {
      "text/html": [
       "<table>\n",
       "    <tr>\n",
       "        <th>name</th>\n",
       "    </tr>\n",
       "    <tr>\n",
       "        <td>Products</td>\n",
       "    </tr>\n",
       "    <tr>\n",
       "        <td>Categories</td>\n",
       "    </tr>\n",
       "    <tr>\n",
       "        <td>Customers</td>\n",
       "    </tr>\n",
       "    <tr>\n",
       "        <td>Employees</td>\n",
       "    </tr>\n",
       "    <tr>\n",
       "        <td>OrderDetails</td>\n",
       "    </tr>\n",
       "    <tr>\n",
       "        <td>Orders</td>\n",
       "    </tr>\n",
       "    <tr>\n",
       "        <td>Shippers</td>\n",
       "    </tr>\n",
       "    <tr>\n",
       "        <td>Suppliers</td>\n",
       "    </tr>\n",
       "</table>"
      ],
      "text/plain": [
       "[('Products',),\n",
       " ('Categories',),\n",
       " ('Customers',),\n",
       " ('Employees',),\n",
       " ('OrderDetails',),\n",
       " ('Orders',),\n",
       " ('Shippers',),\n",
       " ('Suppliers',)]"
      ]
     },
     "execution_count": 148,
     "metadata": {},
     "output_type": "execute_result"
    }
   ],
   "source": [
    "%%sql\n",
    "SELECT name FROM sqlite_master WHERE type = 'table';"
   ]
  },
  {
   "cell_type": "code",
   "execution_count": 152,
   "metadata": {},
   "outputs": [
    {
     "name": "stdout",
     "output_type": "stream",
     "text": [
      " * sqlite:///DB_practice.db\n",
      "Done.\n"
     ]
    },
    {
     "data": {
      "text/html": [
       "<table>\n",
       "    <tr>\n",
       "        <th>CategoryID</th>\n",
       "        <th>CategoryName</th>\n",
       "        <th>Description</th>\n",
       "    </tr>\n",
       "    <tr>\n",
       "        <td>1</td>\n",
       "        <td>Beverages</td>\n",
       "        <td>Soft drinks, coffees, teas, beers, and ales</td>\n",
       "    </tr>\n",
       "    <tr>\n",
       "        <td>2</td>\n",
       "        <td>Condiments</td>\n",
       "        <td>Sweet and savory sauces, relishes, spreads, and seasonings</td>\n",
       "    </tr>\n",
       "    <tr>\n",
       "        <td>3</td>\n",
       "        <td>Confections</td>\n",
       "        <td>Desserts, candies, and sweet breads</td>\n",
       "    </tr>\n",
       "    <tr>\n",
       "        <td>4</td>\n",
       "        <td>Dairy Products</td>\n",
       "        <td>Cheeses</td>\n",
       "    </tr>\n",
       "    <tr>\n",
       "        <td>5</td>\n",
       "        <td>Grains/Cereals</td>\n",
       "        <td>Breads, crackers, pasta, and cereal</td>\n",
       "    </tr>\n",
       "</table>"
      ],
      "text/plain": [
       "[(1, 'Beverages', 'Soft drinks, coffees, teas, beers, and ales'),\n",
       " (2, 'Condiments', 'Sweet and savory sauces, relishes, spreads, and seasonings'),\n",
       " (3, 'Confections', 'Desserts, candies, and sweet breads'),\n",
       " (4, 'Dairy Products', 'Cheeses'),\n",
       " (5, 'Grains/Cereals', 'Breads, crackers, pasta, and cereal')]"
      ]
     },
     "execution_count": 152,
     "metadata": {},
     "output_type": "execute_result"
    }
   ],
   "source": [
    "%%sql\n",
    "SELECT * FROM Categories LIMIT 5;"
   ]
  },
  {
   "cell_type": "code",
   "execution_count": 153,
   "metadata": {},
   "outputs": [
    {
     "name": "stdout",
     "output_type": "stream",
     "text": [
      " * sqlite:///DB_practice.db\n",
      "Done.\n"
     ]
    },
    {
     "data": {
      "text/html": [
       "<table>\n",
       "    <tr>\n",
       "        <th>ProductID</th>\n",
       "        <th>ProductName</th>\n",
       "        <th>SupplierID</th>\n",
       "        <th>CategoryID</th>\n",
       "        <th>Unit</th>\n",
       "        <th>Price</th>\n",
       "    </tr>\n",
       "    <tr>\n",
       "        <td>1</td>\n",
       "        <td>Chais</td>\n",
       "        <td>1</td>\n",
       "        <td>1</td>\n",
       "        <td>10 boxes x 20 bags</td>\n",
       "        <td>18</td>\n",
       "    </tr>\n",
       "    <tr>\n",
       "        <td>2</td>\n",
       "        <td>Chang</td>\n",
       "        <td>1</td>\n",
       "        <td>1</td>\n",
       "        <td>24 - 12 oz bottles</td>\n",
       "        <td>19</td>\n",
       "    </tr>\n",
       "    <tr>\n",
       "        <td>3</td>\n",
       "        <td>Aniseed Syrup</td>\n",
       "        <td>1</td>\n",
       "        <td>2</td>\n",
       "        <td>12 - 550 ml bottles</td>\n",
       "        <td>10</td>\n",
       "    </tr>\n",
       "    <tr>\n",
       "        <td>4</td>\n",
       "        <td>Chef Anton&#x27;s Cajun Seasoning</td>\n",
       "        <td>2</td>\n",
       "        <td>2</td>\n",
       "        <td>48 - 6 oz jars</td>\n",
       "        <td>22</td>\n",
       "    </tr>\n",
       "    <tr>\n",
       "        <td>5</td>\n",
       "        <td>Chef Anton&#x27;s Gumbo Mix</td>\n",
       "        <td>2</td>\n",
       "        <td>2</td>\n",
       "        <td>36 boxes</td>\n",
       "        <td>21</td>\n",
       "    </tr>\n",
       "</table>"
      ],
      "text/plain": [
       "[(1, 'Chais', 1, 1, '10 boxes x 20 bags', 18),\n",
       " (2, 'Chang', 1, 1, '24 - 12 oz bottles', 19),\n",
       " (3, 'Aniseed Syrup', 1, 2, '12 - 550 ml bottles', 10),\n",
       " (4, \"Chef Anton's Cajun Seasoning\", 2, 2, '48 - 6 oz jars', 22),\n",
       " (5, \"Chef Anton's Gumbo Mix\", 2, 2, '36 boxes', 21)]"
      ]
     },
     "execution_count": 153,
     "metadata": {},
     "output_type": "execute_result"
    }
   ],
   "source": [
    "%%sql\n",
    "SELECT * FROM Products LIMIT 5;"
   ]
  },
  {
   "cell_type": "code",
   "execution_count": 157,
   "metadata": {},
   "outputs": [
    {
     "name": "stdout",
     "output_type": "stream",
     "text": [
      " * sqlite:///DB_practice.db\n",
      "Done.\n"
     ]
    },
    {
     "data": {
      "text/html": [
       "<table>\n",
       "    <tr>\n",
       "        <th>ProductID</th>\n",
       "        <th>ProductName</th>\n",
       "        <th>SupplierID</th>\n",
       "        <th>CategoryID</th>\n",
       "        <th>Unit</th>\n",
       "        <th>Price</th>\n",
       "        <th>CategoryID_1</th>\n",
       "        <th>CategoryName</th>\n",
       "        <th>Description</th>\n",
       "    </tr>\n",
       "    <tr>\n",
       "        <td>1</td>\n",
       "        <td>Chais</td>\n",
       "        <td>1</td>\n",
       "        <td>1</td>\n",
       "        <td>10 boxes x 20 bags</td>\n",
       "        <td>18</td>\n",
       "        <td>1</td>\n",
       "        <td>Beverages</td>\n",
       "        <td>Soft drinks, coffees, teas, beers, and ales</td>\n",
       "    </tr>\n",
       "    <tr>\n",
       "        <td>2</td>\n",
       "        <td>Chang</td>\n",
       "        <td>1</td>\n",
       "        <td>1</td>\n",
       "        <td>24 - 12 oz bottles</td>\n",
       "        <td>19</td>\n",
       "        <td>1</td>\n",
       "        <td>Beverages</td>\n",
       "        <td>Soft drinks, coffees, teas, beers, and ales</td>\n",
       "    </tr>\n",
       "    <tr>\n",
       "        <td>3</td>\n",
       "        <td>Aniseed Syrup</td>\n",
       "        <td>1</td>\n",
       "        <td>2</td>\n",
       "        <td>12 - 550 ml bottles</td>\n",
       "        <td>10</td>\n",
       "        <td>2</td>\n",
       "        <td>Condiments</td>\n",
       "        <td>Sweet and savory sauces, relishes, spreads, and seasonings</td>\n",
       "    </tr>\n",
       "    <tr>\n",
       "        <td>4</td>\n",
       "        <td>Chef Anton&#x27;s Cajun Seasoning</td>\n",
       "        <td>2</td>\n",
       "        <td>2</td>\n",
       "        <td>48 - 6 oz jars</td>\n",
       "        <td>22</td>\n",
       "        <td>2</td>\n",
       "        <td>Condiments</td>\n",
       "        <td>Sweet and savory sauces, relishes, spreads, and seasonings</td>\n",
       "    </tr>\n",
       "    <tr>\n",
       "        <td>5</td>\n",
       "        <td>Chef Anton&#x27;s Gumbo Mix</td>\n",
       "        <td>2</td>\n",
       "        <td>2</td>\n",
       "        <td>36 boxes</td>\n",
       "        <td>21</td>\n",
       "        <td>2</td>\n",
       "        <td>Condiments</td>\n",
       "        <td>Sweet and savory sauces, relishes, spreads, and seasonings</td>\n",
       "    </tr>\n",
       "</table>"
      ],
      "text/plain": [
       "[(1, 'Chais', 1, 1, '10 boxes x 20 bags', 18, 1, 'Beverages', 'Soft drinks, coffees, teas, beers, and ales'),\n",
       " (2, 'Chang', 1, 1, '24 - 12 oz bottles', 19, 1, 'Beverages', 'Soft drinks, coffees, teas, beers, and ales'),\n",
       " (3, 'Aniseed Syrup', 1, 2, '12 - 550 ml bottles', 10, 2, 'Condiments', 'Sweet and savory sauces, relishes, spreads, and seasonings'),\n",
       " (4, \"Chef Anton's Cajun Seasoning\", 2, 2, '48 - 6 oz jars', 22, 2, 'Condiments', 'Sweet and savory sauces, relishes, spreads, and seasonings'),\n",
       " (5, \"Chef Anton's Gumbo Mix\", 2, 2, '36 boxes', 21, 2, 'Condiments', 'Sweet and savory sauces, relishes, spreads, and seasonings')]"
      ]
     },
     "execution_count": 157,
     "metadata": {},
     "output_type": "execute_result"
    }
   ],
   "source": [
    "%%sql\n",
    "SELECT * FROM Products LEFT OUTER JOIN Categories ON Products.CategoryID = Categories.CategoryID LIMIT 5;"
   ]
  },
  {
   "cell_type": "code",
   "execution_count": 161,
   "metadata": {},
   "outputs": [
    {
     "name": "stdout",
     "output_type": "stream",
     "text": [
      " * sqlite:///DB_practice.db\n",
      "Done.\n"
     ]
    },
    {
     "data": {
      "text/html": [
       "<table>\n",
       "    <tr>\n",
       "        <th>ProductName</th>\n",
       "        <th>CategoryName</th>\n",
       "        <th>CategoryID</th>\n",
       "    </tr>\n",
       "    <tr>\n",
       "        <td>Chais</td>\n",
       "        <td>Beverages</td>\n",
       "        <td>1</td>\n",
       "    </tr>\n",
       "    <tr>\n",
       "        <td>Chang</td>\n",
       "        <td>Beverages</td>\n",
       "        <td>1</td>\n",
       "    </tr>\n",
       "    <tr>\n",
       "        <td>Aniseed Syrup</td>\n",
       "        <td>Condiments</td>\n",
       "        <td>2</td>\n",
       "    </tr>\n",
       "    <tr>\n",
       "        <td>Chef Anton&#x27;s Cajun Seasoning</td>\n",
       "        <td>Condiments</td>\n",
       "        <td>2</td>\n",
       "    </tr>\n",
       "    <tr>\n",
       "        <td>Chef Anton&#x27;s Gumbo Mix</td>\n",
       "        <td>Condiments</td>\n",
       "        <td>2</td>\n",
       "    </tr>\n",
       "</table>"
      ],
      "text/plain": [
       "[('Chais', 'Beverages', 1),\n",
       " ('Chang', 'Beverages', 1),\n",
       " ('Aniseed Syrup', 'Condiments', 2),\n",
       " (\"Chef Anton's Cajun Seasoning\", 'Condiments', 2),\n",
       " (\"Chef Anton's Gumbo Mix\", 'Condiments', 2)]"
      ]
     },
     "execution_count": 161,
     "metadata": {},
     "output_type": "execute_result"
    }
   ],
   "source": [
    "%%sql\n",
    "SELECT PR.ProductName, CA.CategoryName, CA.CategoryID FROM Products AS PR LEFT OUTER JOIN Categories AS CA ON PR.CategoryID = CA.CategoryID LIMIT 5;"
   ]
  },
  {
   "cell_type": "code",
   "execution_count": 162,
   "metadata": {},
   "outputs": [
    {
     "name": "stdout",
     "output_type": "stream",
     "text": [
      " * sqlite:///DB_practice.db\n",
      "Done.\n"
     ]
    },
    {
     "data": {
      "text/html": [
       "<table>\n",
       "    <tr>\n",
       "        <th>ProductName</th>\n",
       "        <th>CategoryName</th>\n",
       "        <th>CategoryID</th>\n",
       "    </tr>\n",
       "    <tr>\n",
       "        <td>Chais</td>\n",
       "        <td>Beverages</td>\n",
       "        <td>1</td>\n",
       "    </tr>\n",
       "    <tr>\n",
       "        <td>Chang</td>\n",
       "        <td>Beverages</td>\n",
       "        <td>1</td>\n",
       "    </tr>\n",
       "    <tr>\n",
       "        <td>Aniseed Syrup</td>\n",
       "        <td>Condiments</td>\n",
       "        <td>2</td>\n",
       "    </tr>\n",
       "    <tr>\n",
       "        <td>Chef Anton&#x27;s Cajun Seasoning</td>\n",
       "        <td>Condiments</td>\n",
       "        <td>2</td>\n",
       "    </tr>\n",
       "    <tr>\n",
       "        <td>Chef Anton&#x27;s Gumbo Mix</td>\n",
       "        <td>Condiments</td>\n",
       "        <td>2</td>\n",
       "    </tr>\n",
       "</table>"
      ],
      "text/plain": [
       "[('Chais', 'Beverages', 1),\n",
       " ('Chang', 'Beverages', 1),\n",
       " ('Aniseed Syrup', 'Condiments', 2),\n",
       " (\"Chef Anton's Cajun Seasoning\", 'Condiments', 2),\n",
       " (\"Chef Anton's Gumbo Mix\", 'Condiments', 2)]"
      ]
     },
     "execution_count": 162,
     "metadata": {},
     "output_type": "execute_result"
    }
   ],
   "source": [
    "%%sql\n",
    "SELECT PR.ProductName, CA.CategoryName, CA.CategoryID FROM Products PR LEFT OUTER JOIN Categories CA ON PR.CategoryID = CA.CategoryID LIMIT 5;"
   ]
  },
  {
   "cell_type": "code",
   "execution_count": 163,
   "metadata": {},
   "outputs": [
    {
     "name": "stdout",
     "output_type": "stream",
     "text": [
      " * sqlite:///DB_practice.db\n",
      "Done.\n"
     ]
    },
    {
     "data": {
      "text/html": [
       "<table>\n",
       "    <tr>\n",
       "        <th>CustomerID</th>\n",
       "        <th>CustomerName</th>\n",
       "        <th>ContactName</th>\n",
       "        <th>Address</th>\n",
       "        <th>City</th>\n",
       "        <th>PostalCode</th>\n",
       "        <th>Country</th>\n",
       "    </tr>\n",
       "    <tr>\n",
       "        <td>1</td>\n",
       "        <td>Alfreds Futterkiste</td>\n",
       "        <td>Maria Anders</td>\n",
       "        <td>Obere Str. 57</td>\n",
       "        <td>Berlin</td>\n",
       "        <td>12209</td>\n",
       "        <td>Germany</td>\n",
       "    </tr>\n",
       "    <tr>\n",
       "        <td>2</td>\n",
       "        <td>Ana Trujillo Emparedados y helados</td>\n",
       "        <td>Ana Trujillo</td>\n",
       "        <td>Avda. de la Constitución 2222</td>\n",
       "        <td>México D.F.</td>\n",
       "        <td>5021</td>\n",
       "        <td>Mexico</td>\n",
       "    </tr>\n",
       "    <tr>\n",
       "        <td>3</td>\n",
       "        <td>Antonio Moreno Taquería</td>\n",
       "        <td>Antonio Moreno</td>\n",
       "        <td>Mataderos 2312</td>\n",
       "        <td>México D.F.</td>\n",
       "        <td>5023</td>\n",
       "        <td>Mexico</td>\n",
       "    </tr>\n",
       "</table>"
      ],
      "text/plain": [
       "[(1, 'Alfreds Futterkiste', 'Maria Anders', 'Obere Str. 57', 'Berlin', '12209', 'Germany'),\n",
       " (2, 'Ana Trujillo Emparedados y helados', 'Ana Trujillo', 'Avda. de la Constitución 2222', 'México D.F.', '5021', 'Mexico'),\n",
       " (3, 'Antonio Moreno Taquería', 'Antonio Moreno', 'Mataderos 2312', 'México D.F.', '5023', 'Mexico')]"
      ]
     },
     "execution_count": 163,
     "metadata": {},
     "output_type": "execute_result"
    }
   ],
   "source": [
    "%%sql\n",
    "SELECT * FROM CUSTOMERS LIMIT 3;"
   ]
  },
  {
   "cell_type": "code",
   "execution_count": 164,
   "metadata": {},
   "outputs": [
    {
     "name": "stdout",
     "output_type": "stream",
     "text": [
      " * sqlite:///DB_practice.db\n",
      "Done.\n"
     ]
    },
    {
     "data": {
      "text/html": [
       "<table>\n",
       "    <tr>\n",
       "        <th>OrderID</th>\n",
       "        <th>CustomerID</th>\n",
       "        <th>EmployeeID</th>\n",
       "        <th>OrderDate</th>\n",
       "        <th>ShipperID</th>\n",
       "    </tr>\n",
       "    <tr>\n",
       "        <td>10248</td>\n",
       "        <td>90</td>\n",
       "        <td>5</td>\n",
       "        <td>4.07.1996</td>\n",
       "        <td>3</td>\n",
       "    </tr>\n",
       "    <tr>\n",
       "        <td>10249</td>\n",
       "        <td>81</td>\n",
       "        <td>6</td>\n",
       "        <td>5.07.1996</td>\n",
       "        <td>1</td>\n",
       "    </tr>\n",
       "    <tr>\n",
       "        <td>10250</td>\n",
       "        <td>34</td>\n",
       "        <td>4</td>\n",
       "        <td>8.07.1996</td>\n",
       "        <td>2</td>\n",
       "    </tr>\n",
       "</table>"
      ],
      "text/plain": [
       "[(10248, 90, 5, '4.07.1996', 3),\n",
       " (10249, 81, 6, '5.07.1996', 1),\n",
       " (10250, 34, 4, '8.07.1996', 2)]"
      ]
     },
     "execution_count": 164,
     "metadata": {},
     "output_type": "execute_result"
    }
   ],
   "source": [
    "%%sql\n",
    "SELECT * FROM ORDERS LIMIT 3;"
   ]
  },
  {
   "cell_type": "code",
   "execution_count": 166,
   "metadata": {},
   "outputs": [],
   "source": [
    "# inner join"
   ]
  },
  {
   "cell_type": "code",
   "execution_count": 177,
   "metadata": {},
   "outputs": [
    {
     "name": "stdout",
     "output_type": "stream",
     "text": [
      " * sqlite:///DB_practice.db\n",
      "Done.\n"
     ]
    },
    {
     "data": {
      "text/html": [
       "<table>\n",
       "    <tr>\n",
       "        <th>OrderID</th>\n",
       "        <th>CustomerName</th>\n",
       "    </tr>\n",
       "    <tr>\n",
       "        <td>10248</td>\n",
       "        <td>Wilman Kala</td>\n",
       "    </tr>\n",
       "    <tr>\n",
       "        <td>10249</td>\n",
       "        <td>Tradição Hipermercados</td>\n",
       "    </tr>\n",
       "    <tr>\n",
       "        <td>10250</td>\n",
       "        <td>Hanari Carnes</td>\n",
       "    </tr>\n",
       "    <tr>\n",
       "        <td>10251</td>\n",
       "        <td>Victuailles en stock</td>\n",
       "    </tr>\n",
       "    <tr>\n",
       "        <td>10252</td>\n",
       "        <td>Suprêmes délices</td>\n",
       "    </tr>\n",
       "    <tr>\n",
       "        <td>10253</td>\n",
       "        <td>Hanari Carnes</td>\n",
       "    </tr>\n",
       "    <tr>\n",
       "        <td>10254</td>\n",
       "        <td>Chop-suey Chinese</td>\n",
       "    </tr>\n",
       "    <tr>\n",
       "        <td>10255</td>\n",
       "        <td>Richter Supermarkt</td>\n",
       "    </tr>\n",
       "    <tr>\n",
       "        <td>10256</td>\n",
       "        <td>Wellington Importadora</td>\n",
       "    </tr>\n",
       "    <tr>\n",
       "        <td>10257</td>\n",
       "        <td>HILARIÓN-Abastos</td>\n",
       "    </tr>\n",
       "</table>"
      ],
      "text/plain": [
       "[(10248, 'Wilman Kala'),\n",
       " (10249, 'Tradição Hipermercados'),\n",
       " (10250, 'Hanari Carnes'),\n",
       " (10251, 'Victuailles en stock'),\n",
       " (10252, 'Suprêmes délices'),\n",
       " (10253, 'Hanari Carnes'),\n",
       " (10254, 'Chop-suey Chinese'),\n",
       " (10255, 'Richter Supermarkt'),\n",
       " (10256, 'Wellington Importadora'),\n",
       " (10257, 'HILARIÓN-Abastos')]"
      ]
     },
     "execution_count": 177,
     "metadata": {},
     "output_type": "execute_result"
    }
   ],
   "source": [
    "%%sql\n",
    "SELECT Orders.OrderID, Customers.CustomerName FROM Orders INNER JOIN Customers ON Orders.CustomerID = Customers.CustomerID LIMIT 10;"
   ]
  },
  {
   "cell_type": "code",
   "execution_count": 179,
   "metadata": {},
   "outputs": [
    {
     "name": "stdout",
     "output_type": "stream",
     "text": [
      " * sqlite:///DB_practice.db\n",
      "Done.\n"
     ]
    },
    {
     "data": {
      "text/html": [
       "<table>\n",
       "    <tr>\n",
       "        <th>COUNT(*)</th>\n",
       "    </tr>\n",
       "    <tr>\n",
       "        <td>91</td>\n",
       "    </tr>\n",
       "</table>"
      ],
      "text/plain": [
       "[(91,)]"
      ]
     },
     "execution_count": 179,
     "metadata": {},
     "output_type": "execute_result"
    }
   ],
   "source": [
    "%%sql\n",
    "SELECT COUNT(*) FROM Customers;"
   ]
  },
  {
   "cell_type": "code",
   "execution_count": 178,
   "metadata": {},
   "outputs": [
    {
     "name": "stdout",
     "output_type": "stream",
     "text": [
      " * sqlite:///DB_practice.db\n",
      "Done.\n"
     ]
    },
    {
     "data": {
      "text/html": [
       "<table>\n",
       "    <tr>\n",
       "        <th>COUNT(*)</th>\n",
       "    </tr>\n",
       "    <tr>\n",
       "        <td>196</td>\n",
       "    </tr>\n",
       "</table>"
      ],
      "text/plain": [
       "[(196,)]"
      ]
     },
     "execution_count": 178,
     "metadata": {},
     "output_type": "execute_result"
    }
   ],
   "source": [
    "%%sql\n",
    "SELECT COUNT(*) FROM (SELECT Orders.OrderID, Customers.CustomerName FROM Orders INNER JOIN Customers ON Orders.CustomerID = Customers.CustomerID);"
   ]
  },
  {
   "cell_type": "markdown",
   "metadata": {},
   "source": [
    "# SQL and Pandas DataFrame Operations"
   ]
  },
  {
   "cell_type": "code",
   "execution_count": 216,
   "metadata": {},
   "outputs": [],
   "source": [
    "import matplotlib.pyplot as plt\n",
    "import pandas as pd"
   ]
  },
  {
   "cell_type": "code",
   "execution_count": 193,
   "metadata": {},
   "outputs": [
    {
     "name": "stdout",
     "output_type": "stream",
     "text": [
      " * sqlite:///DB_practice.db\n",
      "Done.\n"
     ]
    },
    {
     "data": {
      "text/html": [
       "<table>\n",
       "    <tr>\n",
       "        <th>CUSTOMER_COUNT</th>\n",
       "        <th>Country</th>\n",
       "    </tr>\n",
       "    <tr>\n",
       "        <td>13</td>\n",
       "        <td>USA</td>\n",
       "    </tr>\n",
       "    <tr>\n",
       "        <td>11</td>\n",
       "        <td>Germany</td>\n",
       "    </tr>\n",
       "    <tr>\n",
       "        <td>11</td>\n",
       "        <td>France</td>\n",
       "    </tr>\n",
       "    <tr>\n",
       "        <td>9</td>\n",
       "        <td>Brazil</td>\n",
       "    </tr>\n",
       "    <tr>\n",
       "        <td>7</td>\n",
       "        <td>UK</td>\n",
       "    </tr>\n",
       "    <tr>\n",
       "        <td>5</td>\n",
       "        <td>Spain</td>\n",
       "    </tr>\n",
       "    <tr>\n",
       "        <td>5</td>\n",
       "        <td>Mexico</td>\n",
       "    </tr>\n",
       "    <tr>\n",
       "        <td>4</td>\n",
       "        <td>Venezuela</td>\n",
       "    </tr>\n",
       "    <tr>\n",
       "        <td>3</td>\n",
       "        <td>Italy</td>\n",
       "    </tr>\n",
       "    <tr>\n",
       "        <td>3</td>\n",
       "        <td>Canada</td>\n",
       "    </tr>\n",
       "    <tr>\n",
       "        <td>3</td>\n",
       "        <td>Argentina</td>\n",
       "    </tr>\n",
       "    <tr>\n",
       "        <td>2</td>\n",
       "        <td>Switzerland</td>\n",
       "    </tr>\n",
       "    <tr>\n",
       "        <td>2</td>\n",
       "        <td>Sweden</td>\n",
       "    </tr>\n",
       "    <tr>\n",
       "        <td>2</td>\n",
       "        <td>Portugal</td>\n",
       "    </tr>\n",
       "    <tr>\n",
       "        <td>2</td>\n",
       "        <td>Finland</td>\n",
       "    </tr>\n",
       "    <tr>\n",
       "        <td>2</td>\n",
       "        <td>Denmark</td>\n",
       "    </tr>\n",
       "    <tr>\n",
       "        <td>2</td>\n",
       "        <td>Belgium</td>\n",
       "    </tr>\n",
       "    <tr>\n",
       "        <td>2</td>\n",
       "        <td>Austria</td>\n",
       "    </tr>\n",
       "    <tr>\n",
       "        <td>1</td>\n",
       "        <td>Poland</td>\n",
       "    </tr>\n",
       "    <tr>\n",
       "        <td>1</td>\n",
       "        <td>Norway</td>\n",
       "    </tr>\n",
       "    <tr>\n",
       "        <td>1</td>\n",
       "        <td>Ireland</td>\n",
       "    </tr>\n",
       "</table>"
      ],
      "text/plain": [
       "[(13, 'USA'),\n",
       " (11, 'Germany'),\n",
       " (11, 'France'),\n",
       " (9, 'Brazil'),\n",
       " (7, 'UK'),\n",
       " (5, 'Spain'),\n",
       " (5, 'Mexico'),\n",
       " (4, 'Venezuela'),\n",
       " (3, 'Italy'),\n",
       " (3, 'Canada'),\n",
       " (3, 'Argentina'),\n",
       " (2, 'Switzerland'),\n",
       " (2, 'Sweden'),\n",
       " (2, 'Portugal'),\n",
       " (2, 'Finland'),\n",
       " (2, 'Denmark'),\n",
       " (2, 'Belgium'),\n",
       " (2, 'Austria'),\n",
       " (1, 'Poland'),\n",
       " (1, 'Norway'),\n",
       " (1, 'Ireland')]"
      ]
     },
     "execution_count": 193,
     "metadata": {},
     "output_type": "execute_result"
    }
   ],
   "source": [
    "%%sql\n",
    "SELECT COUNT(CustomerID) as CUSTOMER_COUNT, Country FROM Customers GROUP BY Country ORDER BY CUSTOMER_COUNT DESC ;"
   ]
  },
  {
   "cell_type": "code",
   "execution_count": 194,
   "metadata": {},
   "outputs": [
    {
     "name": "stdout",
     "output_type": "stream",
     "text": [
      " * sqlite:///DB_practice.db\n",
      "Done.\n"
     ]
    }
   ],
   "source": [
    "df = %sql SELECT COUNT(CustomerID) as CUSTOMER_COUNT, Country FROM Customers GROUP BY Country ORDER BY CUSTOMER_COUNT DESC;"
   ]
  },
  {
   "cell_type": "code",
   "execution_count": 195,
   "metadata": {},
   "outputs": [
    {
     "ename": "AttributeError",
     "evalue": "'ResultSet' object has no attribute 'head'",
     "output_type": "error",
     "traceback": [
      "\u001b[0;31m---------------------------------------------------------------------------\u001b[0m",
      "\u001b[0;31mAttributeError\u001b[0m                            Traceback (most recent call last)",
      "\u001b[0;32m<ipython-input-195-56f6dc40485d>\u001b[0m in \u001b[0;36m<module>\u001b[0;34m\u001b[0m\n\u001b[0;32m----> 1\u001b[0;31m \u001b[0mdf\u001b[0m\u001b[0;34m.\u001b[0m\u001b[0mhead\u001b[0m\u001b[0;34m(\u001b[0m\u001b[0;34m)\u001b[0m \u001b[0;31m# it'll give error\u001b[0m\u001b[0;34m\u001b[0m\u001b[0;34m\u001b[0m\u001b[0m\n\u001b[0m",
      "\u001b[0;31mAttributeError\u001b[0m: 'ResultSet' object has no attribute 'head'"
     ]
    }
   ],
   "source": [
    "df.head() # it'll give error"
   ]
  },
  {
   "cell_type": "code",
   "execution_count": 196,
   "metadata": {},
   "outputs": [],
   "source": [
    "data = pd.DataFrame(df,columns=['Customer_Count', 'Country'])"
   ]
  },
  {
   "cell_type": "code",
   "execution_count": 197,
   "metadata": {},
   "outputs": [
    {
     "data": {
      "text/html": [
       "<div>\n",
       "<style scoped>\n",
       "    .dataframe tbody tr th:only-of-type {\n",
       "        vertical-align: middle;\n",
       "    }\n",
       "\n",
       "    .dataframe tbody tr th {\n",
       "        vertical-align: top;\n",
       "    }\n",
       "\n",
       "    .dataframe thead th {\n",
       "        text-align: right;\n",
       "    }\n",
       "</style>\n",
       "<table border=\"1\" class=\"dataframe\">\n",
       "  <thead>\n",
       "    <tr style=\"text-align: right;\">\n",
       "      <th></th>\n",
       "      <th>Customer_Count</th>\n",
       "      <th>Country</th>\n",
       "    </tr>\n",
       "  </thead>\n",
       "  <tbody>\n",
       "    <tr>\n",
       "      <th>0</th>\n",
       "      <td>13</td>\n",
       "      <td>USA</td>\n",
       "    </tr>\n",
       "    <tr>\n",
       "      <th>1</th>\n",
       "      <td>11</td>\n",
       "      <td>Germany</td>\n",
       "    </tr>\n",
       "    <tr>\n",
       "      <th>2</th>\n",
       "      <td>11</td>\n",
       "      <td>France</td>\n",
       "    </tr>\n",
       "    <tr>\n",
       "      <th>3</th>\n",
       "      <td>9</td>\n",
       "      <td>Brazil</td>\n",
       "    </tr>\n",
       "    <tr>\n",
       "      <th>4</th>\n",
       "      <td>7</td>\n",
       "      <td>UK</td>\n",
       "    </tr>\n",
       "  </tbody>\n",
       "</table>\n",
       "</div>"
      ],
      "text/plain": [
       "   Customer_Count  Country\n",
       "0              13      USA\n",
       "1              11  Germany\n",
       "2              11   France\n",
       "3               9   Brazil\n",
       "4               7       UK"
      ]
     },
     "execution_count": 197,
     "metadata": {},
     "output_type": "execute_result"
    }
   ],
   "source": [
    "data.head()"
   ]
  },
  {
   "cell_type": "code",
   "execution_count": 198,
   "metadata": {},
   "outputs": [
    {
     "data": {
      "text/html": [
       "<div>\n",
       "<style scoped>\n",
       "    .dataframe tbody tr th:only-of-type {\n",
       "        vertical-align: middle;\n",
       "    }\n",
       "\n",
       "    .dataframe tbody tr th {\n",
       "        vertical-align: top;\n",
       "    }\n",
       "\n",
       "    .dataframe thead th {\n",
       "        text-align: right;\n",
       "    }\n",
       "</style>\n",
       "<table border=\"1\" class=\"dataframe\">\n",
       "  <thead>\n",
       "    <tr style=\"text-align: right;\">\n",
       "      <th></th>\n",
       "      <th>Customer_Count</th>\n",
       "      <th>Country</th>\n",
       "    </tr>\n",
       "  </thead>\n",
       "  <tbody>\n",
       "    <tr>\n",
       "      <th>0</th>\n",
       "      <td>13</td>\n",
       "      <td>USA</td>\n",
       "    </tr>\n",
       "    <tr>\n",
       "      <th>1</th>\n",
       "      <td>11</td>\n",
       "      <td>Germany</td>\n",
       "    </tr>\n",
       "    <tr>\n",
       "      <th>2</th>\n",
       "      <td>11</td>\n",
       "      <td>France</td>\n",
       "    </tr>\n",
       "    <tr>\n",
       "      <th>3</th>\n",
       "      <td>9</td>\n",
       "      <td>Brazil</td>\n",
       "    </tr>\n",
       "    <tr>\n",
       "      <th>4</th>\n",
       "      <td>7</td>\n",
       "      <td>UK</td>\n",
       "    </tr>\n",
       "    <tr>\n",
       "      <th>5</th>\n",
       "      <td>5</td>\n",
       "      <td>Spain</td>\n",
       "    </tr>\n",
       "    <tr>\n",
       "      <th>6</th>\n",
       "      <td>5</td>\n",
       "      <td>Mexico</td>\n",
       "    </tr>\n",
       "    <tr>\n",
       "      <th>7</th>\n",
       "      <td>4</td>\n",
       "      <td>Venezuela</td>\n",
       "    </tr>\n",
       "    <tr>\n",
       "      <th>8</th>\n",
       "      <td>3</td>\n",
       "      <td>Italy</td>\n",
       "    </tr>\n",
       "    <tr>\n",
       "      <th>9</th>\n",
       "      <td>3</td>\n",
       "      <td>Canada</td>\n",
       "    </tr>\n",
       "    <tr>\n",
       "      <th>10</th>\n",
       "      <td>3</td>\n",
       "      <td>Argentina</td>\n",
       "    </tr>\n",
       "    <tr>\n",
       "      <th>11</th>\n",
       "      <td>2</td>\n",
       "      <td>Switzerland</td>\n",
       "    </tr>\n",
       "    <tr>\n",
       "      <th>12</th>\n",
       "      <td>2</td>\n",
       "      <td>Sweden</td>\n",
       "    </tr>\n",
       "    <tr>\n",
       "      <th>13</th>\n",
       "      <td>2</td>\n",
       "      <td>Portugal</td>\n",
       "    </tr>\n",
       "    <tr>\n",
       "      <th>14</th>\n",
       "      <td>2</td>\n",
       "      <td>Finland</td>\n",
       "    </tr>\n",
       "    <tr>\n",
       "      <th>15</th>\n",
       "      <td>2</td>\n",
       "      <td>Denmark</td>\n",
       "    </tr>\n",
       "    <tr>\n",
       "      <th>16</th>\n",
       "      <td>2</td>\n",
       "      <td>Belgium</td>\n",
       "    </tr>\n",
       "    <tr>\n",
       "      <th>17</th>\n",
       "      <td>2</td>\n",
       "      <td>Austria</td>\n",
       "    </tr>\n",
       "    <tr>\n",
       "      <th>18</th>\n",
       "      <td>1</td>\n",
       "      <td>Poland</td>\n",
       "    </tr>\n",
       "    <tr>\n",
       "      <th>19</th>\n",
       "      <td>1</td>\n",
       "      <td>Norway</td>\n",
       "    </tr>\n",
       "    <tr>\n",
       "      <th>20</th>\n",
       "      <td>1</td>\n",
       "      <td>Ireland</td>\n",
       "    </tr>\n",
       "  </tbody>\n",
       "</table>\n",
       "</div>"
      ],
      "text/plain": [
       "    Customer_Count      Country\n",
       "0               13          USA\n",
       "1               11      Germany\n",
       "2               11       France\n",
       "3                9       Brazil\n",
       "4                7           UK\n",
       "5                5        Spain\n",
       "6                5       Mexico\n",
       "7                4    Venezuela\n",
       "8                3        Italy\n",
       "9                3       Canada\n",
       "10               3    Argentina\n",
       "11               2  Switzerland\n",
       "12               2       Sweden\n",
       "13               2     Portugal\n",
       "14               2      Finland\n",
       "15               2      Denmark\n",
       "16               2      Belgium\n",
       "17               2      Austria\n",
       "18               1       Poland\n",
       "19               1       Norway\n",
       "20               1      Ireland"
      ]
     },
     "execution_count": 198,
     "metadata": {},
     "output_type": "execute_result"
    }
   ],
   "source": [
    "data"
   ]
  },
  {
   "cell_type": "code",
   "execution_count": 214,
   "metadata": {},
   "outputs": [
    {
     "data": {
      "image/png": "[encoded data removed]",
      "text/plain": [
       "<Figure size 432x288 with 1 Axes>"
      ]
     },
     "metadata": {
      "needs_background": "light"
     },
     "output_type": "display_data"
    }
   ],
   "source": [
    "data.plot.barh(x = \"Country\", y = 'Customer_Count');"
   ]
  },
  {
   "cell_type": "code",
   "execution_count": 226,
   "metadata": {},
   "outputs": [
    {
     "data": {
      "image/png": "[encoded data removed]",
      "text/plain": [
       "<Figure size 432x288 with 1 Axes>"
      ]
     },
     "metadata": {
      "needs_background": "light"
     },
     "output_type": "display_data"
    }
   ],
   "source": [
    "data.sort_values(by = \"Customer_Count\", \n",
    "                       axis = 0, \n",
    "                       ascending = True).plot.barh(x = \"Country\", y = 'Customer_Count');"
   ]
  },
  {
   "cell_type": "markdown",
   "metadata": {},
   "source": [
    "# sqlite3"
   ]
  },
  {
   "cell_type": "code",
   "execution_count": 199,
   "metadata": {},
   "outputs": [],
   "source": [
    "import sqlite3"
   ]
  },
  {
   "cell_type": "code",
   "execution_count": 200,
   "metadata": {},
   "outputs": [],
   "source": [
    "conn = sqlite3.connect('DB_practice.db')"
   ]
  },
  {
   "cell_type": "code",
   "execution_count": 201,
   "metadata": {},
   "outputs": [
    {
     "data": {
      "text/plain": [
       "\u001b[0;31mCall signature:\u001b[0m \u001b[0mconn\u001b[0m\u001b[0;34m(\u001b[0m\u001b[0;34m*\u001b[0m\u001b[0margs\u001b[0m\u001b[0;34m,\u001b[0m \u001b[0;34m**\u001b[0m\u001b[0mkwargs\u001b[0m\u001b[0;34m)\u001b[0m\u001b[0;34m\u001b[0m\u001b[0;34m\u001b[0m\u001b[0m\n",
       "\u001b[0;31mType:\u001b[0m           Connection\n",
       "\u001b[0;31mString form:\u001b[0m    <sqlite3.Connection object at 0x11b6f3490>\n",
       "\u001b[0;31mFile:\u001b[0m           /opt/anaconda3/lib/python3.7/sqlite3/__init__.py\n",
       "\u001b[0;31mDocstring:\u001b[0m      SQLite database connection object.\n"
      ]
     },
     "metadata": {},
     "output_type": "display_data"
    }
   ],
   "source": [
    "?conn"
   ]
  },
  {
   "cell_type": "code",
   "execution_count": 202,
   "metadata": {},
   "outputs": [],
   "source": [
    "c = conn.cursor()"
   ]
  },
  {
   "cell_type": "code",
   "execution_count": 203,
   "metadata": {},
   "outputs": [
    {
     "data": {
      "text/plain": [
       "\u001b[0;31mType:\u001b[0m        Cursor\n",
       "\u001b[0;31mString form:\u001b[0m <sqlite3.Cursor object at 0x11b88b260>\n",
       "\u001b[0;31mFile:\u001b[0m        /opt/anaconda3/lib/python3.7/sqlite3/__init__.py\n",
       "\u001b[0;31mDocstring:\u001b[0m   SQLite database cursor class.\n"
      ]
     },
     "metadata": {},
     "output_type": "display_data"
    }
   ],
   "source": [
    "?c"
   ]
  },
  {
   "cell_type": "code",
   "execution_count": 204,
   "metadata": {
    "collapsed": true,
    "jupyter": {
     "outputs_hidden": true
    }
   },
   "outputs": [
    {
     "data": {
      "text/plain": [
       "\u001b[0;31mSignature:\u001b[0m\n",
       "\u001b[0mpd\u001b[0m\u001b[0;34m.\u001b[0m\u001b[0mread_sql\u001b[0m\u001b[0;34m(\u001b[0m\u001b[0;34m\u001b[0m\n",
       "\u001b[0;34m\u001b[0m    \u001b[0msql\u001b[0m\u001b[0;34m,\u001b[0m\u001b[0;34m\u001b[0m\n",
       "\u001b[0;34m\u001b[0m    \u001b[0mcon\u001b[0m\u001b[0;34m,\u001b[0m\u001b[0;34m\u001b[0m\n",
       "\u001b[0;34m\u001b[0m    \u001b[0mindex_col\u001b[0m\u001b[0;34m=\u001b[0m\u001b[0;32mNone\u001b[0m\u001b[0;34m,\u001b[0m\u001b[0;34m\u001b[0m\n",
       "\u001b[0;34m\u001b[0m    \u001b[0mcoerce_float\u001b[0m\u001b[0;34m=\u001b[0m\u001b[0;32mTrue\u001b[0m\u001b[0;34m,\u001b[0m\u001b[0;34m\u001b[0m\n",
       "\u001b[0;34m\u001b[0m    \u001b[0mparams\u001b[0m\u001b[0;34m=\u001b[0m\u001b[0;32mNone\u001b[0m\u001b[0;34m,\u001b[0m\u001b[0;34m\u001b[0m\n",
       "\u001b[0;34m\u001b[0m    \u001b[0mparse_dates\u001b[0m\u001b[0;34m=\u001b[0m\u001b[0;32mNone\u001b[0m\u001b[0;34m,\u001b[0m\u001b[0;34m\u001b[0m\n",
       "\u001b[0;34m\u001b[0m    \u001b[0mcolumns\u001b[0m\u001b[0;34m=\u001b[0m\u001b[0;32mNone\u001b[0m\u001b[0;34m,\u001b[0m\u001b[0;34m\u001b[0m\n",
       "\u001b[0;34m\u001b[0m    \u001b[0mchunksize\u001b[0m\u001b[0;34m=\u001b[0m\u001b[0;32mNone\u001b[0m\u001b[0;34m,\u001b[0m\u001b[0;34m\u001b[0m\n",
       "\u001b[0;34m\u001b[0m\u001b[0;34m)\u001b[0m\u001b[0;34m\u001b[0m\u001b[0;34m\u001b[0m\u001b[0m\n",
       "\u001b[0;31mDocstring:\u001b[0m\n",
       "Read SQL query or database table into a DataFrame.\n",
       "\n",
       "This function is a convenience wrapper around ``read_sql_table`` and\n",
       "``read_sql_query`` (for backward compatibility). It will delegate\n",
       "to the specific function depending on the provided input. A SQL query\n",
       "will be routed to ``read_sql_query``, while a database table name will\n",
       "be routed to ``read_sql_table``. Note that the delegated function might\n",
       "have more specific notes about their functionality not listed here.\n",
       "\n",
       "Parameters\n",
       "----------\n",
       "sql : str or SQLAlchemy Selectable (select or text object)\n",
       "    SQL query to be executed or a table name.\n",
       "con : SQLAlchemy connectable (engine/connection) or database str URI\n",
       "    or DBAPI2 connection (fallback mode)'\n",
       "\n",
       "    Using SQLAlchemy makes it possible to use any DB supported by that\n",
       "    library. If a DBAPI2 object, only sqlite3 is supported. The user is responsible\n",
       "    for engine disposal and connection closure for the SQLAlchemy connectable. See\n",
       "    `here <https://docs.sqlalchemy.org/en/13/core/connections.html>`_\n",
       "index_col : str or list of strings, optional, default: None\n",
       "    Column(s) to set as index(MultiIndex).\n",
       "coerce_float : bool, default True\n",
       "    Attempts to convert values of non-string, non-numeric objects (like\n",
       "    decimal.Decimal) to floating point, useful for SQL result sets.\n",
       "params : list, tuple or dict, optional, default: None\n",
       "    List of parameters to pass to execute method.  The syntax used\n",
       "    to pass parameters is database driver dependent. Check your\n",
       "    database driver documentation for which of the five syntax styles,\n",
       "    described in PEP 249's paramstyle, is supported.\n",
       "    Eg. for psycopg2, uses %(name)s so use params={'name' : 'value'}.\n",
       "parse_dates : list or dict, default: None\n",
       "    - List of column names to parse as dates.\n",
       "    - Dict of ``{column_name: format string}`` where format string is\n",
       "      strftime compatible in case of parsing string times, or is one of\n",
       "      (D, s, ns, ms, us) in case of parsing integer timestamps.\n",
       "    - Dict of ``{column_name: arg dict}``, where the arg dict corresponds\n",
       "      to the keyword arguments of :func:`pandas.to_datetime`\n",
       "      Especially useful with databases without native Datetime support,\n",
       "      such as SQLite.\n",
       "columns : list, default: None\n",
       "    List of column names to select from SQL table (only used when reading\n",
       "    a table).\n",
       "chunksize : int, default None\n",
       "    If specified, return an iterator where `chunksize` is the\n",
       "    number of rows to include in each chunk.\n",
       "\n",
       "Returns\n",
       "-------\n",
       "DataFrame\n",
       "\n",
       "See Also\n",
       "--------\n",
       "read_sql_table : Read SQL database table into a DataFrame.\n",
       "read_sql_query : Read SQL query into a DataFrame.\n",
       "\u001b[0;31mFile:\u001b[0m      /opt/anaconda3/lib/python3.7/site-packages/pandas/io/sql.py\n",
       "\u001b[0;31mType:\u001b[0m      function\n"
      ]
     },
     "metadata": {},
     "output_type": "display_data"
    }
   ],
   "source": [
    "?pd.read_sql"
   ]
  },
  {
   "cell_type": "code",
   "execution_count": 207,
   "metadata": {},
   "outputs": [],
   "source": [
    "data_2 = pd.read_sql('SELECT COUNT(CustomerID) AS Customer_Count, Country FROM Customers GROUP BY Country ORDER BY CUSTOMER_COUNT DESC;', conn)"
   ]
  },
  {
   "cell_type": "code",
   "execution_count": 209,
   "metadata": {},
   "outputs": [
    {
     "data": {
      "text/plain": [
       "pandas.core.frame.DataFrame"
      ]
     },
     "execution_count": 209,
     "metadata": {},
     "output_type": "execute_result"
    }
   ],
   "source": [
    "type(data_2)"
   ]
  },
  {
   "cell_type": "code",
   "execution_count": 210,
   "metadata": {},
   "outputs": [],
   "source": [
    "#conn.close()"
   ]
  },
  {
   "cell_type": "code",
   "execution_count": 232,
   "metadata": {},
   "outputs": [
    {
     "data": {
      "text/plain": [
       "<sqlite3.Cursor at 0x11b88b260>"
      ]
     },
     "execution_count": 232,
     "metadata": {},
     "output_type": "execute_result"
    }
   ],
   "source": [
    "c.execute('SELECT CustomerName FROM Customers LIMIT 5')"
   ]
  },
  {
   "cell_type": "code",
   "execution_count": 229,
   "metadata": {},
   "outputs": [
    {
     "data": {
      "text/plain": [
       "[('Ana Trujillo Emparedados y helados',),\n",
       " ('Antonio Moreno Taquería',),\n",
       " ('Around the Horn',),\n",
       " ('Berglunds snabbköp',)]"
      ]
     },
     "execution_count": 229,
     "metadata": {},
     "output_type": "execute_result"
    }
   ],
   "source": [
    "c.fetchall()"
   ]
  },
  {
   "cell_type": "code",
   "execution_count": 230,
   "metadata": {},
   "outputs": [
    {
     "name": "stdout",
     "output_type": "stream",
     "text": [
      "('Alfreds Futterkiste',)\n",
      "('Ana Trujillo Emparedados y helados',)\n",
      "('Antonio Moreno Taquería',)\n",
      "('Around the Horn',)\n",
      "('Berglunds snabbköp',)\n"
     ]
    }
   ],
   "source": [
    "for row in c.execute('SELECT CustomerName FROM Customers LIMIT 5;'):\n",
    "    print(row)"
   ]
  },
  {
   "cell_type": "markdown",
   "metadata": {},
   "source": [
    "# SQL PRACTICES"
   ]
  },
  {
   "cell_type": "markdown",
   "metadata": {},
   "source": [
    "## 1. Orders tablosunda kaç müşteri oldugunu bulunuz."
   ]
  },
  {
   "cell_type": "code",
   "execution_count": 235,
   "metadata": {},
   "outputs": [
    {
     "name": "stdout",
     "output_type": "stream",
     "text": [
      " * sqlite:///DB_practice.db\n",
      "Done.\n"
     ]
    },
    {
     "data": {
      "text/html": [
       "<table>\n",
       "    <tr>\n",
       "        <th>Number_Of_Customers</th>\n",
       "    </tr>\n",
       "    <tr>\n",
       "        <td>91</td>\n",
       "    </tr>\n",
       "</table>"
      ],
      "text/plain": [
       "[(91,)]"
      ]
     },
     "execution_count": 235,
     "metadata": {},
     "output_type": "execute_result"
    }
   ],
   "source": [
    "%%sql\n",
    "SELECT COUNT(*) AS Number_Of_Customers FROM Customers;"
   ]
  },
  {
   "cell_type": "markdown",
   "metadata": {},
   "source": [
    "## 2. Orders tablosunda kaç tane eşsiz müşteri olduğunu bulunuz."
   ]
  },
  {
   "cell_type": "code",
   "execution_count": 237,
   "metadata": {},
   "outputs": [
    {
     "name": "stdout",
     "output_type": "stream",
     "text": [
      " * sqlite:///DB_practice.db\n",
      "Done.\n"
     ]
    },
    {
     "data": {
      "text/html": [
       "<table>\n",
       "    <tr>\n",
       "        <th>Unique_Customers</th>\n",
       "    </tr>\n",
       "    <tr>\n",
       "        <td>74</td>\n",
       "    </tr>\n",
       "</table>"
      ],
      "text/plain": [
       "[(74,)]"
      ]
     },
     "execution_count": 237,
     "metadata": {},
     "output_type": "execute_result"
    }
   ],
   "source": [
    "%%sql\n",
    "SELECT COUNT(DISTINCT CustomerID) AS Unique_Customers FROM Orders;"
   ]
  },
  {
   "cell_type": "markdown",
   "metadata": {},
   "source": [
    "## 3. Customers tablosunda hangi ülkeden kaçar tane müşteri olduğunu bulunuz.\n"
   ]
  },
  {
   "cell_type": "code",
   "execution_count": 238,
   "metadata": {},
   "outputs": [
    {
     "name": "stdout",
     "output_type": "stream",
     "text": [
      " * sqlite:///DB_practice.db\n",
      "Done.\n"
     ]
    },
    {
     "data": {
      "text/html": [
       "<table>\n",
       "    <tr>\n",
       "        <th>CUSTOMER_COUNT</th>\n",
       "        <th>Country</th>\n",
       "    </tr>\n",
       "    <tr>\n",
       "        <td>13</td>\n",
       "        <td>USA</td>\n",
       "    </tr>\n",
       "    <tr>\n",
       "        <td>11</td>\n",
       "        <td>Germany</td>\n",
       "    </tr>\n",
       "    <tr>\n",
       "        <td>11</td>\n",
       "        <td>France</td>\n",
       "    </tr>\n",
       "    <tr>\n",
       "        <td>9</td>\n",
       "        <td>Brazil</td>\n",
       "    </tr>\n",
       "    <tr>\n",
       "        <td>7</td>\n",
       "        <td>UK</td>\n",
       "    </tr>\n",
       "    <tr>\n",
       "        <td>5</td>\n",
       "        <td>Spain</td>\n",
       "    </tr>\n",
       "    <tr>\n",
       "        <td>5</td>\n",
       "        <td>Mexico</td>\n",
       "    </tr>\n",
       "    <tr>\n",
       "        <td>4</td>\n",
       "        <td>Venezuela</td>\n",
       "    </tr>\n",
       "    <tr>\n",
       "        <td>3</td>\n",
       "        <td>Italy</td>\n",
       "    </tr>\n",
       "    <tr>\n",
       "        <td>3</td>\n",
       "        <td>Canada</td>\n",
       "    </tr>\n",
       "    <tr>\n",
       "        <td>3</td>\n",
       "        <td>Argentina</td>\n",
       "    </tr>\n",
       "    <tr>\n",
       "        <td>2</td>\n",
       "        <td>Switzerland</td>\n",
       "    </tr>\n",
       "    <tr>\n",
       "        <td>2</td>\n",
       "        <td>Sweden</td>\n",
       "    </tr>\n",
       "    <tr>\n",
       "        <td>2</td>\n",
       "        <td>Portugal</td>\n",
       "    </tr>\n",
       "    <tr>\n",
       "        <td>2</td>\n",
       "        <td>Finland</td>\n",
       "    </tr>\n",
       "    <tr>\n",
       "        <td>2</td>\n",
       "        <td>Denmark</td>\n",
       "    </tr>\n",
       "    <tr>\n",
       "        <td>2</td>\n",
       "        <td>Belgium</td>\n",
       "    </tr>\n",
       "    <tr>\n",
       "        <td>2</td>\n",
       "        <td>Austria</td>\n",
       "    </tr>\n",
       "    <tr>\n",
       "        <td>1</td>\n",
       "        <td>Poland</td>\n",
       "    </tr>\n",
       "    <tr>\n",
       "        <td>1</td>\n",
       "        <td>Norway</td>\n",
       "    </tr>\n",
       "    <tr>\n",
       "        <td>1</td>\n",
       "        <td>Ireland</td>\n",
       "    </tr>\n",
       "</table>"
      ],
      "text/plain": [
       "[(13, 'USA'),\n",
       " (11, 'Germany'),\n",
       " (11, 'France'),\n",
       " (9, 'Brazil'),\n",
       " (7, 'UK'),\n",
       " (5, 'Spain'),\n",
       " (5, 'Mexico'),\n",
       " (4, 'Venezuela'),\n",
       " (3, 'Italy'),\n",
       " (3, 'Canada'),\n",
       " (3, 'Argentina'),\n",
       " (2, 'Switzerland'),\n",
       " (2, 'Sweden'),\n",
       " (2, 'Portugal'),\n",
       " (2, 'Finland'),\n",
       " (2, 'Denmark'),\n",
       " (2, 'Belgium'),\n",
       " (2, 'Austria'),\n",
       " (1, 'Poland'),\n",
       " (1, 'Norway'),\n",
       " (1, 'Ireland')]"
      ]
     },
     "execution_count": 238,
     "metadata": {},
     "output_type": "execute_result"
    }
   ],
   "source": [
    "%%sql\n",
    "SELECT COUNT(CustomerID) AS CUSTOMER_COUNT, Country FROM Customers GROUP BY Country ORDER BY CUSTOMER_COUNT DESC ;"
   ]
  },
  {
   "cell_type": "markdown",
   "metadata": {},
   "source": [
    "## 4. Müşterilerin ülkesi Brazil ya da USA olanlarını bulunuz."
   ]
  },
  {
   "cell_type": "code",
   "execution_count": 239,
   "metadata": {},
   "outputs": [
    {
     "name": "stdout",
     "output_type": "stream",
     "text": [
      " * sqlite:///DB_practice.db\n",
      "Done.\n"
     ]
    },
    {
     "data": {
      "text/html": [
       "<table>\n",
       "    <tr>\n",
       "        <th>CustomerID</th>\n",
       "        <th>CustomerName</th>\n",
       "        <th>ContactName</th>\n",
       "        <th>Address</th>\n",
       "        <th>City</th>\n",
       "        <th>PostalCode</th>\n",
       "        <th>Country</th>\n",
       "    </tr>\n",
       "    <tr>\n",
       "        <td>15</td>\n",
       "        <td>Comércio Mineiro</td>\n",
       "        <td>Pedro Afonso</td>\n",
       "        <td>Av. dos Lusíadas, 23</td>\n",
       "        <td>São Paulo</td>\n",
       "        <td>05432-043</td>\n",
       "        <td>Brazil</td>\n",
       "    </tr>\n",
       "    <tr>\n",
       "        <td>21</td>\n",
       "        <td>Familia Arquibaldo</td>\n",
       "        <td>Aria Cruz</td>\n",
       "        <td>Rua Orós, 92</td>\n",
       "        <td>São Paulo</td>\n",
       "        <td>05442-030</td>\n",
       "        <td>Brazil</td>\n",
       "    </tr>\n",
       "    <tr>\n",
       "        <td>31</td>\n",
       "        <td>Gourmet Lanchonetes</td>\n",
       "        <td>André Fonseca</td>\n",
       "        <td>Av. Brasil, 442</td>\n",
       "        <td>Campinas</td>\n",
       "        <td>04876-786</td>\n",
       "        <td>Brazil</td>\n",
       "    </tr>\n",
       "    <tr>\n",
       "        <td>32</td>\n",
       "        <td>Great Lakes Food Market</td>\n",
       "        <td>Howard Snyder</td>\n",
       "        <td>2732 Baker Blvd.</td>\n",
       "        <td>Eugene</td>\n",
       "        <td>97403</td>\n",
       "        <td>USA</td>\n",
       "    </tr>\n",
       "    <tr>\n",
       "        <td>34</td>\n",
       "        <td>Hanari Carnes</td>\n",
       "        <td>Mario Pontes</td>\n",
       "        <td>Rua do Paço, 67</td>\n",
       "        <td>Rio de Janeiro</td>\n",
       "        <td>05454-876</td>\n",
       "        <td>Brazil</td>\n",
       "    </tr>\n",
       "    <tr>\n",
       "        <td>36</td>\n",
       "        <td>Hungry Coyote Import Store</td>\n",
       "        <td>Yoshi Latimer</td>\n",
       "        <td>City Center Plaza 516 Main St.</td>\n",
       "        <td>Elgin</td>\n",
       "        <td>97827</td>\n",
       "        <td>USA</td>\n",
       "    </tr>\n",
       "    <tr>\n",
       "        <td>43</td>\n",
       "        <td>Lazy K Kountry Store</td>\n",
       "        <td>John Steel</td>\n",
       "        <td>12 Orchestra Terrace</td>\n",
       "        <td>Walla Walla</td>\n",
       "        <td>99362</td>\n",
       "        <td>USA</td>\n",
       "    </tr>\n",
       "    <tr>\n",
       "        <td>45</td>\n",
       "        <td>Let&#x27;s Stop N Shop</td>\n",
       "        <td>Jaime Yorres</td>\n",
       "        <td>87 Polk St. Suite 5</td>\n",
       "        <td>San Francisco</td>\n",
       "        <td>94117</td>\n",
       "        <td>USA</td>\n",
       "    </tr>\n",
       "    <tr>\n",
       "        <td>48</td>\n",
       "        <td>Lonesome Pine Restaurant</td>\n",
       "        <td>Fran Wilson</td>\n",
       "        <td>89 Chiaroscuro Rd.</td>\n",
       "        <td>Portland</td>\n",
       "        <td>97219</td>\n",
       "        <td>USA</td>\n",
       "    </tr>\n",
       "    <tr>\n",
       "        <td>55</td>\n",
       "        <td>Old World Delicatessen</td>\n",
       "        <td>Rene Phillips</td>\n",
       "        <td>2743 Bering St.</td>\n",
       "        <td>Anchorage</td>\n",
       "        <td>99508</td>\n",
       "        <td>USA</td>\n",
       "    </tr>\n",
       "    <tr>\n",
       "        <td>61</td>\n",
       "        <td>Que Delícia</td>\n",
       "        <td>Bernardo Batista</td>\n",
       "        <td>Rua da Panificadora, 12</td>\n",
       "        <td>Rio de Janeiro</td>\n",
       "        <td>02389-673</td>\n",
       "        <td>Brazil</td>\n",
       "    </tr>\n",
       "    <tr>\n",
       "        <td>62</td>\n",
       "        <td>Queen Cozinha</td>\n",
       "        <td>Lúcia Carvalho</td>\n",
       "        <td>Alameda dos Canàrios, 891</td>\n",
       "        <td>São Paulo</td>\n",
       "        <td>05487-020</td>\n",
       "        <td>Brazil</td>\n",
       "    </tr>\n",
       "    <tr>\n",
       "        <td>65</td>\n",
       "        <td>Rattlesnake Canyon Grocery</td>\n",
       "        <td>Paula Wilson</td>\n",
       "        <td>2817 Milton Dr.</td>\n",
       "        <td>Albuquerque</td>\n",
       "        <td>87110</td>\n",
       "        <td>USA</td>\n",
       "    </tr>\n",
       "    <tr>\n",
       "        <td>67</td>\n",
       "        <td>Ricardo Adocicados</td>\n",
       "        <td>Janete Limeira</td>\n",
       "        <td>Av. Copacabana, 267</td>\n",
       "        <td>Rio de Janeiro</td>\n",
       "        <td>02389-890</td>\n",
       "        <td>Brazil</td>\n",
       "    </tr>\n",
       "    <tr>\n",
       "        <td>71</td>\n",
       "        <td>Save-a-lot Markets</td>\n",
       "        <td>Jose Pavarotti</td>\n",
       "        <td>187 Suffolk Ln.</td>\n",
       "        <td>Boise</td>\n",
       "        <td>83720</td>\n",
       "        <td>USA</td>\n",
       "    </tr>\n",
       "    <tr>\n",
       "        <td>75</td>\n",
       "        <td>Split Rail Beer &amp; Ale</td>\n",
       "        <td>Art Braunschweiger</td>\n",
       "        <td>P.O. Box 555</td>\n",
       "        <td>Lander</td>\n",
       "        <td>82520</td>\n",
       "        <td>USA</td>\n",
       "    </tr>\n",
       "    <tr>\n",
       "        <td>77</td>\n",
       "        <td>The Big Cheese</td>\n",
       "        <td>Liz Nixon</td>\n",
       "        <td>89 Jefferson Way Suite 2</td>\n",
       "        <td>Portland</td>\n",
       "        <td>97201</td>\n",
       "        <td>USA</td>\n",
       "    </tr>\n",
       "    <tr>\n",
       "        <td>78</td>\n",
       "        <td>The Cracker Box</td>\n",
       "        <td>Liu Wong</td>\n",
       "        <td>55 Grizzly Peak Rd.</td>\n",
       "        <td>Butte</td>\n",
       "        <td>59801</td>\n",
       "        <td>USA</td>\n",
       "    </tr>\n",
       "    <tr>\n",
       "        <td>81</td>\n",
       "        <td>Tradição Hipermercados</td>\n",
       "        <td>Anabela Domingues</td>\n",
       "        <td>Av. Inês de Castro, 414</td>\n",
       "        <td>São Paulo</td>\n",
       "        <td>05634-030</td>\n",
       "        <td>Brazil</td>\n",
       "    </tr>\n",
       "    <tr>\n",
       "        <td>82</td>\n",
       "        <td>Trail&#x27;s Head Gourmet Provisioners</td>\n",
       "        <td>Helvetius Nagy</td>\n",
       "        <td>722 DaVinci Blvd.</td>\n",
       "        <td>Kirkland</td>\n",
       "        <td>98034</td>\n",
       "        <td>USA</td>\n",
       "    </tr>\n",
       "    <tr>\n",
       "        <td>88</td>\n",
       "        <td>Wellington Importadora</td>\n",
       "        <td>Paula Parente</td>\n",
       "        <td>Rua do Mercado, 12</td>\n",
       "        <td>Resende</td>\n",
       "        <td>08737-363</td>\n",
       "        <td>Brazil</td>\n",
       "    </tr>\n",
       "    <tr>\n",
       "        <td>89</td>\n",
       "        <td>White Clover Markets</td>\n",
       "        <td>Karl Jablonski</td>\n",
       "        <td>305 - 14th Ave. S. Suite 3B</td>\n",
       "        <td>Seattle</td>\n",
       "        <td>98128</td>\n",
       "        <td>USA</td>\n",
       "    </tr>\n",
       "</table>"
      ],
      "text/plain": [
       "[(15, 'Comércio Mineiro', 'Pedro Afonso', 'Av. dos Lusíadas, 23', 'São Paulo', '05432-043', 'Brazil'),\n",
       " (21, 'Familia Arquibaldo', 'Aria Cruz', 'Rua Orós, 92', 'São Paulo', '05442-030', 'Brazil'),\n",
       " (31, 'Gourmet Lanchonetes', 'André Fonseca', 'Av. Brasil, 442', 'Campinas', '04876-786', 'Brazil'),\n",
       " (32, 'Great Lakes Food Market', 'Howard Snyder', '2732 Baker Blvd.', 'Eugene', '97403', 'USA'),\n",
       " (34, 'Hanari Carnes', 'Mario Pontes', 'Rua do Paço, 67', 'Rio de Janeiro', '05454-876', 'Brazil'),\n",
       " (36, 'Hungry Coyote Import Store', 'Yoshi Latimer', 'City Center Plaza 516 Main St.', 'Elgin', '97827', 'USA'),\n",
       " (43, 'Lazy K Kountry Store', 'John Steel', '12 Orchestra Terrace', 'Walla Walla', '99362', 'USA'),\n",
       " (45, \"Let's Stop N Shop\", 'Jaime Yorres', '87 Polk St. Suite 5', 'San Francisco', '94117', 'USA'),\n",
       " (48, 'Lonesome Pine Restaurant', 'Fran Wilson', '89 Chiaroscuro Rd.', 'Portland', '97219', 'USA'),\n",
       " (55, 'Old World Delicatessen', 'Rene Phillips', '2743 Bering St.', 'Anchorage', '99508', 'USA'),\n",
       " (61, 'Que Delícia', 'Bernardo Batista', 'Rua da Panificadora, 12', 'Rio de Janeiro', '02389-673', 'Brazil'),\n",
       " (62, 'Queen Cozinha', 'Lúcia Carvalho', 'Alameda dos Canàrios, 891', 'São Paulo', '05487-020', 'Brazil'),\n",
       " (65, 'Rattlesnake Canyon Grocery', 'Paula Wilson', '2817 Milton Dr.', 'Albuquerque', '87110', 'USA'),\n",
       " (67, 'Ricardo Adocicados', 'Janete Limeira', 'Av. Copacabana, 267', 'Rio de Janeiro', '02389-890', 'Brazil'),\n",
       " (71, 'Save-a-lot Markets', 'Jose Pavarotti', '187 Suffolk Ln.', 'Boise', '83720', 'USA'),\n",
       " (75, 'Split Rail Beer & Ale', 'Art Braunschweiger', 'P.O. Box 555', 'Lander', '82520', 'USA'),\n",
       " (77, 'The Big Cheese', 'Liz Nixon', '89 Jefferson Way Suite 2', 'Portland', '97201', 'USA'),\n",
       " (78, 'The Cracker Box', 'Liu Wong', '55 Grizzly Peak Rd.', 'Butte', '59801', 'USA'),\n",
       " (81, 'Tradição Hipermercados', 'Anabela Domingues', 'Av. Inês de Castro, 414', 'São Paulo', '05634-030', 'Brazil'),\n",
       " (82, \"Trail's Head Gourmet Provisioners\", 'Helvetius Nagy', '722 DaVinci Blvd.', 'Kirkland', '98034', 'USA'),\n",
       " (88, 'Wellington Importadora', 'Paula Parente', 'Rua do Mercado, 12', 'Resende', '08737-363', 'Brazil'),\n",
       " (89, 'White Clover Markets', 'Karl Jablonski', '305 - 14th Ave. S. Suite 3B', 'Seattle', '98128', 'USA')]"
      ]
     },
     "execution_count": 239,
     "metadata": {},
     "output_type": "execute_result"
    }
   ],
   "source": [
    "%%sql\n",
    "SELECT * FROM CUSTOMERS WHERE Country IN ('Brazil','USA');"
   ]
  },
  {
   "cell_type": "markdown",
   "metadata": {},
   "source": [
    "## 5. Önce ülkeye sonra şehre göre group by işlemi yapıp bu kırılımda müşteri sayısını bulunuz."
   ]
  },
  {
   "cell_type": "code",
   "execution_count": 257,
   "metadata": {
    "collapsed": true,
    "jupyter": {
     "outputs_hidden": true
    }
   },
   "outputs": [
    {
     "name": "stdout",
     "output_type": "stream",
     "text": [
      " * sqlite:///DB_practice.db\n",
      "Done.\n"
     ]
    },
    {
     "data": {
      "text/html": [
       "<table>\n",
       "    <tr>\n",
       "        <th>CUSTOMER_COUNT</th>\n",
       "        <th>Country</th>\n",
       "        <th>City</th>\n",
       "    </tr>\n",
       "    <tr>\n",
       "        <td>6</td>\n",
       "        <td>UK</td>\n",
       "        <td>London</td>\n",
       "    </tr>\n",
       "    <tr>\n",
       "        <td>5</td>\n",
       "        <td>Mexico</td>\n",
       "        <td>México D.F.</td>\n",
       "    </tr>\n",
       "    <tr>\n",
       "        <td>4</td>\n",
       "        <td>Brazil</td>\n",
       "        <td>São Paulo</td>\n",
       "    </tr>\n",
       "    <tr>\n",
       "        <td>3</td>\n",
       "        <td>Argentina</td>\n",
       "        <td>Buenos Aires</td>\n",
       "    </tr>\n",
       "    <tr>\n",
       "        <td>3</td>\n",
       "        <td>Brazil</td>\n",
       "        <td>Rio de Janeiro</td>\n",
       "    </tr>\n",
       "    <tr>\n",
       "        <td>3</td>\n",
       "        <td>Spain</td>\n",
       "        <td>Madrid</td>\n",
       "    </tr>\n",
       "    <tr>\n",
       "        <td>2</td>\n",
       "        <td>France</td>\n",
       "        <td>Nantes</td>\n",
       "    </tr>\n",
       "    <tr>\n",
       "        <td>2</td>\n",
       "        <td>France</td>\n",
       "        <td>Paris</td>\n",
       "    </tr>\n",
       "    <tr>\n",
       "        <td>2</td>\n",
       "        <td>Portugal</td>\n",
       "        <td>Lisboa</td>\n",
       "    </tr>\n",
       "    <tr>\n",
       "        <td>2</td>\n",
       "        <td>USA</td>\n",
       "        <td>Portland</td>\n",
       "    </tr>\n",
       "    <tr>\n",
       "        <td>1</td>\n",
       "        <td>Austria</td>\n",
       "        <td>Graz</td>\n",
       "    </tr>\n",
       "    <tr>\n",
       "        <td>1</td>\n",
       "        <td>Austria</td>\n",
       "        <td>Salzburg</td>\n",
       "    </tr>\n",
       "    <tr>\n",
       "        <td>1</td>\n",
       "        <td>Belgium</td>\n",
       "        <td>Bruxelles</td>\n",
       "    </tr>\n",
       "    <tr>\n",
       "        <td>1</td>\n",
       "        <td>Belgium</td>\n",
       "        <td>Charleroi</td>\n",
       "    </tr>\n",
       "    <tr>\n",
       "        <td>1</td>\n",
       "        <td>Brazil</td>\n",
       "        <td>Campinas</td>\n",
       "    </tr>\n",
       "    <tr>\n",
       "        <td>1</td>\n",
       "        <td>Brazil</td>\n",
       "        <td>Resende</td>\n",
       "    </tr>\n",
       "    <tr>\n",
       "        <td>1</td>\n",
       "        <td>Canada</td>\n",
       "        <td>Montréal</td>\n",
       "    </tr>\n",
       "    <tr>\n",
       "        <td>1</td>\n",
       "        <td>Canada</td>\n",
       "        <td>Tsawassen</td>\n",
       "    </tr>\n",
       "    <tr>\n",
       "        <td>1</td>\n",
       "        <td>Canada</td>\n",
       "        <td>Vancouver</td>\n",
       "    </tr>\n",
       "    <tr>\n",
       "        <td>1</td>\n",
       "        <td>Denmark</td>\n",
       "        <td>København</td>\n",
       "    </tr>\n",
       "    <tr>\n",
       "        <td>1</td>\n",
       "        <td>Denmark</td>\n",
       "        <td>Århus</td>\n",
       "    </tr>\n",
       "    <tr>\n",
       "        <td>1</td>\n",
       "        <td>Finland</td>\n",
       "        <td>Helsinki</td>\n",
       "    </tr>\n",
       "    <tr>\n",
       "        <td>1</td>\n",
       "        <td>Finland</td>\n",
       "        <td>Oulu</td>\n",
       "    </tr>\n",
       "    <tr>\n",
       "        <td>1</td>\n",
       "        <td>France</td>\n",
       "        <td>Lille</td>\n",
       "    </tr>\n",
       "    <tr>\n",
       "        <td>1</td>\n",
       "        <td>France</td>\n",
       "        <td>Lyon</td>\n",
       "    </tr>\n",
       "    <tr>\n",
       "        <td>1</td>\n",
       "        <td>France</td>\n",
       "        <td>Marseille</td>\n",
       "    </tr>\n",
       "    <tr>\n",
       "        <td>1</td>\n",
       "        <td>France</td>\n",
       "        <td>Reims</td>\n",
       "    </tr>\n",
       "    <tr>\n",
       "        <td>1</td>\n",
       "        <td>France</td>\n",
       "        <td>Strasbourg</td>\n",
       "    </tr>\n",
       "    <tr>\n",
       "        <td>1</td>\n",
       "        <td>France</td>\n",
       "        <td>Toulouse</td>\n",
       "    </tr>\n",
       "    <tr>\n",
       "        <td>1</td>\n",
       "        <td>France</td>\n",
       "        <td>Versailles</td>\n",
       "    </tr>\n",
       "    <tr>\n",
       "        <td>1</td>\n",
       "        <td>Germany</td>\n",
       "        <td>Aachen</td>\n",
       "    </tr>\n",
       "    <tr>\n",
       "        <td>1</td>\n",
       "        <td>Germany</td>\n",
       "        <td>Berlin</td>\n",
       "    </tr>\n",
       "    <tr>\n",
       "        <td>1</td>\n",
       "        <td>Germany</td>\n",
       "        <td>Brandenburg</td>\n",
       "    </tr>\n",
       "    <tr>\n",
       "        <td>1</td>\n",
       "        <td>Germany</td>\n",
       "        <td>Cunewalde</td>\n",
       "    </tr>\n",
       "    <tr>\n",
       "        <td>1</td>\n",
       "        <td>Germany</td>\n",
       "        <td>Frankfurt a.M.</td>\n",
       "    </tr>\n",
       "    <tr>\n",
       "        <td>1</td>\n",
       "        <td>Germany</td>\n",
       "        <td>Köln</td>\n",
       "    </tr>\n",
       "    <tr>\n",
       "        <td>1</td>\n",
       "        <td>Germany</td>\n",
       "        <td>Leipzig</td>\n",
       "    </tr>\n",
       "    <tr>\n",
       "        <td>1</td>\n",
       "        <td>Germany</td>\n",
       "        <td>Mannheim</td>\n",
       "    </tr>\n",
       "    <tr>\n",
       "        <td>1</td>\n",
       "        <td>Germany</td>\n",
       "        <td>München</td>\n",
       "    </tr>\n",
       "    <tr>\n",
       "        <td>1</td>\n",
       "        <td>Germany</td>\n",
       "        <td>Münster</td>\n",
       "    </tr>\n",
       "    <tr>\n",
       "        <td>1</td>\n",
       "        <td>Germany</td>\n",
       "        <td>Stuttgart</td>\n",
       "    </tr>\n",
       "    <tr>\n",
       "        <td>1</td>\n",
       "        <td>Ireland</td>\n",
       "        <td>Cork</td>\n",
       "    </tr>\n",
       "    <tr>\n",
       "        <td>1</td>\n",
       "        <td>Italy</td>\n",
       "        <td>Bergamo</td>\n",
       "    </tr>\n",
       "    <tr>\n",
       "        <td>1</td>\n",
       "        <td>Italy</td>\n",
       "        <td>Reggio Emilia</td>\n",
       "    </tr>\n",
       "    <tr>\n",
       "        <td>1</td>\n",
       "        <td>Italy</td>\n",
       "        <td>Torino</td>\n",
       "    </tr>\n",
       "    <tr>\n",
       "        <td>1</td>\n",
       "        <td>Norway</td>\n",
       "        <td>Stavern</td>\n",
       "    </tr>\n",
       "    <tr>\n",
       "        <td>1</td>\n",
       "        <td>Poland</td>\n",
       "        <td>Walla</td>\n",
       "    </tr>\n",
       "    <tr>\n",
       "        <td>1</td>\n",
       "        <td>Spain</td>\n",
       "        <td>Barcelona</td>\n",
       "    </tr>\n",
       "    <tr>\n",
       "        <td>1</td>\n",
       "        <td>Spain</td>\n",
       "        <td>Sevilla</td>\n",
       "    </tr>\n",
       "    <tr>\n",
       "        <td>1</td>\n",
       "        <td>Sweden</td>\n",
       "        <td>Bräcke</td>\n",
       "    </tr>\n",
       "    <tr>\n",
       "        <td>1</td>\n",
       "        <td>Sweden</td>\n",
       "        <td>Luleå</td>\n",
       "    </tr>\n",
       "    <tr>\n",
       "        <td>1</td>\n",
       "        <td>Switzerland</td>\n",
       "        <td>Bern</td>\n",
       "    </tr>\n",
       "    <tr>\n",
       "        <td>1</td>\n",
       "        <td>Switzerland</td>\n",
       "        <td>Genève</td>\n",
       "    </tr>\n",
       "    <tr>\n",
       "        <td>1</td>\n",
       "        <td>UK</td>\n",
       "        <td>Cowes</td>\n",
       "    </tr>\n",
       "    <tr>\n",
       "        <td>1</td>\n",
       "        <td>USA</td>\n",
       "        <td>Albuquerque</td>\n",
       "    </tr>\n",
       "    <tr>\n",
       "        <td>1</td>\n",
       "        <td>USA</td>\n",
       "        <td>Anchorage</td>\n",
       "    </tr>\n",
       "    <tr>\n",
       "        <td>1</td>\n",
       "        <td>USA</td>\n",
       "        <td>Boise</td>\n",
       "    </tr>\n",
       "    <tr>\n",
       "        <td>1</td>\n",
       "        <td>USA</td>\n",
       "        <td>Butte</td>\n",
       "    </tr>\n",
       "    <tr>\n",
       "        <td>1</td>\n",
       "        <td>USA</td>\n",
       "        <td>Elgin</td>\n",
       "    </tr>\n",
       "    <tr>\n",
       "        <td>1</td>\n",
       "        <td>USA</td>\n",
       "        <td>Eugene</td>\n",
       "    </tr>\n",
       "    <tr>\n",
       "        <td>1</td>\n",
       "        <td>USA</td>\n",
       "        <td>Kirkland</td>\n",
       "    </tr>\n",
       "    <tr>\n",
       "        <td>1</td>\n",
       "        <td>USA</td>\n",
       "        <td>Lander</td>\n",
       "    </tr>\n",
       "    <tr>\n",
       "        <td>1</td>\n",
       "        <td>USA</td>\n",
       "        <td>San Francisco</td>\n",
       "    </tr>\n",
       "    <tr>\n",
       "        <td>1</td>\n",
       "        <td>USA</td>\n",
       "        <td>Seattle</td>\n",
       "    </tr>\n",
       "    <tr>\n",
       "        <td>1</td>\n",
       "        <td>USA</td>\n",
       "        <td>Walla Walla</td>\n",
       "    </tr>\n",
       "    <tr>\n",
       "        <td>1</td>\n",
       "        <td>Venezuela</td>\n",
       "        <td>Barquisimeto</td>\n",
       "    </tr>\n",
       "    <tr>\n",
       "        <td>1</td>\n",
       "        <td>Venezuela</td>\n",
       "        <td>Caracas</td>\n",
       "    </tr>\n",
       "    <tr>\n",
       "        <td>1</td>\n",
       "        <td>Venezuela</td>\n",
       "        <td>I. de Margarita</td>\n",
       "    </tr>\n",
       "    <tr>\n",
       "        <td>1</td>\n",
       "        <td>Venezuela</td>\n",
       "        <td>San Cristóbal</td>\n",
       "    </tr>\n",
       "</table>"
      ],
      "text/plain": [
       "[(6, 'UK', 'London'),\n",
       " (5, 'Mexico', 'México D.F.'),\n",
       " (4, 'Brazil', 'São Paulo'),\n",
       " (3, 'Argentina', 'Buenos Aires'),\n",
       " (3, 'Brazil', 'Rio de Janeiro'),\n",
       " (3, 'Spain', 'Madrid'),\n",
       " (2, 'France', 'Nantes'),\n",
       " (2, 'France', 'Paris'),\n",
       " (2, 'Portugal', 'Lisboa'),\n",
       " (2, 'USA', 'Portland'),\n",
       " (1, 'Austria', 'Graz'),\n",
       " (1, 'Austria', 'Salzburg'),\n",
       " (1, 'Belgium', 'Bruxelles'),\n",
       " (1, 'Belgium', 'Charleroi'),\n",
       " (1, 'Brazil', 'Campinas'),\n",
       " (1, 'Brazil', 'Resende'),\n",
       " (1, 'Canada', 'Montréal'),\n",
       " (1, 'Canada', 'Tsawassen'),\n",
       " (1, 'Canada', 'Vancouver'),\n",
       " (1, 'Denmark', 'København'),\n",
       " (1, 'Denmark', 'Århus'),\n",
       " (1, 'Finland', 'Helsinki'),\n",
       " (1, 'Finland', 'Oulu'),\n",
       " (1, 'France', 'Lille'),\n",
       " (1, 'France', 'Lyon'),\n",
       " (1, 'France', 'Marseille'),\n",
       " (1, 'France', 'Reims'),\n",
       " (1, 'France', 'Strasbourg'),\n",
       " (1, 'France', 'Toulouse'),\n",
       " (1, 'France', 'Versailles'),\n",
       " (1, 'Germany', 'Aachen'),\n",
       " (1, 'Germany', 'Berlin'),\n",
       " (1, 'Germany', 'Brandenburg'),\n",
       " (1, 'Germany', 'Cunewalde'),\n",
       " (1, 'Germany', 'Frankfurt a.M.'),\n",
       " (1, 'Germany', 'Köln'),\n",
       " (1, 'Germany', 'Leipzig'),\n",
       " (1, 'Germany', 'Mannheim'),\n",
       " (1, 'Germany', 'München'),\n",
       " (1, 'Germany', 'Münster'),\n",
       " (1, 'Germany', 'Stuttgart'),\n",
       " (1, 'Ireland', 'Cork'),\n",
       " (1, 'Italy', 'Bergamo'),\n",
       " (1, 'Italy', 'Reggio Emilia'),\n",
       " (1, 'Italy', 'Torino'),\n",
       " (1, 'Norway', 'Stavern'),\n",
       " (1, 'Poland', 'Walla'),\n",
       " (1, 'Spain', 'Barcelona'),\n",
       " (1, 'Spain', 'Sevilla'),\n",
       " (1, 'Sweden', 'Bräcke'),\n",
       " (1, 'Sweden', 'Luleå'),\n",
       " (1, 'Switzerland', 'Bern'),\n",
       " (1, 'Switzerland', 'Genève'),\n",
       " (1, 'UK', 'Cowes'),\n",
       " (1, 'USA', 'Albuquerque'),\n",
       " (1, 'USA', 'Anchorage'),\n",
       " (1, 'USA', 'Boise'),\n",
       " (1, 'USA', 'Butte'),\n",
       " (1, 'USA', 'Elgin'),\n",
       " (1, 'USA', 'Eugene'),\n",
       " (1, 'USA', 'Kirkland'),\n",
       " (1, 'USA', 'Lander'),\n",
       " (1, 'USA', 'San Francisco'),\n",
       " (1, 'USA', 'Seattle'),\n",
       " (1, 'USA', 'Walla Walla'),\n",
       " (1, 'Venezuela', 'Barquisimeto'),\n",
       " (1, 'Venezuela', 'Caracas'),\n",
       " (1, 'Venezuela', 'I. de Margarita'),\n",
       " (1, 'Venezuela', 'San Cristóbal')]"
      ]
     },
     "execution_count": 257,
     "metadata": {},
     "output_type": "execute_result"
    }
   ],
   "source": [
    "%%sql\n",
    "SELECT COUNT(CustomerID) AS CUSTOMER_COUNT, Country, City FROM Customers GROUP BY Country,City ORDER BY CUSTOMER_COUNT DESC;"
   ]
  },
  {
   "cell_type": "markdown",
   "metadata": {},
   "source": [
    "# SQL ALIŞTIRMALARI II"
   ]
  },
  {
   "cell_type": "markdown",
   "metadata": {},
   "source": [
    "## 6. Müşterileri adreslerinin herhangi bir yerinde \"da\" ifadesi geçen tüm adresleri bulunuz."
   ]
  },
  {
   "cell_type": "code",
   "execution_count": 265,
   "metadata": {},
   "outputs": [
    {
     "name": "stdout",
     "output_type": "stream",
     "text": [
      " * sqlite:///DB_practice.db\n",
      "Done.\n"
     ]
    },
    {
     "data": {
      "text/html": [
       "<table>\n",
       "    <tr>\n",
       "        <th>CustomerID</th>\n",
       "        <th>CustomerName</th>\n",
       "        <th>ContactName</th>\n",
       "        <th>Address</th>\n",
       "        <th>City</th>\n",
       "        <th>PostalCode</th>\n",
       "        <th>Country</th>\n",
       "    </tr>\n",
       "    <tr>\n",
       "        <td>2</td>\n",
       "        <td>Ana Trujillo Emparedados y helados</td>\n",
       "        <td>Ana Trujillo</td>\n",
       "        <td>Avda. de la Constitución 2222</td>\n",
       "        <td>México D.F.</td>\n",
       "        <td>5021</td>\n",
       "        <td>Mexico</td>\n",
       "    </tr>\n",
       "    <tr>\n",
       "        <td>13</td>\n",
       "        <td>Centro comercial Moctezuma</td>\n",
       "        <td>Francisco Chang</td>\n",
       "        <td>Sierras de Granada 9993</td>\n",
       "        <td>México D.F.</td>\n",
       "        <td>5022</td>\n",
       "        <td>Mexico</td>\n",
       "    </tr>\n",
       "    <tr>\n",
       "        <td>15</td>\n",
       "        <td>Comércio Mineiro</td>\n",
       "        <td>Pedro Afonso</td>\n",
       "        <td>Av. dos Lusíadas, 23</td>\n",
       "        <td>São Paulo</td>\n",
       "        <td>05432-043</td>\n",
       "        <td>Brazil</td>\n",
       "    </tr>\n",
       "    <tr>\n",
       "        <td>28</td>\n",
       "        <td>Furia Bacalhau e Frutos do Mar</td>\n",
       "        <td>Lino Rodriguez</td>\n",
       "        <td>Jardim das rosas n. 32</td>\n",
       "        <td>Lisboa</td>\n",
       "        <td>1675</td>\n",
       "        <td>Portugal</td>\n",
       "    </tr>\n",
       "    <tr>\n",
       "        <td>54</td>\n",
       "        <td>Océano Atlántico Ltda.</td>\n",
       "        <td>Yvonne Moncada</td>\n",
       "        <td>Ing. Gustavo Moncada 8585 Piso 20-A</td>\n",
       "        <td>Buenos Aires</td>\n",
       "        <td>1010</td>\n",
       "        <td>Argentina</td>\n",
       "    </tr>\n",
       "    <tr>\n",
       "        <td>60</td>\n",
       "        <td>Princesa Isabel Vinhoss</td>\n",
       "        <td>Isabel de Castro</td>\n",
       "        <td>Estrada da saúde n. 58</td>\n",
       "        <td>Lisboa</td>\n",
       "        <td>1756</td>\n",
       "        <td>Portugal</td>\n",
       "    </tr>\n",
       "    <tr>\n",
       "        <td>61</td>\n",
       "        <td>Que Delícia</td>\n",
       "        <td>Bernardo Batista</td>\n",
       "        <td>Rua da Panificadora, 12</td>\n",
       "        <td>Rio de Janeiro</td>\n",
       "        <td>02389-673</td>\n",
       "        <td>Brazil</td>\n",
       "    </tr>\n",
       "    <tr>\n",
       "        <td>62</td>\n",
       "        <td>Queen Cozinha</td>\n",
       "        <td>Lúcia Carvalho</td>\n",
       "        <td>Alameda dos Canàrios, 891</td>\n",
       "        <td>São Paulo</td>\n",
       "        <td>05487-020</td>\n",
       "        <td>Brazil</td>\n",
       "    </tr>\n",
       "    <tr>\n",
       "        <td>66</td>\n",
       "        <td>Reggiani Caseifici</td>\n",
       "        <td>Maurizio Moroni</td>\n",
       "        <td>Strada Provinciale 124</td>\n",
       "        <td>Reggio Emilia</td>\n",
       "        <td>42100</td>\n",
       "        <td>Italy</td>\n",
       "    </tr>\n",
       "    <tr>\n",
       "        <td>80</td>\n",
       "        <td>Tortuga Restaurante</td>\n",
       "        <td>Miguel Angel Paolino</td>\n",
       "        <td>Avda. Azteca 123</td>\n",
       "        <td>México D.F.</td>\n",
       "        <td>5033</td>\n",
       "        <td>Mexico</td>\n",
       "    </tr>\n",
       "    <tr>\n",
       "        <td>82</td>\n",
       "        <td>Trail&#x27;s Head Gourmet Provisioners</td>\n",
       "        <td>Helvetius Nagy</td>\n",
       "        <td>722 DaVinci Blvd.</td>\n",
       "        <td>Kirkland</td>\n",
       "        <td>98034</td>\n",
       "        <td>USA</td>\n",
       "    </tr>\n",
       "</table>"
      ],
      "text/plain": [
       "[(2, 'Ana Trujillo Emparedados y helados', 'Ana Trujillo', 'Avda. de la Constitución 2222', 'México D.F.', '5021', 'Mexico'),\n",
       " (13, 'Centro comercial Moctezuma', 'Francisco Chang', 'Sierras de Granada 9993', 'México D.F.', '5022', 'Mexico'),\n",
       " (15, 'Comércio Mineiro', 'Pedro Afonso', 'Av. dos Lusíadas, 23', 'São Paulo', '05432-043', 'Brazil'),\n",
       " (28, 'Furia Bacalhau e Frutos do Mar', 'Lino Rodriguez', 'Jardim das rosas n. 32', 'Lisboa', '1675', 'Portugal'),\n",
       " (54, 'Océano Atlántico Ltda.', 'Yvonne Moncada', 'Ing. Gustavo Moncada 8585 Piso 20-A', 'Buenos Aires', '1010', 'Argentina'),\n",
       " (60, 'Princesa Isabel Vinhoss', 'Isabel de Castro', 'Estrada da saúde n. 58', 'Lisboa', '1756', 'Portugal'),\n",
       " (61, 'Que Delícia', 'Bernardo Batista', 'Rua da Panificadora, 12', 'Rio de Janeiro', '02389-673', 'Brazil'),\n",
       " (62, 'Queen Cozinha', 'Lúcia Carvalho', 'Alameda dos Canàrios, 891', 'São Paulo', '05487-020', 'Brazil'),\n",
       " (66, 'Reggiani Caseifici', 'Maurizio Moroni', 'Strada Provinciale 124', 'Reggio Emilia', '42100', 'Italy'),\n",
       " (80, 'Tortuga Restaurante', 'Miguel Angel Paolino', 'Avda. Azteca 123', 'México D.F.', '5033', 'Mexico'),\n",
       " (82, \"Trail's Head Gourmet Provisioners\", 'Helvetius Nagy', '722 DaVinci Blvd.', 'Kirkland', '98034', 'USA')]"
      ]
     },
     "execution_count": 265,
     "metadata": {},
     "output_type": "execute_result"
    }
   ],
   "source": [
    "%%sql\n",
    "SELECT * FROM Customers WHERE Address LIKE '%da%';"
   ]
  },
  {
   "cell_type": "markdown",
   "metadata": {},
   "source": [
    "## 7. Germany-Berlin'de yaşayan müşteri/müşterilerin isimleri nelerdir?"
   ]
  },
  {
   "cell_type": "code",
   "execution_count": 264,
   "metadata": {},
   "outputs": [
    {
     "name": "stdout",
     "output_type": "stream",
     "text": [
      " * sqlite:///DB_practice.db\n",
      "Done.\n"
     ]
    },
    {
     "data": {
      "text/html": [
       "<table>\n",
       "    <tr>\n",
       "        <th>CustomerName</th>\n",
       "    </tr>\n",
       "    <tr>\n",
       "        <td>Alfreds Futterkiste</td>\n",
       "    </tr>\n",
       "</table>"
      ],
      "text/plain": [
       "[('Alfreds Futterkiste',)]"
      ]
     },
     "execution_count": 264,
     "metadata": {},
     "output_type": "execute_result"
    }
   ],
   "source": [
    "%%sql\n",
    "SELECT CustomerName FROM Customers WHERE City = 'Berlin';"
   ]
  },
  {
   "cell_type": "markdown",
   "metadata": {},
   "source": [
    "## 8. Canada'da yaşayıp isimlerinde \"in\" ifadesi geçen müşteri/müşterileri bulunuz."
   ]
  },
  {
   "cell_type": "code",
   "execution_count": 267,
   "metadata": {},
   "outputs": [
    {
     "name": "stdout",
     "output_type": "stream",
     "text": [
      " * sqlite:///DB_practice.db\n",
      "Done.\n"
     ]
    },
    {
     "data": {
      "text/html": [
       "<table>\n",
       "    <tr>\n",
       "        <th>CustomerID</th>\n",
       "        <th>CustomerName</th>\n",
       "        <th>ContactName</th>\n",
       "        <th>Address</th>\n",
       "        <th>City</th>\n",
       "        <th>PostalCode</th>\n",
       "        <th>Country</th>\n",
       "    </tr>\n",
       "    <tr>\n",
       "        <td>42</td>\n",
       "        <td>Laughing Bacchus Wine Cellars</td>\n",
       "        <td>Yoshi Tannamuri</td>\n",
       "        <td>1900 Oak St.</td>\n",
       "        <td>Vancouver</td>\n",
       "        <td>V3F 2K1</td>\n",
       "        <td>Canada</td>\n",
       "    </tr>\n",
       "</table>"
      ],
      "text/plain": [
       "[(42, 'Laughing Bacchus Wine Cellars', 'Yoshi Tannamuri', '1900 Oak St.', 'Vancouver', 'V3F 2K1', 'Canada')]"
      ]
     },
     "execution_count": 267,
     "metadata": {},
     "output_type": "execute_result"
    }
   ],
   "source": [
    "%%sql\n",
    "SELECT * FROM Customers WHERE Country='Canada' AND CustomerName LIKE '%in%';"
   ]
  },
  {
   "cell_type": "markdown",
   "metadata": {},
   "source": [
    "## 9. Fiyatı 40 TL ile 90 TL arasında olan ürünlerin isimleri ve fiyatları nelerdir?"
   ]
  },
  {
   "cell_type": "code",
   "execution_count": 274,
   "metadata": {},
   "outputs": [
    {
     "name": "stdout",
     "output_type": "stream",
     "text": [
      " * sqlite:///DB_practice.db\n",
      "Done.\n"
     ]
    },
    {
     "data": {
      "text/html": [
       "<table>\n",
       "    <tr>\n",
       "        <th>ProductName</th>\n",
       "        <th>Price</th>\n",
       "    </tr>\n",
       "    <tr>\n",
       "        <td>Sir Rodney&#x27;s Marmalade</td>\n",
       "        <td>81</td>\n",
       "    </tr>\n",
       "    <tr>\n",
       "        <td>Carnarvon Tigers</td>\n",
       "        <td>62</td>\n",
       "    </tr>\n",
       "    <tr>\n",
       "        <td>Raclette Courdavault</td>\n",
       "        <td>55</td>\n",
       "    </tr>\n",
       "    <tr>\n",
       "        <td>Manjimup Dried Apples</td>\n",
       "        <td>53</td>\n",
       "    </tr>\n",
       "    <tr>\n",
       "        <td>Tarte au sucre</td>\n",
       "        <td>49</td>\n",
       "    </tr>\n",
       "    <tr>\n",
       "        <td>Ipoh Coffee</td>\n",
       "        <td>46</td>\n",
       "    </tr>\n",
       "    <tr>\n",
       "        <td>Rössle Sauerkraut</td>\n",
       "        <td>45</td>\n",
       "    </tr>\n",
       "    <tr>\n",
       "        <td>Scottish Longbreads</td>\n",
       "        <td>45</td>\n",
       "    </tr>\n",
       "    <tr>\n",
       "        <td>Genen Shouyu</td>\n",
       "        <td>43</td>\n",
       "    </tr>\n",
       "    <tr>\n",
       "        <td>Teatime Chocolate Biscuits</td>\n",
       "        <td>43</td>\n",
       "    </tr>\n",
       "    <tr>\n",
       "        <td>Guaraná Fantástica</td>\n",
       "        <td>43</td>\n",
       "    </tr>\n",
       "    <tr>\n",
       "        <td>Schoggi Schokolade</td>\n",
       "        <td>43</td>\n",
       "    </tr>\n",
       "    <tr>\n",
       "        <td>Geitost</td>\n",
       "        <td>43</td>\n",
       "    </tr>\n",
       "    <tr>\n",
       "        <td>Boston Crab Meat</td>\n",
       "        <td>43</td>\n",
       "    </tr>\n",
       "    <tr>\n",
       "        <td>Røgede sild</td>\n",
       "        <td>43</td>\n",
       "    </tr>\n",
       "    <tr>\n",
       "        <td>Zaanse koeken</td>\n",
       "        <td>43</td>\n",
       "    </tr>\n",
       "    <tr>\n",
       "        <td>Ravioli Angelo</td>\n",
       "        <td>43</td>\n",
       "    </tr>\n",
       "    <tr>\n",
       "        <td>Sirop d&#x27;érable</td>\n",
       "        <td>43</td>\n",
       "    </tr>\n",
       "    <tr>\n",
       "        <td>Vegie-spread</td>\n",
       "        <td>43</td>\n",
       "    </tr>\n",
       "    <tr>\n",
       "        <td>Louisiana Fiery Hot Pepper Sauce</td>\n",
       "        <td>43</td>\n",
       "    </tr>\n",
       "    <tr>\n",
       "        <td>Northwoods Cranberry Sauce</td>\n",
       "        <td>40</td>\n",
       "    </tr>\n",
       "</table>"
      ],
      "text/plain": [
       "[(\"Sir Rodney's Marmalade\", 81),\n",
       " ('Carnarvon Tigers', 62),\n",
       " ('Raclette Courdavault', 55),\n",
       " ('Manjimup Dried Apples', 53),\n",
       " ('Tarte au sucre', 49),\n",
       " ('Ipoh Coffee', 46),\n",
       " ('Rössle Sauerkraut', 45),\n",
       " ('Scottish Longbreads', 45),\n",
       " ('Genen Shouyu', 43),\n",
       " ('Teatime Chocolate Biscuits', 43),\n",
       " ('Guaraná Fantástica', 43),\n",
       " ('Schoggi Schokolade', 43),\n",
       " ('Geitost', 43),\n",
       " ('Boston Crab Meat', 43),\n",
       " ('Røgede sild', 43),\n",
       " ('Zaanse koeken', 43),\n",
       " ('Ravioli Angelo', 43),\n",
       " (\"Sirop d'érable\", 43),\n",
       " ('Vegie-spread', 43),\n",
       " ('Louisiana Fiery Hot Pepper Sauce', 43),\n",
       " ('Northwoods Cranberry Sauce', 40)]"
      ]
     },
     "execution_count": 274,
     "metadata": {},
     "output_type": "execute_result"
    }
   ],
   "source": [
    "%%sql\n",
    "SELECT ProductName, Price FROM Products WHERE Price BETWEEN 40 AND 90 ORDER BY Price DESC;"
   ]
  },
  {
   "cell_type": "markdown",
   "metadata": {},
   "source": [
    "## 10. Fiyatı 30 TL'den büyük olan ürünlerin isimlerini, fiyatlarini ve fiyatlarinin karesini bulunuz ve tüm değişkenlerin isimlendirmelerini aşağıdaki şekilde yapınız:\n",
    "\n",
    "urun ismi, urun_fiyati, ürün_fiyatinin_karesi"
   ]
  },
  {
   "cell_type": "code",
   "execution_count": 282,
   "metadata": {},
   "outputs": [
    {
     "name": "stdout",
     "output_type": "stream",
     "text": [
      " * sqlite:///DB_practice.db\n",
      "Done.\n"
     ]
    },
    {
     "data": {
      "text/html": [
       "<table>\n",
       "    <tr>\n",
       "        <th>Name</th>\n",
       "        <th>Price</th>\n",
       "        <th>Price_Square</th>\n",
       "    </tr>\n",
       "    <tr>\n",
       "        <td>Northwoods Cranberry Sauce</td>\n",
       "        <td>40</td>\n",
       "        <td>1600</td>\n",
       "    </tr>\n",
       "    <tr>\n",
       "        <td>Mishi Kobe Niku</td>\n",
       "        <td>97</td>\n",
       "        <td>9409</td>\n",
       "    </tr>\n",
       "    <tr>\n",
       "        <td>Ikura</td>\n",
       "        <td>31</td>\n",
       "        <td>961</td>\n",
       "    </tr>\n",
       "    <tr>\n",
       "        <td>Queso Manchego La Pastora</td>\n",
       "        <td>38</td>\n",
       "        <td>1444</td>\n",
       "    </tr>\n",
       "    <tr>\n",
       "        <td>Genen Shouyu</td>\n",
       "        <td>43</td>\n",
       "        <td>1849</td>\n",
       "    </tr>\n",
       "    <tr>\n",
       "        <td>Alice Mutton</td>\n",
       "        <td>39</td>\n",
       "        <td>1521</td>\n",
       "    </tr>\n",
       "    <tr>\n",
       "        <td>Carnarvon Tigers</td>\n",
       "        <td>62</td>\n",
       "        <td>3844</td>\n",
       "    </tr>\n",
       "    <tr>\n",
       "        <td>Teatime Chocolate Biscuits</td>\n",
       "        <td>43</td>\n",
       "        <td>1849</td>\n",
       "    </tr>\n",
       "    <tr>\n",
       "        <td>Sir Rodney&#x27;s Marmalade</td>\n",
       "        <td>81</td>\n",
       "        <td>6561</td>\n",
       "    </tr>\n",
       "    <tr>\n",
       "        <td>Guaraná Fantástica</td>\n",
       "        <td>43</td>\n",
       "        <td>1849</td>\n",
       "    </tr>\n",
       "    <tr>\n",
       "        <td>Gumbär Gummibärchen</td>\n",
       "        <td>31</td>\n",
       "        <td>961</td>\n",
       "    </tr>\n",
       "    <tr>\n",
       "        <td>Schoggi Schokolade</td>\n",
       "        <td>43</td>\n",
       "        <td>1849</td>\n",
       "    </tr>\n",
       "    <tr>\n",
       "        <td>Rössle Sauerkraut</td>\n",
       "        <td>45</td>\n",
       "        <td>2025</td>\n",
       "    </tr>\n",
       "    <tr>\n",
       "        <td>Thüringer Rostbratwurst</td>\n",
       "        <td>123</td>\n",
       "        <td>15129</td>\n",
       "    </tr>\n",
       "    <tr>\n",
       "        <td>Gorgonzola Telino</td>\n",
       "        <td>435</td>\n",
       "        <td>189225</td>\n",
       "    </tr>\n",
       "    <tr>\n",
       "        <td>Mascarpone Fabioli</td>\n",
       "        <td>32</td>\n",
       "        <td>1024</td>\n",
       "    </tr>\n",
       "    <tr>\n",
       "        <td>Geitost</td>\n",
       "        <td>43</td>\n",
       "        <td>1849</td>\n",
       "    </tr>\n",
       "    <tr>\n",
       "        <td>Côte de Blaye</td>\n",
       "        <td>263</td>\n",
       "        <td>69169</td>\n",
       "    </tr>\n",
       "    <tr>\n",
       "        <td>Boston Crab Meat</td>\n",
       "        <td>43</td>\n",
       "        <td>1849</td>\n",
       "    </tr>\n",
       "    <tr>\n",
       "        <td>Ipoh Coffee</td>\n",
       "        <td>46</td>\n",
       "        <td>2116</td>\n",
       "    </tr>\n",
       "    <tr>\n",
       "        <td>Røgede sild</td>\n",
       "        <td>43</td>\n",
       "        <td>1849</td>\n",
       "    </tr>\n",
       "    <tr>\n",
       "        <td>Zaanse koeken</td>\n",
       "        <td>43</td>\n",
       "        <td>1849</td>\n",
       "    </tr>\n",
       "    <tr>\n",
       "        <td>Manjimup Dried Apples</td>\n",
       "        <td>53</td>\n",
       "        <td>2809</td>\n",
       "    </tr>\n",
       "    <tr>\n",
       "        <td>Perth Pasties</td>\n",
       "        <td>32</td>\n",
       "        <td>1024</td>\n",
       "    </tr>\n",
       "    <tr>\n",
       "        <td>Gnocchi di nonna Alice</td>\n",
       "        <td>38</td>\n",
       "        <td>1444</td>\n",
       "    </tr>\n",
       "    <tr>\n",
       "        <td>Ravioli Angelo</td>\n",
       "        <td>43</td>\n",
       "        <td>1849</td>\n",
       "    </tr>\n",
       "    <tr>\n",
       "        <td>Raclette Courdavault</td>\n",
       "        <td>55</td>\n",
       "        <td>3025</td>\n",
       "    </tr>\n",
       "    <tr>\n",
       "        <td>Camembert Pierrot</td>\n",
       "        <td>34</td>\n",
       "        <td>1156</td>\n",
       "    </tr>\n",
       "    <tr>\n",
       "        <td>Sirop d&#x27;érable</td>\n",
       "        <td>43</td>\n",
       "        <td>1849</td>\n",
       "    </tr>\n",
       "    <tr>\n",
       "        <td>Tarte au sucre</td>\n",
       "        <td>49</td>\n",
       "        <td>2401</td>\n",
       "    </tr>\n",
       "    <tr>\n",
       "        <td>Vegie-spread</td>\n",
       "        <td>43</td>\n",
       "        <td>1849</td>\n",
       "    </tr>\n",
       "    <tr>\n",
       "        <td>Wimmers gute Semmelknödel</td>\n",
       "        <td>33</td>\n",
       "        <td>1089</td>\n",
       "    </tr>\n",
       "    <tr>\n",
       "        <td>Louisiana Fiery Hot Pepper Sauce</td>\n",
       "        <td>43</td>\n",
       "        <td>1849</td>\n",
       "    </tr>\n",
       "    <tr>\n",
       "        <td>Scottish Longbreads</td>\n",
       "        <td>45</td>\n",
       "        <td>2025</td>\n",
       "    </tr>\n",
       "    <tr>\n",
       "        <td>Gudbrandsdalsost</td>\n",
       "        <td>36</td>\n",
       "        <td>1296</td>\n",
       "    </tr>\n",
       "    <tr>\n",
       "        <td>Mozzarella di Giovanni</td>\n",
       "        <td>34</td>\n",
       "        <td>1156</td>\n",
       "    </tr>\n",
       "</table>"
      ],
      "text/plain": [
       "[('Northwoods Cranberry Sauce', 40, 1600),\n",
       " ('Mishi Kobe Niku', 97, 9409),\n",
       " ('Ikura', 31, 961),\n",
       " ('Queso Manchego La Pastora', 38, 1444),\n",
       " ('Genen Shouyu', 43, 1849),\n",
       " ('Alice Mutton', 39, 1521),\n",
       " ('Carnarvon Tigers', 62, 3844),\n",
       " ('Teatime Chocolate Biscuits', 43, 1849),\n",
       " (\"Sir Rodney's Marmalade\", 81, 6561),\n",
       " ('Guaraná Fantástica', 43, 1849),\n",
       " ('Gumbär Gummibärchen', 31, 961),\n",
       " ('Schoggi Schokolade', 43, 1849),\n",
       " ('Rössle Sauerkraut', 45, 2025),\n",
       " ('Thüringer Rostbratwurst', 123, 15129),\n",
       " ('Gorgonzola Telino', 435, 189225),\n",
       " ('Mascarpone Fabioli', 32, 1024),\n",
       " ('Geitost', 43, 1849),\n",
       " ('Côte de Blaye', 263, 69169),\n",
       " ('Boston Crab Meat', 43, 1849),\n",
       " ('Ipoh Coffee', 46, 2116),\n",
       " ('Røgede sild', 43, 1849),\n",
       " ('Zaanse koeken', 43, 1849),\n",
       " ('Manjimup Dried Apples', 53, 2809),\n",
       " ('Perth Pasties', 32, 1024),\n",
       " ('Gnocchi di nonna Alice', 38, 1444),\n",
       " ('Ravioli Angelo', 43, 1849),\n",
       " ('Raclette Courdavault', 55, 3025),\n",
       " ('Camembert Pierrot', 34, 1156),\n",
       " (\"Sirop d'érable\", 43, 1849),\n",
       " ('Tarte au sucre', 49, 2401),\n",
       " ('Vegie-spread', 43, 1849),\n",
       " ('Wimmers gute Semmelknödel', 33, 1089),\n",
       " ('Louisiana Fiery Hot Pepper Sauce', 43, 1849),\n",
       " ('Scottish Longbreads', 45, 2025),\n",
       " ('Gudbrandsdalsost', 36, 1296),\n",
       " ('Mozzarella di Giovanni', 34, 1156)]"
      ]
     },
     "execution_count": 282,
     "metadata": {},
     "output_type": "execute_result"
    }
   ],
   "source": [
    "%%sql\n",
    "SELECT ProductName as Name,Price as Price,Price*Price as Price_Square FROM Products WHERE Price > 30;"
   ]
  },
  {
   "cell_type": "markdown",
   "metadata": {},
   "source": [
    "# SQL ALIŞTIRMALARI III"
   ]
  },
  {
   "cell_type": "markdown",
   "metadata": {},
   "source": [
    "## 11. Products tablosundaki CategoryID’lerin yani kategorilerin isimleri nelerdir? "
   ]
  },
  {
   "cell_type": "code",
   "execution_count": 290,
   "metadata": {
    "collapsed": true,
    "jupyter": {
     "outputs_hidden": true
    }
   },
   "outputs": [
    {
     "name": "stdout",
     "output_type": "stream",
     "text": [
      " * sqlite:///DB_practice.db\n",
      "Done.\n"
     ]
    },
    {
     "data": {
      "text/html": [
       "<table>\n",
       "    <tr>\n",
       "        <th>ProductName</th>\n",
       "        <th>CategoryName</th>\n",
       "        <th>CategoryID</th>\n",
       "    </tr>\n",
       "    <tr>\n",
       "        <td>Chais</td>\n",
       "        <td>Beverages</td>\n",
       "        <td>1</td>\n",
       "    </tr>\n",
       "    <tr>\n",
       "        <td>Chang</td>\n",
       "        <td>Beverages</td>\n",
       "        <td>1</td>\n",
       "    </tr>\n",
       "    <tr>\n",
       "        <td>Aniseed Syrup</td>\n",
       "        <td>Condiments</td>\n",
       "        <td>2</td>\n",
       "    </tr>\n",
       "    <tr>\n",
       "        <td>Chef Anton&#x27;s Cajun Seasoning</td>\n",
       "        <td>Condiments</td>\n",
       "        <td>2</td>\n",
       "    </tr>\n",
       "    <tr>\n",
       "        <td>Chef Anton&#x27;s Gumbo Mix</td>\n",
       "        <td>Condiments</td>\n",
       "        <td>2</td>\n",
       "    </tr>\n",
       "    <tr>\n",
       "        <td>Grandma&#x27;s Boysenberry Spread</td>\n",
       "        <td>Condiments</td>\n",
       "        <td>2</td>\n",
       "    </tr>\n",
       "    <tr>\n",
       "        <td>Uncle Bob&#x27;s Organic Dried Pears</td>\n",
       "        <td>Produce</td>\n",
       "        <td>7</td>\n",
       "    </tr>\n",
       "    <tr>\n",
       "        <td>Northwoods Cranberry Sauce</td>\n",
       "        <td>Condiments</td>\n",
       "        <td>2</td>\n",
       "    </tr>\n",
       "    <tr>\n",
       "        <td>Mishi Kobe Niku</td>\n",
       "        <td>Meat/Poultry</td>\n",
       "        <td>6</td>\n",
       "    </tr>\n",
       "    <tr>\n",
       "        <td>Ikura</td>\n",
       "        <td>Seafood</td>\n",
       "        <td>8</td>\n",
       "    </tr>\n",
       "    <tr>\n",
       "        <td>Queso Cabrales</td>\n",
       "        <td>Dairy Products</td>\n",
       "        <td>4</td>\n",
       "    </tr>\n",
       "    <tr>\n",
       "        <td>Queso Manchego La Pastora</td>\n",
       "        <td>Dairy Products</td>\n",
       "        <td>4</td>\n",
       "    </tr>\n",
       "    <tr>\n",
       "        <td>Konbu</td>\n",
       "        <td>Seafood</td>\n",
       "        <td>8</td>\n",
       "    </tr>\n",
       "    <tr>\n",
       "        <td>Tofu</td>\n",
       "        <td>Produce</td>\n",
       "        <td>7</td>\n",
       "    </tr>\n",
       "    <tr>\n",
       "        <td>Genen Shouyu</td>\n",
       "        <td>Condiments</td>\n",
       "        <td>2</td>\n",
       "    </tr>\n",
       "    <tr>\n",
       "        <td>Pavlova</td>\n",
       "        <td>Confections</td>\n",
       "        <td>3</td>\n",
       "    </tr>\n",
       "    <tr>\n",
       "        <td>Alice Mutton</td>\n",
       "        <td>Meat/Poultry</td>\n",
       "        <td>6</td>\n",
       "    </tr>\n",
       "    <tr>\n",
       "        <td>Carnarvon Tigers</td>\n",
       "        <td>Seafood</td>\n",
       "        <td>8</td>\n",
       "    </tr>\n",
       "    <tr>\n",
       "        <td>Teatime Chocolate Biscuits</td>\n",
       "        <td>Confections</td>\n",
       "        <td>3</td>\n",
       "    </tr>\n",
       "    <tr>\n",
       "        <td>Sir Rodney&#x27;s Marmalade</td>\n",
       "        <td>Confections</td>\n",
       "        <td>3</td>\n",
       "    </tr>\n",
       "    <tr>\n",
       "        <td>Sir Rodney&#x27;s Scones</td>\n",
       "        <td>Confections</td>\n",
       "        <td>3</td>\n",
       "    </tr>\n",
       "    <tr>\n",
       "        <td>Gustaf&#x27;s Knäckebröd</td>\n",
       "        <td>Grains/Cereals</td>\n",
       "        <td>5</td>\n",
       "    </tr>\n",
       "    <tr>\n",
       "        <td>Tunnbröd</td>\n",
       "        <td>Grains/Cereals</td>\n",
       "        <td>5</td>\n",
       "    </tr>\n",
       "    <tr>\n",
       "        <td>Guaraná Fantástica</td>\n",
       "        <td>Beverages</td>\n",
       "        <td>1</td>\n",
       "    </tr>\n",
       "    <tr>\n",
       "        <td>NuNuCa Nuß-Nougat-Creme</td>\n",
       "        <td>Confections</td>\n",
       "        <td>3</td>\n",
       "    </tr>\n",
       "    <tr>\n",
       "        <td>Gumbär Gummibärchen</td>\n",
       "        <td>Confections</td>\n",
       "        <td>3</td>\n",
       "    </tr>\n",
       "    <tr>\n",
       "        <td>Schoggi Schokolade</td>\n",
       "        <td>Confections</td>\n",
       "        <td>3</td>\n",
       "    </tr>\n",
       "    <tr>\n",
       "        <td>Rössle Sauerkraut</td>\n",
       "        <td>Produce</td>\n",
       "        <td>7</td>\n",
       "    </tr>\n",
       "    <tr>\n",
       "        <td>Thüringer Rostbratwurst</td>\n",
       "        <td>Meat/Poultry</td>\n",
       "        <td>6</td>\n",
       "    </tr>\n",
       "    <tr>\n",
       "        <td>Nord-Ost Matjeshering</td>\n",
       "        <td>Seafood</td>\n",
       "        <td>8</td>\n",
       "    </tr>\n",
       "    <tr>\n",
       "        <td>Gorgonzola Telino</td>\n",
       "        <td>Dairy Products</td>\n",
       "        <td>4</td>\n",
       "    </tr>\n",
       "    <tr>\n",
       "        <td>Mascarpone Fabioli</td>\n",
       "        <td>Dairy Products</td>\n",
       "        <td>4</td>\n",
       "    </tr>\n",
       "    <tr>\n",
       "        <td>Geitost</td>\n",
       "        <td>Dairy Products</td>\n",
       "        <td>4</td>\n",
       "    </tr>\n",
       "    <tr>\n",
       "        <td>Sasquatch Ale</td>\n",
       "        <td>Beverages</td>\n",
       "        <td>1</td>\n",
       "    </tr>\n",
       "    <tr>\n",
       "        <td>Steeleye Stout</td>\n",
       "        <td>Beverages</td>\n",
       "        <td>1</td>\n",
       "    </tr>\n",
       "    <tr>\n",
       "        <td>Inlagd Sill</td>\n",
       "        <td>Seafood</td>\n",
       "        <td>8</td>\n",
       "    </tr>\n",
       "    <tr>\n",
       "        <td>Gravad lax</td>\n",
       "        <td>Seafood</td>\n",
       "        <td>8</td>\n",
       "    </tr>\n",
       "    <tr>\n",
       "        <td>Côte de Blaye</td>\n",
       "        <td>Beverages</td>\n",
       "        <td>1</td>\n",
       "    </tr>\n",
       "    <tr>\n",
       "        <td>Chartreuse verte</td>\n",
       "        <td>Beverages</td>\n",
       "        <td>1</td>\n",
       "    </tr>\n",
       "    <tr>\n",
       "        <td>Boston Crab Meat</td>\n",
       "        <td>Seafood</td>\n",
       "        <td>8</td>\n",
       "    </tr>\n",
       "    <tr>\n",
       "        <td>Jack&#x27;s New England Clam Chowder</td>\n",
       "        <td>Seafood</td>\n",
       "        <td>8</td>\n",
       "    </tr>\n",
       "    <tr>\n",
       "        <td>Singaporean Hokkien Fried Mee</td>\n",
       "        <td>Grains/Cereals</td>\n",
       "        <td>5</td>\n",
       "    </tr>\n",
       "    <tr>\n",
       "        <td>Ipoh Coffee</td>\n",
       "        <td>Beverages</td>\n",
       "        <td>1</td>\n",
       "    </tr>\n",
       "    <tr>\n",
       "        <td>Gula Malacca</td>\n",
       "        <td>Condiments</td>\n",
       "        <td>2</td>\n",
       "    </tr>\n",
       "    <tr>\n",
       "        <td>Røgede sild</td>\n",
       "        <td>Seafood</td>\n",
       "        <td>8</td>\n",
       "    </tr>\n",
       "    <tr>\n",
       "        <td>Spegesild</td>\n",
       "        <td>Seafood</td>\n",
       "        <td>8</td>\n",
       "    </tr>\n",
       "    <tr>\n",
       "        <td>Zaanse koeken</td>\n",
       "        <td>Confections</td>\n",
       "        <td>3</td>\n",
       "    </tr>\n",
       "    <tr>\n",
       "        <td>Chocolade</td>\n",
       "        <td>Confections</td>\n",
       "        <td>3</td>\n",
       "    </tr>\n",
       "    <tr>\n",
       "        <td>Maxilaku</td>\n",
       "        <td>Confections</td>\n",
       "        <td>3</td>\n",
       "    </tr>\n",
       "    <tr>\n",
       "        <td>Valkoinen suklaa</td>\n",
       "        <td>Confections</td>\n",
       "        <td>3</td>\n",
       "    </tr>\n",
       "    <tr>\n",
       "        <td>Manjimup Dried Apples</td>\n",
       "        <td>Produce</td>\n",
       "        <td>7</td>\n",
       "    </tr>\n",
       "    <tr>\n",
       "        <td>Filo Mix</td>\n",
       "        <td>Grains/Cereals</td>\n",
       "        <td>5</td>\n",
       "    </tr>\n",
       "    <tr>\n",
       "        <td>Perth Pasties</td>\n",
       "        <td>Meat/Poultry</td>\n",
       "        <td>6</td>\n",
       "    </tr>\n",
       "    <tr>\n",
       "        <td>Tourtière</td>\n",
       "        <td>Meat/Poultry</td>\n",
       "        <td>6</td>\n",
       "    </tr>\n",
       "    <tr>\n",
       "        <td>Pâté chinois</td>\n",
       "        <td>Meat/Poultry</td>\n",
       "        <td>6</td>\n",
       "    </tr>\n",
       "    <tr>\n",
       "        <td>Gnocchi di nonna Alice</td>\n",
       "        <td>Grains/Cereals</td>\n",
       "        <td>5</td>\n",
       "    </tr>\n",
       "    <tr>\n",
       "        <td>Ravioli Angelo</td>\n",
       "        <td>Grains/Cereals</td>\n",
       "        <td>5</td>\n",
       "    </tr>\n",
       "    <tr>\n",
       "        <td>Escargots de Bourgogne</td>\n",
       "        <td>Seafood</td>\n",
       "        <td>8</td>\n",
       "    </tr>\n",
       "    <tr>\n",
       "        <td>Raclette Courdavault</td>\n",
       "        <td>Dairy Products</td>\n",
       "        <td>4</td>\n",
       "    </tr>\n",
       "    <tr>\n",
       "        <td>Camembert Pierrot</td>\n",
       "        <td>Dairy Products</td>\n",
       "        <td>4</td>\n",
       "    </tr>\n",
       "    <tr>\n",
       "        <td>Sirop d&#x27;érable</td>\n",
       "        <td>Condiments</td>\n",
       "        <td>2</td>\n",
       "    </tr>\n",
       "    <tr>\n",
       "        <td>Tarte au sucre</td>\n",
       "        <td>Confections</td>\n",
       "        <td>3</td>\n",
       "    </tr>\n",
       "    <tr>\n",
       "        <td>Vegie-spread</td>\n",
       "        <td>Condiments</td>\n",
       "        <td>2</td>\n",
       "    </tr>\n",
       "    <tr>\n",
       "        <td>Wimmers gute Semmelknödel</td>\n",
       "        <td>Grains/Cereals</td>\n",
       "        <td>5</td>\n",
       "    </tr>\n",
       "    <tr>\n",
       "        <td>Louisiana Fiery Hot Pepper Sauce</td>\n",
       "        <td>Condiments</td>\n",
       "        <td>2</td>\n",
       "    </tr>\n",
       "    <tr>\n",
       "        <td>Louisiana Hot Spiced Okra</td>\n",
       "        <td>Condiments</td>\n",
       "        <td>2</td>\n",
       "    </tr>\n",
       "    <tr>\n",
       "        <td>Laughing Lumberjack Lager</td>\n",
       "        <td>Beverages</td>\n",
       "        <td>1</td>\n",
       "    </tr>\n",
       "    <tr>\n",
       "        <td>Scottish Longbreads</td>\n",
       "        <td>Confections</td>\n",
       "        <td>3</td>\n",
       "    </tr>\n",
       "    <tr>\n",
       "        <td>Gudbrandsdalsost</td>\n",
       "        <td>Dairy Products</td>\n",
       "        <td>4</td>\n",
       "    </tr>\n",
       "    <tr>\n",
       "        <td>Outback Lager</td>\n",
       "        <td>Beverages</td>\n",
       "        <td>1</td>\n",
       "    </tr>\n",
       "    <tr>\n",
       "        <td>Fløtemysost</td>\n",
       "        <td>Dairy Products</td>\n",
       "        <td>4</td>\n",
       "    </tr>\n",
       "    <tr>\n",
       "        <td>Mozzarella di Giovanni</td>\n",
       "        <td>Dairy Products</td>\n",
       "        <td>4</td>\n",
       "    </tr>\n",
       "    <tr>\n",
       "        <td>Röd Kaviar</td>\n",
       "        <td>Seafood</td>\n",
       "        <td>8</td>\n",
       "    </tr>\n",
       "    <tr>\n",
       "        <td>Longlife Tofu</td>\n",
       "        <td>Produce</td>\n",
       "        <td>7</td>\n",
       "    </tr>\n",
       "    <tr>\n",
       "        <td>Rhönbräu Klosterbier</td>\n",
       "        <td>Beverages</td>\n",
       "        <td>1</td>\n",
       "    </tr>\n",
       "    <tr>\n",
       "        <td>Lakkalikööri</td>\n",
       "        <td>Beverages</td>\n",
       "        <td>1</td>\n",
       "    </tr>\n",
       "    <tr>\n",
       "        <td>Original Frankfurter grüne Soße</td>\n",
       "        <td>Condiments</td>\n",
       "        <td>2</td>\n",
       "    </tr>\n",
       "</table>"
      ],
      "text/plain": [
       "[('Chais', 'Beverages', 1),\n",
       " ('Chang', 'Beverages', 1),\n",
       " ('Aniseed Syrup', 'Condiments', 2),\n",
       " (\"Chef Anton's Cajun Seasoning\", 'Condiments', 2),\n",
       " (\"Chef Anton's Gumbo Mix\", 'Condiments', 2),\n",
       " (\"Grandma's Boysenberry Spread\", 'Condiments', 2),\n",
       " (\"Uncle Bob's Organic Dried Pears\", 'Produce', 7),\n",
       " ('Northwoods Cranberry Sauce', 'Condiments', 2),\n",
       " ('Mishi Kobe Niku', 'Meat/Poultry', 6),\n",
       " ('Ikura', 'Seafood', 8),\n",
       " ('Queso Cabrales', 'Dairy Products', 4),\n",
       " ('Queso Manchego La Pastora', 'Dairy Products', 4),\n",
       " ('Konbu', 'Seafood', 8),\n",
       " ('Tofu', 'Produce', 7),\n",
       " ('Genen Shouyu', 'Condiments', 2),\n",
       " ('Pavlova', 'Confections', 3),\n",
       " ('Alice Mutton', 'Meat/Poultry', 6),\n",
       " ('Carnarvon Tigers', 'Seafood', 8),\n",
       " ('Teatime Chocolate Biscuits', 'Confections', 3),\n",
       " (\"Sir Rodney's Marmalade\", 'Confections', 3),\n",
       " (\"Sir Rodney's Scones\", 'Confections', 3),\n",
       " (\"Gustaf's Knäckebröd\", 'Grains/Cereals', 5),\n",
       " ('Tunnbröd', 'Grains/Cereals', 5),\n",
       " ('Guaraná Fantástica', 'Beverages', 1),\n",
       " ('NuNuCa Nuß-Nougat-Creme', 'Confections', 3),\n",
       " ('Gumbär Gummibärchen', 'Confections', 3),\n",
       " ('Schoggi Schokolade', 'Confections', 3),\n",
       " ('Rössle Sauerkraut', 'Produce', 7),\n",
       " ('Thüringer Rostbratwurst', 'Meat/Poultry', 6),\n",
       " ('Nord-Ost Matjeshering', 'Seafood', 8),\n",
       " ('Gorgonzola Telino', 'Dairy Products', 4),\n",
       " ('Mascarpone Fabioli', 'Dairy Products', 4),\n",
       " ('Geitost', 'Dairy Products', 4),\n",
       " ('Sasquatch Ale', 'Beverages', 1),\n",
       " ('Steeleye Stout', 'Beverages', 1),\n",
       " ('Inlagd Sill', 'Seafood', 8),\n",
       " ('Gravad lax', 'Seafood', 8),\n",
       " ('Côte de Blaye', 'Beverages', 1),\n",
       " ('Chartreuse verte', 'Beverages', 1),\n",
       " ('Boston Crab Meat', 'Seafood', 8),\n",
       " (\"Jack's New England Clam Chowder\", 'Seafood', 8),\n",
       " ('Singaporean Hokkien Fried Mee', 'Grains/Cereals', 5),\n",
       " ('Ipoh Coffee', 'Beverages', 1),\n",
       " ('Gula Malacca', 'Condiments', 2),\n",
       " ('Røgede sild', 'Seafood', 8),\n",
       " ('Spegesild', 'Seafood', 8),\n",
       " ('Zaanse koeken', 'Confections', 3),\n",
       " ('Chocolade', 'Confections', 3),\n",
       " ('Maxilaku', 'Confections', 3),\n",
       " ('Valkoinen suklaa', 'Confections', 3),\n",
       " ('Manjimup Dried Apples', 'Produce', 7),\n",
       " ('Filo Mix', 'Grains/Cereals', 5),\n",
       " ('Perth Pasties', 'Meat/Poultry', 6),\n",
       " ('Tourtière', 'Meat/Poultry', 6),\n",
       " ('Pâté chinois', 'Meat/Poultry', 6),\n",
       " ('Gnocchi di nonna Alice', 'Grains/Cereals', 5),\n",
       " ('Ravioli Angelo', 'Grains/Cereals', 5),\n",
       " ('Escargots de Bourgogne', 'Seafood', 8),\n",
       " ('Raclette Courdavault', 'Dairy Products', 4),\n",
       " ('Camembert Pierrot', 'Dairy Products', 4),\n",
       " (\"Sirop d'érable\", 'Condiments', 2),\n",
       " ('Tarte au sucre', 'Confections', 3),\n",
       " ('Vegie-spread', 'Condiments', 2),\n",
       " ('Wimmers gute Semmelknödel', 'Grains/Cereals', 5),\n",
       " ('Louisiana Fiery Hot Pepper Sauce', 'Condiments', 2),\n",
       " ('Louisiana Hot Spiced Okra', 'Condiments', 2),\n",
       " ('Laughing Lumberjack Lager', 'Beverages', 1),\n",
       " ('Scottish Longbreads', 'Confections', 3),\n",
       " ('Gudbrandsdalsost', 'Dairy Products', 4),\n",
       " ('Outback Lager', 'Beverages', 1),\n",
       " ('Fløtemysost', 'Dairy Products', 4),\n",
       " ('Mozzarella di Giovanni', 'Dairy Products', 4),\n",
       " ('Röd Kaviar', 'Seafood', 8),\n",
       " ('Longlife Tofu', 'Produce', 7),\n",
       " ('Rhönbräu Klosterbier', 'Beverages', 1),\n",
       " ('Lakkalikööri', 'Beverages', 1),\n",
       " ('Original Frankfurter grüne Soße', 'Condiments', 2)]"
      ]
     },
     "execution_count": 290,
     "metadata": {},
     "output_type": "execute_result"
    }
   ],
   "source": [
    "%%sql\n",
    "SELECT PR.ProductName, CA.CategoryName, CA.CategoryID FROM Products AS PR LEFT OUTER JOIN Categories AS CA ON PR.CategoryID = CA.CategoryID ;"
   ]
  },
  {
   "cell_type": "markdown",
   "metadata": {},
   "source": [
    "## 12. beverages ürün kategorisindeki ürünlerin fiyat ortalaması nedir?"
   ]
  },
  {
   "cell_type": "code",
   "execution_count": 294,
   "metadata": {},
   "outputs": [
    {
     "name": "stdout",
     "output_type": "stream",
     "text": [
      " * sqlite:///DB_practice.db\n",
      "Done.\n"
     ]
    },
    {
     "data": {
      "text/html": [
       "<table>\n",
       "    <tr>\n",
       "        <th>CategoryID</th>\n",
       "        <th>CategoryName</th>\n",
       "        <th>Description</th>\n",
       "    </tr>\n",
       "    <tr>\n",
       "        <td>1</td>\n",
       "        <td>Beverages</td>\n",
       "        <td>Soft drinks, coffees, teas, beers, and ales</td>\n",
       "    </tr>\n",
       "    <tr>\n",
       "        <td>2</td>\n",
       "        <td>Condiments</td>\n",
       "        <td>Sweet and savory sauces, relishes, spreads, and seasonings</td>\n",
       "    </tr>\n",
       "    <tr>\n",
       "        <td>3</td>\n",
       "        <td>Confections</td>\n",
       "        <td>Desserts, candies, and sweet breads</td>\n",
       "    </tr>\n",
       "    <tr>\n",
       "        <td>4</td>\n",
       "        <td>Dairy Products</td>\n",
       "        <td>Cheeses</td>\n",
       "    </tr>\n",
       "    <tr>\n",
       "        <td>5</td>\n",
       "        <td>Grains/Cereals</td>\n",
       "        <td>Breads, crackers, pasta, and cereal</td>\n",
       "    </tr>\n",
       "    <tr>\n",
       "        <td>6</td>\n",
       "        <td>Meat/Poultry</td>\n",
       "        <td>Prepared meats</td>\n",
       "    </tr>\n",
       "    <tr>\n",
       "        <td>7</td>\n",
       "        <td>Produce</td>\n",
       "        <td>Dried fruit and bean curd</td>\n",
       "    </tr>\n",
       "    <tr>\n",
       "        <td>8</td>\n",
       "        <td>Seafood</td>\n",
       "        <td>Seaweed and fish</td>\n",
       "    </tr>\n",
       "</table>"
      ],
      "text/plain": [
       "[(1, 'Beverages', 'Soft drinks, coffees, teas, beers, and ales'),\n",
       " (2, 'Condiments', 'Sweet and savory sauces, relishes, spreads, and seasonings'),\n",
       " (3, 'Confections', 'Desserts, candies, and sweet breads'),\n",
       " (4, 'Dairy Products', 'Cheeses'),\n",
       " (5, 'Grains/Cereals', 'Breads, crackers, pasta, and cereal'),\n",
       " (6, 'Meat/Poultry', 'Prepared meats'),\n",
       " (7, 'Produce', 'Dried fruit and bean curd'),\n",
       " (8, 'Seafood', 'Seaweed and fish')]"
      ]
     },
     "execution_count": 294,
     "metadata": {},
     "output_type": "execute_result"
    }
   ],
   "source": [
    "%%sql\n",
    "SELECT * FROM Categories;"
   ]
  },
  {
   "cell_type": "code",
   "execution_count": 298,
   "metadata": {},
   "outputs": [
    {
     "name": "stdout",
     "output_type": "stream",
     "text": [
      " * sqlite:///DB_practice.db\n",
      "Done.\n"
     ]
    },
    {
     "data": {
      "text/html": [
       "<table>\n",
       "    <tr>\n",
       "        <th>AVG(Price)</th>\n",
       "    </tr>\n",
       "    <tr>\n",
       "        <td>42.75</td>\n",
       "    </tr>\n",
       "</table>"
      ],
      "text/plain": [
       "[(42.75,)]"
      ]
     },
     "execution_count": 298,
     "metadata": {},
     "output_type": "execute_result"
    }
   ],
   "source": [
    "%%sql\n",
    "SELECT AVG(Price) FROM Products LEFT JOIN Categories on Products.CategoryID = categories.CategoryID  WHERE CategoryName = 'Beverages';"
   ]
  },
  {
   "cell_type": "markdown",
   "metadata": {},
   "source": [
    "## 13. USA'de yaşayan müşterilerin kazandırdığı toplam kazancı bulunuz."
   ]
  },
  {
   "cell_type": "code",
   "execution_count": 310,
   "metadata": {},
   "outputs": [
    {
     "name": "stdout",
     "output_type": "stream",
     "text": [
      " * sqlite:///DB_practice.db\n",
      "Done.\n"
     ]
    },
    {
     "data": {
      "text/html": [
       "<table>\n",
       "    <tr>\n",
       "        <th>SUM(p.Price)</th>\n",
       "    </tr>\n",
       "    <tr>\n",
       "        <td>3762</td>\n",
       "    </tr>\n",
       "</table>"
      ],
      "text/plain": [
       "[(3762,)]"
      ]
     },
     "execution_count": 310,
     "metadata": {},
     "output_type": "execute_result"
    }
   ],
   "source": [
    "%%sql \n",
    "SELECT SUM(p.Price) \n",
    "FROM Orders o \n",
    "LEFT JOIN OrderDetails od on o.OrderID = od.OrderID \n",
    "LEFT JOIN Products p on od.ProductID = p.ProductID \n",
    "LEFT JOIN Customers cu on o.CustomerID = cu.CustomerID where cu.Country = 'USA';"
   ]
  },
  {
   "cell_type": "markdown",
   "metadata": {},
   "source": [
    "## 14. Products tablosundaki CategoryID'lerin isimlerini bulunuz ve sonrasında kategori başına ortalama ürün fiyatını gösteriniz."
   ]
  },
  {
   "cell_type": "code",
   "execution_count": 323,
   "metadata": {},
   "outputs": [
    {
     "name": "stdout",
     "output_type": "stream",
     "text": [
      " * sqlite:///DB_practice.db\n",
      "Done.\n"
     ]
    },
    {
     "data": {
      "text/html": [
       "<table>\n",
       "    <tr>\n",
       "        <th>AVG(Price)</th>\n",
       "        <th>CategoryName</th>\n",
       "    </tr>\n",
       "    <tr>\n",
       "        <td>42.75</td>\n",
       "        <td>Beverages</td>\n",
       "    </tr>\n",
       "    <tr>\n",
       "        <td>28.25</td>\n",
       "        <td>Condiments</td>\n",
       "    </tr>\n",
       "    <tr>\n",
       "        <td>33.76923076923077</td>\n",
       "        <td>Confections</td>\n",
       "    </tr>\n",
       "    <tr>\n",
       "        <td>74.9</td>\n",
       "        <td>Dairy Products</td>\n",
       "    </tr>\n",
       "    <tr>\n",
       "        <td>23.571428571428573</td>\n",
       "        <td>Grains/Cereals</td>\n",
       "    </tr>\n",
       "    <tr>\n",
       "        <td>55.166666666666664</td>\n",
       "        <td>Meat/Poultry</td>\n",
       "    </tr>\n",
       "    <tr>\n",
       "        <td>32.2</td>\n",
       "        <td>Produce</td>\n",
       "    </tr>\n",
       "    <tr>\n",
       "        <td>26.5</td>\n",
       "        <td>Seafood</td>\n",
       "    </tr>\n",
       "</table>"
      ],
      "text/plain": [
       "[(42.75, 'Beverages'),\n",
       " (28.25, 'Condiments'),\n",
       " (33.76923076923077, 'Confections'),\n",
       " (74.9, 'Dairy Products'),\n",
       " (23.571428571428573, 'Grains/Cereals'),\n",
       " (55.166666666666664, 'Meat/Poultry'),\n",
       " (32.2, 'Produce'),\n",
       " (26.5, 'Seafood')]"
      ]
     },
     "execution_count": 323,
     "metadata": {},
     "output_type": "execute_result"
    }
   ],
   "source": [
    "%%sql\n",
    "SELECT AVG(Price), CategoryName \n",
    "FROM Products \n",
    "LEFT JOIN Categories on Products.CategoryID = Categories.CategoryID \n",
    "GROUP BY CategoryName;"
   ]
  },
  {
   "cell_type": "markdown",
   "metadata": {},
   "source": [
    "## 15. Çalışanları (EmployeeID) isimleri ile birlikte yaptıkları toplam satışlara göre sıralayınız."
   ]
  },
  {
   "cell_type": "code",
   "execution_count": 328,
   "metadata": {},
   "outputs": [
    {
     "name": "stdout",
     "output_type": "stream",
     "text": [
      " * sqlite:///DB_practice.db\n",
      "Done.\n"
     ]
    },
    {
     "data": {
      "text/html": [
       "<table>\n",
       "    <tr>\n",
       "        <th>FirstName</th>\n",
       "        <th>Total_Sales</th>\n",
       "    </tr>\n",
       "    <tr>\n",
       "        <td>Margaret</td>\n",
       "        <td>5515</td>\n",
       "    </tr>\n",
       "    <tr>\n",
       "        <td>Nancy</td>\n",
       "        <td>4353</td>\n",
       "    </tr>\n",
       "    <tr>\n",
       "        <td>Janet</td>\n",
       "        <td>3048</td>\n",
       "    </tr>\n",
       "    <tr>\n",
       "        <td>Michael</td>\n",
       "        <td>2981</td>\n",
       "    </tr>\n",
       "    <tr>\n",
       "        <td>Laura</td>\n",
       "        <td>2380</td>\n",
       "    </tr>\n",
       "    <tr>\n",
       "        <td>Robert</td>\n",
       "        <td>1852</td>\n",
       "    </tr>\n",
       "    <tr>\n",
       "        <td>Andrew</td>\n",
       "        <td>1550</td>\n",
       "    </tr>\n",
       "    <tr>\n",
       "        <td>Steven</td>\n",
       "        <td>1408</td>\n",
       "    </tr>\n",
       "    <tr>\n",
       "        <td>Anne</td>\n",
       "        <td>520</td>\n",
       "    </tr>\n",
       "</table>"
      ],
      "text/plain": [
       "[('Margaret', 5515),\n",
       " ('Nancy', 4353),\n",
       " ('Janet', 3048),\n",
       " ('Michael', 2981),\n",
       " ('Laura', 2380),\n",
       " ('Robert', 1852),\n",
       " ('Andrew', 1550),\n",
       " ('Steven', 1408),\n",
       " ('Anne', 520)]"
      ]
     },
     "execution_count": 328,
     "metadata": {},
     "output_type": "execute_result"
    }
   ],
   "source": [
    "%%sql\n",
    "SELECT em.FirstName, SUM(p.Price) Total_Sales \n",
    "FROM Orders o \n",
    "LEFT JOIN OrderDetails od on o.OrderID = od.OrderID \n",
    "LEFT JOIN Products p on od.ProductID = p.ProductID \n",
    "LEFT JOIN Employees em on o.EmployeeID = em.EmployeeID \n",
    "GROUP BY o.EmployeeID \n",
    "ORDER BY Total_Sales DESC;"
   ]
  },
  {
   "cell_type": "markdown",
   "metadata": {},
   "source": [
    "# SQL ALIŞTIRMALARI IV"
   ]
  },
  {
   "cell_type": "markdown",
   "metadata": {},
   "source": [
    "## 16. Germany'dan verilen siparişlerin kategorilerine göre ortalama fiyatları nelerdir?"
   ]
  },
  {
   "cell_type": "code",
   "execution_count": 331,
   "metadata": {},
   "outputs": [
    {
     "name": "stdout",
     "output_type": "stream",
     "text": [
      " * sqlite:///DB_practice.db\n",
      "Done.\n"
     ]
    },
    {
     "data": {
      "text/html": [
       "<table>\n",
       "    <tr>\n",
       "        <th>CategoryName</th>\n",
       "        <th>AVG(p.Price)</th>\n",
       "        <th>City</th>\n",
       "    </tr>\n",
       "    <tr>\n",
       "        <td>Beverages</td>\n",
       "        <td>20.5</td>\n",
       "        <td>München</td>\n",
       "    </tr>\n",
       "    <tr>\n",
       "        <td>Condiments</td>\n",
       "        <td>34.0</td>\n",
       "        <td>Frankfurt a.M.</td>\n",
       "    </tr>\n",
       "    <tr>\n",
       "        <td>Confections</td>\n",
       "        <td>40.0</td>\n",
       "        <td>Leipzig</td>\n",
       "    </tr>\n",
       "    <tr>\n",
       "        <td>Dairy Products</td>\n",
       "        <td>151.64705882352942</td>\n",
       "        <td>München</td>\n",
       "    </tr>\n",
       "    <tr>\n",
       "        <td>Grains/Cereals</td>\n",
       "        <td>22.142857142857142</td>\n",
       "        <td>Stuttgart</td>\n",
       "    </tr>\n",
       "    <tr>\n",
       "        <td>Meat/Poultry</td>\n",
       "        <td>30.2</td>\n",
       "        <td>Frankfurt a.M.</td>\n",
       "    </tr>\n",
       "    <tr>\n",
       "        <td>Produce</td>\n",
       "        <td>30.75</td>\n",
       "        <td>Leipzig</td>\n",
       "    </tr>\n",
       "    <tr>\n",
       "        <td>Seafood</td>\n",
       "        <td>27.09090909090909</td>\n",
       "        <td>München</td>\n",
       "    </tr>\n",
       "</table>"
      ],
      "text/plain": [
       "[('Beverages', 20.5, 'München'),\n",
       " ('Condiments', 34.0, 'Frankfurt a.M.'),\n",
       " ('Confections', 40.0, 'Leipzig'),\n",
       " ('Dairy Products', 151.64705882352942, 'München'),\n",
       " ('Grains/Cereals', 22.142857142857142, 'Stuttgart'),\n",
       " ('Meat/Poultry', 30.2, 'Frankfurt a.M.'),\n",
       " ('Produce', 30.75, 'Leipzig'),\n",
       " ('Seafood', 27.09090909090909, 'München')]"
      ]
     },
     "execution_count": 331,
     "metadata": {},
     "output_type": "execute_result"
    }
   ],
   "source": [
    "%%sql\n",
    "SELECT ca.CategoryName, AVG(p.Price), cu.City\n",
    "FROM Orders o \n",
    "LEFT JOIN OrderDetails od on o.OrderID = od.OrderID \n",
    "LEFT JOIN Products p on od.ProductID = p.ProductID \n",
    "LEFT JOIN Categories ca on p.CategoryID = ca.CategoryID \n",
    "LEFT JOIN Customers cu on o.CustomerID = cu.CustomerID \n",
    "WHERE cu.Country = 'Germany' GROUP BY CategoryName;"
   ]
  },
  {
   "cell_type": "markdown",
   "metadata": {},
   "source": [
    "## 17. Almanya ya da USA'den verilen siparişlerin kategorilerine göre ortalama fiyatları nelerdir?"
   ]
  },
  {
   "cell_type": "code",
   "execution_count": 335,
   "metadata": {},
   "outputs": [
    {
     "name": "stdout",
     "output_type": "stream",
     "text": [
      " * sqlite:///DB_practice.db\n",
      "Done.\n"
     ]
    },
    {
     "data": {
      "text/html": [
       "<table>\n",
       "    <tr>\n",
       "        <th>CategoryName</th>\n",
       "        <th>AVG(p.Price)</th>\n",
       "        <th>City</th>\n",
       "        <th>Country</th>\n",
       "    </tr>\n",
       "    <tr>\n",
       "        <td>Dairy Products</td>\n",
       "        <td>131.75862068965517</td>\n",
       "        <td>München</td>\n",
       "        <td>Germany</td>\n",
       "    </tr>\n",
       "    <tr>\n",
       "        <td>Meat/Poultry</td>\n",
       "        <td>46.75</td>\n",
       "        <td>Frankfurt a.M.</td>\n",
       "        <td>Germany</td>\n",
       "    </tr>\n",
       "    <tr>\n",
       "        <td>Confections</td>\n",
       "        <td>39.92307692307692</td>\n",
       "        <td>Anchorage</td>\n",
       "        <td>USA</td>\n",
       "    </tr>\n",
       "    <tr>\n",
       "        <td>Condiments</td>\n",
       "        <td>34.72727272727273</td>\n",
       "        <td>Albuquerque</td>\n",
       "        <td>USA</td>\n",
       "    </tr>\n",
       "    <tr>\n",
       "        <td>Beverages</td>\n",
       "        <td>29.88888888888889</td>\n",
       "        <td>Anchorage</td>\n",
       "        <td>USA</td>\n",
       "    </tr>\n",
       "    <tr>\n",
       "        <td>Grains/Cereals</td>\n",
       "        <td>29.846153846153847</td>\n",
       "        <td>Anchorage</td>\n",
       "        <td>USA</td>\n",
       "    </tr>\n",
       "    <tr>\n",
       "        <td>Produce</td>\n",
       "        <td>28.625</td>\n",
       "        <td>Albuquerque</td>\n",
       "        <td>USA</td>\n",
       "    </tr>\n",
       "    <tr>\n",
       "        <td>Seafood</td>\n",
       "        <td>25.6</td>\n",
       "        <td>Anchorage</td>\n",
       "        <td>USA</td>\n",
       "    </tr>\n",
       "</table>"
      ],
      "text/plain": [
       "[('Dairy Products', 131.75862068965517, 'München', 'Germany'),\n",
       " ('Meat/Poultry', 46.75, 'Frankfurt a.M.', 'Germany'),\n",
       " ('Confections', 39.92307692307692, 'Anchorage', 'USA'),\n",
       " ('Condiments', 34.72727272727273, 'Albuquerque', 'USA'),\n",
       " ('Beverages', 29.88888888888889, 'Anchorage', 'USA'),\n",
       " ('Grains/Cereals', 29.846153846153847, 'Anchorage', 'USA'),\n",
       " ('Produce', 28.625, 'Albuquerque', 'USA'),\n",
       " ('Seafood', 25.6, 'Anchorage', 'USA')]"
      ]
     },
     "execution_count": 335,
     "metadata": {},
     "output_type": "execute_result"
    }
   ],
   "source": [
    "%%sql\n",
    "SELECT ca.CategoryName, AVG(p.Price), cu.City, cu.Country\n",
    "FROM Orders o \n",
    "LEFT JOIN OrderDetails od on o.OrderID = od.OrderID \n",
    "LEFT JOIN Products p on od.ProductID = p.ProductID \n",
    "LEFT JOIN Categories ca on p.CategoryID = ca.CategoryID \n",
    "LEFT JOIN Customers cu on o.CustomerID = cu.CustomerID \n",
    "WHERE cu.Country IN ('Germany','USA') GROUP BY CategoryName\n",
    "ORDER BY AVG(p.Price) DESC ;"
   ]
  },
  {
   "cell_type": "markdown",
   "metadata": {},
   "source": [
    "## 18. Haziran Temmuz Ağustos aylarında verilen siparişlerin ortalama fiyatı nedir?"
   ]
  },
  {
   "cell_type": "code",
   "execution_count": 340,
   "metadata": {},
   "outputs": [
    {
     "name": "stdout",
     "output_type": "stream",
     "text": [
      " * sqlite:///DB_practice.db\n",
      "Done.\n"
     ]
    },
    {
     "data": {
      "text/html": [
       "<table>\n",
       "    <tr>\n",
       "        <th>AVG(Products.Price)</th>\n",
       "    </tr>\n",
       "    <tr>\n",
       "        <td>39.71891891891892</td>\n",
       "    </tr>\n",
       "</table>"
      ],
      "text/plain": [
       "[(39.71891891891892,)]"
      ]
     },
     "execution_count": 340,
     "metadata": {},
     "output_type": "execute_result"
    }
   ],
   "source": [
    "%%sql\n",
    "SELECT AVG(Products.Price) \n",
    "FROM Products \n",
    "LEFT JOIN OrderDetails on OrderDetails.ProductID = products.ProductID \n",
    "LEFT JOIN Orders on OrderDetails.OrderID = Orders.OrderID \n",
    "WHERE OrderDate like '%07%' or OrderDate like '%08%' or OrderDate like '%09%';"
   ]
  },
  {
   "cell_type": "markdown",
   "metadata": {},
   "source": [
    "## 19. Müşterilerin 1997 yılına ait siparişlerinin maksimum miktarlarını bulup müşterilerin isimleri ile birlikte büyükten küçüğe sıralayınız."
   ]
  },
  {
   "cell_type": "code",
   "execution_count": 342,
   "metadata": {},
   "outputs": [
    {
     "name": "stdout",
     "output_type": "stream",
     "text": [
      " * sqlite:///DB_practice.db\n",
      "Done.\n"
     ]
    },
    {
     "data": {
      "text/html": [
       "<table>\n",
       "    <tr>\n",
       "        <th>CustomerName</th>\n",
       "        <th>maks</th>\n",
       "    </tr>\n",
       "    <tr>\n",
       "        <td>Gourmet Lanchonetes</td>\n",
       "        <td>435</td>\n",
       "    </tr>\n",
       "    <tr>\n",
       "        <td>Simons bistro</td>\n",
       "        <td>263</td>\n",
       "    </tr>\n",
       "    <tr>\n",
       "        <td>Mère Paillarde</td>\n",
       "        <td>263</td>\n",
       "    </tr>\n",
       "    <tr>\n",
       "        <td>Save-a-lot Markets</td>\n",
       "        <td>123</td>\n",
       "    </tr>\n",
       "    <tr>\n",
       "        <td>Eastern Connection</td>\n",
       "        <td>123</td>\n",
       "    </tr>\n",
       "    <tr>\n",
       "        <td>Wellington Importadora</td>\n",
       "        <td>97</td>\n",
       "    </tr>\n",
       "    <tr>\n",
       "        <td>Ernst Handel</td>\n",
       "        <td>55</td>\n",
       "    </tr>\n",
       "    <tr>\n",
       "        <td>Bottom-Dollar Marketse</td>\n",
       "        <td>55</td>\n",
       "    </tr>\n",
       "    <tr>\n",
       "        <td>La maison d&#x27;Asie</td>\n",
       "        <td>49</td>\n",
       "    </tr>\n",
       "    <tr>\n",
       "        <td>Folies gourmandes</td>\n",
       "        <td>49</td>\n",
       "    </tr>\n",
       "    <tr>\n",
       "        <td>Reggiani Caseifici</td>\n",
       "        <td>45</td>\n",
       "    </tr>\n",
       "    <tr>\n",
       "        <td>Queen Cozinha</td>\n",
       "        <td>45</td>\n",
       "    </tr>\n",
       "    <tr>\n",
       "        <td>Wartian Herkku</td>\n",
       "        <td>43</td>\n",
       "    </tr>\n",
       "    <tr>\n",
       "        <td>Toms Spezialitäten</td>\n",
       "        <td>43</td>\n",
       "    </tr>\n",
       "    <tr>\n",
       "        <td>Rattlesnake Canyon Grocery</td>\n",
       "        <td>43</td>\n",
       "    </tr>\n",
       "    <tr>\n",
       "        <td>Que Delícia</td>\n",
       "        <td>43</td>\n",
       "    </tr>\n",
       "    <tr>\n",
       "        <td>QUICK-Stop</td>\n",
       "        <td>43</td>\n",
       "    </tr>\n",
       "    <tr>\n",
       "        <td>Old World Delicatessen</td>\n",
       "        <td>43</td>\n",
       "    </tr>\n",
       "    <tr>\n",
       "        <td>Hungry Owl All-Night Grocers</td>\n",
       "        <td>43</td>\n",
       "    </tr>\n",
       "    <tr>\n",
       "        <td>Hungry Coyote Import Store</td>\n",
       "        <td>43</td>\n",
       "    </tr>\n",
       "    <tr>\n",
       "        <td>Familia Arquibaldo</td>\n",
       "        <td>43</td>\n",
       "    </tr>\n",
       "    <tr>\n",
       "        <td>Princesa Isabel Vinhoss</td>\n",
       "        <td>38</td>\n",
       "    </tr>\n",
       "    <tr>\n",
       "        <td>Galería del gastrónomo</td>\n",
       "        <td>38</td>\n",
       "    </tr>\n",
       "    <tr>\n",
       "        <td>Blondel père et fils</td>\n",
       "        <td>38</td>\n",
       "    </tr>\n",
       "    <tr>\n",
       "        <td>Richter Supermarkt</td>\n",
       "        <td>36</td>\n",
       "    </tr>\n",
       "    <tr>\n",
       "        <td>Ottilies Käseladen</td>\n",
       "        <td>36</td>\n",
       "    </tr>\n",
       "    <tr>\n",
       "        <td>Consolidated Holdings</td>\n",
       "        <td>34</td>\n",
       "    </tr>\n",
       "    <tr>\n",
       "        <td>Split Rail Beer &amp; Ale</td>\n",
       "        <td>31</td>\n",
       "    </tr>\n",
       "    <tr>\n",
       "        <td>Magazzini Alimentari Riuniti</td>\n",
       "        <td>31</td>\n",
       "    </tr>\n",
       "    <tr>\n",
       "        <td>Franchi S.p.A.</td>\n",
       "        <td>31</td>\n",
       "    </tr>\n",
       "    <tr>\n",
       "        <td>Piccolo und mehr</td>\n",
       "        <td>23</td>\n",
       "    </tr>\n",
       "    <tr>\n",
       "        <td>Océano Atlántico Ltda.</td>\n",
       "        <td>23</td>\n",
       "    </tr>\n",
       "    <tr>\n",
       "        <td>Folk och fä HB</td>\n",
       "        <td>21</td>\n",
       "    </tr>\n",
       "    <tr>\n",
       "        <td>LINO-Delicateses</td>\n",
       "        <td>10</td>\n",
       "    </tr>\n",
       "</table>"
      ],
      "text/plain": [
       "[('Gourmet Lanchonetes', 435),\n",
       " ('Simons bistro', 263),\n",
       " ('Mère Paillarde', 263),\n",
       " ('Save-a-lot Markets', 123),\n",
       " ('Eastern Connection', 123),\n",
       " ('Wellington Importadora', 97),\n",
       " ('Ernst Handel', 55),\n",
       " ('Bottom-Dollar Marketse', 55),\n",
       " (\"La maison d'Asie\", 49),\n",
       " ('Folies gourmandes', 49),\n",
       " ('Reggiani Caseifici', 45),\n",
       " ('Queen Cozinha', 45),\n",
       " ('Wartian Herkku', 43),\n",
       " ('Toms Spezialitäten', 43),\n",
       " ('Rattlesnake Canyon Grocery', 43),\n",
       " ('Que Delícia', 43),\n",
       " ('QUICK-Stop', 43),\n",
       " ('Old World Delicatessen', 43),\n",
       " ('Hungry Owl All-Night Grocers', 43),\n",
       " ('Hungry Coyote Import Store', 43),\n",
       " ('Familia Arquibaldo', 43),\n",
       " ('Princesa Isabel Vinhoss', 38),\n",
       " ('Galería del gastrónomo', 38),\n",
       " ('Blondel père et fils', 38),\n",
       " ('Richter Supermarkt', 36),\n",
       " ('Ottilies Käseladen', 36),\n",
       " ('Consolidated Holdings', 34),\n",
       " ('Split Rail Beer & Ale', 31),\n",
       " ('Magazzini Alimentari Riuniti', 31),\n",
       " ('Franchi S.p.A.', 31),\n",
       " ('Piccolo und mehr', 23),\n",
       " ('Océano Atlántico Ltda.', 23),\n",
       " ('Folk och fä HB', 21),\n",
       " ('LINO-Delicateses', 10)]"
      ]
     },
     "execution_count": 342,
     "metadata": {},
     "output_type": "execute_result"
    }
   ],
   "source": [
    "%%sql\n",
    "SELECT CustomerName, MAX(Price) maks \n",
    "FROM Products \n",
    "LEFT JOIN OrderDetails on Products.ProductID = OrderDetails.ProductID \n",
    "LEFT JOIN Orders on OrderDetails.OrderID = Orders.OrderID \n",
    "LEFT JOIN Customers on Customers.CustomerID = Orders.CustomerID \n",
    "WHERE OrderDate like '%1997%' \n",
    "GROUP BY CustomerName ORDER BY maks DESC;"
   ]
  },
  {
   "cell_type": "markdown",
   "metadata": {},
   "source": [
    "## 20. Sipariş yılı 1997 olan siparişleri alan çalışanları sipariş alma sayılarına göre sıralayınız."
   ]
  },
  {
   "cell_type": "code",
   "execution_count": 345,
   "metadata": {},
   "outputs": [
    {
     "name": "stdout",
     "output_type": "stream",
     "text": [
      " * sqlite:///DB_practice.db\n",
      "Done.\n"
     ]
    },
    {
     "data": {
      "text/html": [
       "<table>\n",
       "    <tr>\n",
       "        <th>n</th>\n",
       "        <th>FirstName</th>\n",
       "    </tr>\n",
       "    <tr>\n",
       "        <td>13</td>\n",
       "        <td>Janet</td>\n",
       "    </tr>\n",
       "    <tr>\n",
       "        <td>9</td>\n",
       "        <td>Margaret</td>\n",
       "    </tr>\n",
       "    <tr>\n",
       "        <td>8</td>\n",
       "        <td>Laura</td>\n",
       "    </tr>\n",
       "    <tr>\n",
       "        <td>4</td>\n",
       "        <td>Andrew</td>\n",
       "    </tr>\n",
       "    <tr>\n",
       "        <td>3</td>\n",
       "        <td>Robert</td>\n",
       "    </tr>\n",
       "    <tr>\n",
       "        <td>3</td>\n",
       "        <td>Nancy</td>\n",
       "    </tr>\n",
       "    <tr>\n",
       "        <td>3</td>\n",
       "        <td>Michael</td>\n",
       "    </tr>\n",
       "    <tr>\n",
       "        <td>1</td>\n",
       "        <td>Anne</td>\n",
       "    </tr>\n",
       "</table>"
      ],
      "text/plain": [
       "[(13, 'Janet'),\n",
       " (9, 'Margaret'),\n",
       " (8, 'Laura'),\n",
       " (4, 'Andrew'),\n",
       " (3, 'Robert'),\n",
       " (3, 'Nancy'),\n",
       " (3, 'Michael'),\n",
       " (1, 'Anne')]"
      ]
     },
     "execution_count": 345,
     "metadata": {},
     "output_type": "execute_result"
    }
   ],
   "source": [
    "%%sql\n",
    "SELECT COUNT(*) n, em.FirstName \n",
    "FROM Orders \n",
    "LEFT JOIN Employees em on Orders.EmployeeID = em.EmployeeID \n",
    "WHERE OrderDate like '%1997%' \n",
    "GROUP BY em.FirstName \n",
    "ORDER by n DESC;"
   ]
  },
  {
   "cell_type": "code",
   "execution_count": null,
   "metadata": {},
   "outputs": [],
   "source": []
  }
 ],
 "metadata": {
  "kernelspec": {
   "display_name": "Python 3",
   "language": "python",
   "name": "python3"
  },
  "language_info": {
   "codemirror_mode": {
    "name": "ipython",
    "version": 3
   },
   "file_extension": ".py",
   "mimetype": "text/x-python",
   "name": "python",
   "nbconvert_exporter": "python",
   "pygments_lexer": "ipython3",
   "version": "3.7.7"
  }
 },
 "nbformat": 4,
 "nbformat_minor": 4
}
